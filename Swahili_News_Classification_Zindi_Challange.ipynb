{
  "cells": [
    {
      "cell_type": "markdown",
      "metadata": {
        "id": "view-in-github",
        "colab_type": "text"
      },
      "source": [
        "<a href=\"https://colab.research.google.com/github/BrendaChepkoech/Swahili-News-Classification-Zindi-Challange/blob/main/Swahili_News_Classification_Zindi_Challange.ipynb\" target=\"_parent\"><img src=\"https://colab.research.google.com/assets/colab-badge.svg\" alt=\"Open In Colab\"/></a>"
      ]
    },
    {
      "cell_type": "markdown",
      "metadata": {
        "id": "_ZINk_TNosDy"
      },
      "source": [
        "# ZERO TO HERO SWAHILI NEWS CLASSIFICATION USING NLP"
      ]
    },
    {
      "cell_type": "markdown",
      "metadata": {
        "id": "I5aBLEL7a9_D"
      },
      "source": [
        "##Business Understanding\n",
        "\n",
        "Swahili is spoken by 100-150 million people across East Africa. In Tanzania, it is one of two national languages (the other is English) and it is the official language of instruction in all schools. News in Swahili is an important part of the media sphere in Tanzania.\n",
        "\n",
        "News contributes to education, technology, and the economic growth of a country, and news in local languages plays an important cultural role in many Africa countries. In the modern age, African languages in news and other spheres are at risk of being lost as English becomes the dominant language in online spaces."
      ]
    },
    {
      "cell_type": "markdown",
      "metadata": {
        "id": "HkkE2tdY5Po5"
      },
      "source": [
        "## Objective \n",
        "\n",
        "The objective of this hackathon is to develop a multi-class classification model to classify news content according to their specific categories specified.The model can be used by Swahili online news platforms to automatically group news according to their categories and help readers find the specific news they want to read. In addition, the model will contribute to a body of work ensuring that Swahili is represented in apps and other online products in the future."
      ]
    },
    {
      "cell_type": "markdown",
      "metadata": {
        "id": "HFom31iA5aFw"
      },
      "source": [
        "## Defining the Metric for Success\n",
        "\n",
        "The creation of a model that can classify news content according to their specific categories specified. The F1 score for the model should be above 80% in predicting which category the news belongs"
      ]
    },
    {
      "cell_type": "markdown",
      "metadata": {
        "id": "a_tc8WqO5yvx"
      },
      "source": [
        "## Recording the Experimental Design\n",
        "\n",
        "1. Loading libraries\n",
        "2. Loading data\n",
        "3. Reading data\n",
        "4. Cleaning data\n",
        "5. EDA\n",
        "6. Feature Eng and Preprocessing\n",
        "7. Modeling \n",
        "8. Optimization and model evaluation \n",
        "9. Conclusions and recommedations\n"
      ]
    },
    {
      "cell_type": "markdown",
      "metadata": {
        "id": "L8sGD6qB7Tcx"
      },
      "source": [
        "## Dataset\n",
        "\n",
        "The dataset was obtained from zindi website\n",
        "\n",
        "https://zindi.africa/competitions/swahili-news-classification/data"
      ]
    },
    {
      "cell_type": "markdown",
      "metadata": {
        "id": "frUggEQF7gYK"
      },
      "source": [
        "## Data Exploration"
      ]
    },
    {
      "cell_type": "code",
      "execution_count": 1,
      "metadata": {
        "id": "p7oTN5NFoV8g"
      },
      "outputs": [],
      "source": [
        "#Importing our libraries \n",
        "import pandas as pd\n",
        "import numpy as np\n",
        "import matplotlib.pyplot as plt\n",
        "import seaborn as sb\n",
        "import warnings\n",
        "import re\n",
        "import string\n",
        "from wordcloud import WordCloud\n",
        "warnings.filterwarnings('ignore')\n",
        "\n"
      ]
    },
    {
      "cell_type": "code",
      "execution_count": 2,
      "metadata": {
        "id": "tcSqcjwYojgI"
      },
      "outputs": [],
      "source": [
        "#reading the csv files \n",
        "train = pd.read_csv('Train.csv')\n",
        "test = pd.read_csv('Test.csv')"
      ]
    },
    {
      "cell_type": "code",
      "execution_count": 3,
      "metadata": {
        "colab": {
          "base_uri": "https://localhost:8080/",
          "height": 206
        },
        "id": "0qOFqbfgpAA4",
        "outputId": "bc93ec37-bf14-463c-b91f-cadb3565914f"
      },
      "outputs": [
        {
          "output_type": "execute_result",
          "data": {
            "text/plain": [
              "       id                                            content  category\n",
              "0     SW0   SERIKALI imesema haitakuwa tayari kuona amani...   Kitaifa\n",
              "1     SW1   Mkuu wa Mkoa wa Tabora, Aggrey Mwanri amesiti...  Biashara\n",
              "2    SW10   SERIKALI imetoa miezi sita kwa taasisi zote z...   Kitaifa\n",
              "3   SW100   KAMPUNI ya mchezo wa kubahatisha ya M-bet ime...   michezo\n",
              "4  SW1000   WATANZANIA wamekumbushwa kusherehekea sikukuu...   Kitaifa"
            ],
            "text/html": [
              "\n",
              "  <div id=\"df-fef524a0-0891-4bfc-920e-7f659086f97f\">\n",
              "    <div class=\"colab-df-container\">\n",
              "      <div>\n",
              "<style scoped>\n",
              "    .dataframe tbody tr th:only-of-type {\n",
              "        vertical-align: middle;\n",
              "    }\n",
              "\n",
              "    .dataframe tbody tr th {\n",
              "        vertical-align: top;\n",
              "    }\n",
              "\n",
              "    .dataframe thead th {\n",
              "        text-align: right;\n",
              "    }\n",
              "</style>\n",
              "<table border=\"1\" class=\"dataframe\">\n",
              "  <thead>\n",
              "    <tr style=\"text-align: right;\">\n",
              "      <th></th>\n",
              "      <th>id</th>\n",
              "      <th>content</th>\n",
              "      <th>category</th>\n",
              "    </tr>\n",
              "  </thead>\n",
              "  <tbody>\n",
              "    <tr>\n",
              "      <th>0</th>\n",
              "      <td>SW0</td>\n",
              "      <td>SERIKALI imesema haitakuwa tayari kuona amani...</td>\n",
              "      <td>Kitaifa</td>\n",
              "    </tr>\n",
              "    <tr>\n",
              "      <th>1</th>\n",
              "      <td>SW1</td>\n",
              "      <td>Mkuu wa Mkoa wa Tabora, Aggrey Mwanri amesiti...</td>\n",
              "      <td>Biashara</td>\n",
              "    </tr>\n",
              "    <tr>\n",
              "      <th>2</th>\n",
              "      <td>SW10</td>\n",
              "      <td>SERIKALI imetoa miezi sita kwa taasisi zote z...</td>\n",
              "      <td>Kitaifa</td>\n",
              "    </tr>\n",
              "    <tr>\n",
              "      <th>3</th>\n",
              "      <td>SW100</td>\n",
              "      <td>KAMPUNI ya mchezo wa kubahatisha ya M-bet ime...</td>\n",
              "      <td>michezo</td>\n",
              "    </tr>\n",
              "    <tr>\n",
              "      <th>4</th>\n",
              "      <td>SW1000</td>\n",
              "      <td>WATANZANIA wamekumbushwa kusherehekea sikukuu...</td>\n",
              "      <td>Kitaifa</td>\n",
              "    </tr>\n",
              "  </tbody>\n",
              "</table>\n",
              "</div>\n",
              "      <button class=\"colab-df-convert\" onclick=\"convertToInteractive('df-fef524a0-0891-4bfc-920e-7f659086f97f')\"\n",
              "              title=\"Convert this dataframe to an interactive table.\"\n",
              "              style=\"display:none;\">\n",
              "        \n",
              "  <svg xmlns=\"http://www.w3.org/2000/svg\" height=\"24px\"viewBox=\"0 0 24 24\"\n",
              "       width=\"24px\">\n",
              "    <path d=\"M0 0h24v24H0V0z\" fill=\"none\"/>\n",
              "    <path d=\"M18.56 5.44l.94 2.06.94-2.06 2.06-.94-2.06-.94-.94-2.06-.94 2.06-2.06.94zm-11 1L8.5 8.5l.94-2.06 2.06-.94-2.06-.94L8.5 2.5l-.94 2.06-2.06.94zm10 10l.94 2.06.94-2.06 2.06-.94-2.06-.94-.94-2.06-.94 2.06-2.06.94z\"/><path d=\"M17.41 7.96l-1.37-1.37c-.4-.4-.92-.59-1.43-.59-.52 0-1.04.2-1.43.59L10.3 9.45l-7.72 7.72c-.78.78-.78 2.05 0 2.83L4 21.41c.39.39.9.59 1.41.59.51 0 1.02-.2 1.41-.59l7.78-7.78 2.81-2.81c.8-.78.8-2.07 0-2.86zM5.41 20L4 18.59l7.72-7.72 1.47 1.35L5.41 20z\"/>\n",
              "  </svg>\n",
              "      </button>\n",
              "      \n",
              "  <style>\n",
              "    .colab-df-container {\n",
              "      display:flex;\n",
              "      flex-wrap:wrap;\n",
              "      gap: 12px;\n",
              "    }\n",
              "\n",
              "    .colab-df-convert {\n",
              "      background-color: #E8F0FE;\n",
              "      border: none;\n",
              "      border-radius: 50%;\n",
              "      cursor: pointer;\n",
              "      display: none;\n",
              "      fill: #1967D2;\n",
              "      height: 32px;\n",
              "      padding: 0 0 0 0;\n",
              "      width: 32px;\n",
              "    }\n",
              "\n",
              "    .colab-df-convert:hover {\n",
              "      background-color: #E2EBFA;\n",
              "      box-shadow: 0px 1px 2px rgba(60, 64, 67, 0.3), 0px 1px 3px 1px rgba(60, 64, 67, 0.15);\n",
              "      fill: #174EA6;\n",
              "    }\n",
              "\n",
              "    [theme=dark] .colab-df-convert {\n",
              "      background-color: #3B4455;\n",
              "      fill: #D2E3FC;\n",
              "    }\n",
              "\n",
              "    [theme=dark] .colab-df-convert:hover {\n",
              "      background-color: #434B5C;\n",
              "      box-shadow: 0px 1px 3px 1px rgba(0, 0, 0, 0.15);\n",
              "      filter: drop-shadow(0px 1px 2px rgba(0, 0, 0, 0.3));\n",
              "      fill: #FFFFFF;\n",
              "    }\n",
              "  </style>\n",
              "\n",
              "      <script>\n",
              "        const buttonEl =\n",
              "          document.querySelector('#df-fef524a0-0891-4bfc-920e-7f659086f97f button.colab-df-convert');\n",
              "        buttonEl.style.display =\n",
              "          google.colab.kernel.accessAllowed ? 'block' : 'none';\n",
              "\n",
              "        async function convertToInteractive(key) {\n",
              "          const element = document.querySelector('#df-fef524a0-0891-4bfc-920e-7f659086f97f');\n",
              "          const dataTable =\n",
              "            await google.colab.kernel.invokeFunction('convertToInteractive',\n",
              "                                                     [key], {});\n",
              "          if (!dataTable) return;\n",
              "\n",
              "          const docLinkHtml = 'Like what you see? Visit the ' +\n",
              "            '<a target=\"_blank\" href=https://colab.research.google.com/notebooks/data_table.ipynb>data table notebook</a>'\n",
              "            + ' to learn more about interactive tables.';\n",
              "          element.innerHTML = '';\n",
              "          dataTable['output_type'] = 'display_data';\n",
              "          await google.colab.output.renderOutput(dataTable, element);\n",
              "          const docLink = document.createElement('div');\n",
              "          docLink.innerHTML = docLinkHtml;\n",
              "          element.appendChild(docLink);\n",
              "        }\n",
              "      </script>\n",
              "    </div>\n",
              "  </div>\n",
              "  "
            ]
          },
          "metadata": {},
          "execution_count": 3
        }
      ],
      "source": [
        "#Checking the first 10 rows of train\n",
        "train.head(5)"
      ]
    },
    {
      "cell_type": "code",
      "execution_count": 4,
      "metadata": {
        "colab": {
          "base_uri": "https://localhost:8080/",
          "height": 206
        },
        "id": "26Kof-aKpI16",
        "outputId": "5aca1689-843b-490f-af98-883a3537a62c"
      },
      "outputs": [
        {
          "output_type": "execute_result",
          "data": {
            "text/plain": [
              "                                 swahili_id  \\\n",
              "0  001dd47ac202d9db6624a5ff734a5e7dddafeaf2   \n",
              "1  0043d97f7690e9bc02f0ed8bb2b260d1d44bad92   \n",
              "2  00579c2307b5c11003d21c40c3ecff5e922c3fd8   \n",
              "3  00868eeee349e286303706ef0ffd851f39708d37   \n",
              "4  00a5cb12d3058dcf2e42f277eee599992db32412   \n",
              "\n",
              "                                             content  \n",
              "0   MKUU wa Wilaya ya Bahi, Mkoani Dodoma, Mwanah...  \n",
              "1   MWISHONI mwa wiki hii, Timu ya Soka ya Taifa,...  \n",
              "2   THAMANI ya mauzo ya bidhaa za Afrika Masharik...  \n",
              "3   MENEJA Mawasiliano na Utetezi wa asasi ya AGP...  \n",
              "4   WAZIRI wa Kilimo, Japhet Hasunga amesema seri...  "
            ],
            "text/html": [
              "\n",
              "  <div id=\"df-c43698ed-d9f9-4031-b644-e0c400f9496e\">\n",
              "    <div class=\"colab-df-container\">\n",
              "      <div>\n",
              "<style scoped>\n",
              "    .dataframe tbody tr th:only-of-type {\n",
              "        vertical-align: middle;\n",
              "    }\n",
              "\n",
              "    .dataframe tbody tr th {\n",
              "        vertical-align: top;\n",
              "    }\n",
              "\n",
              "    .dataframe thead th {\n",
              "        text-align: right;\n",
              "    }\n",
              "</style>\n",
              "<table border=\"1\" class=\"dataframe\">\n",
              "  <thead>\n",
              "    <tr style=\"text-align: right;\">\n",
              "      <th></th>\n",
              "      <th>swahili_id</th>\n",
              "      <th>content</th>\n",
              "    </tr>\n",
              "  </thead>\n",
              "  <tbody>\n",
              "    <tr>\n",
              "      <th>0</th>\n",
              "      <td>001dd47ac202d9db6624a5ff734a5e7dddafeaf2</td>\n",
              "      <td>MKUU wa Wilaya ya Bahi, Mkoani Dodoma, Mwanah...</td>\n",
              "    </tr>\n",
              "    <tr>\n",
              "      <th>1</th>\n",
              "      <td>0043d97f7690e9bc02f0ed8bb2b260d1d44bad92</td>\n",
              "      <td>MWISHONI mwa wiki hii, Timu ya Soka ya Taifa,...</td>\n",
              "    </tr>\n",
              "    <tr>\n",
              "      <th>2</th>\n",
              "      <td>00579c2307b5c11003d21c40c3ecff5e922c3fd8</td>\n",
              "      <td>THAMANI ya mauzo ya bidhaa za Afrika Masharik...</td>\n",
              "    </tr>\n",
              "    <tr>\n",
              "      <th>3</th>\n",
              "      <td>00868eeee349e286303706ef0ffd851f39708d37</td>\n",
              "      <td>MENEJA Mawasiliano na Utetezi wa asasi ya AGP...</td>\n",
              "    </tr>\n",
              "    <tr>\n",
              "      <th>4</th>\n",
              "      <td>00a5cb12d3058dcf2e42f277eee599992db32412</td>\n",
              "      <td>WAZIRI wa Kilimo, Japhet Hasunga amesema seri...</td>\n",
              "    </tr>\n",
              "  </tbody>\n",
              "</table>\n",
              "</div>\n",
              "      <button class=\"colab-df-convert\" onclick=\"convertToInteractive('df-c43698ed-d9f9-4031-b644-e0c400f9496e')\"\n",
              "              title=\"Convert this dataframe to an interactive table.\"\n",
              "              style=\"display:none;\">\n",
              "        \n",
              "  <svg xmlns=\"http://www.w3.org/2000/svg\" height=\"24px\"viewBox=\"0 0 24 24\"\n",
              "       width=\"24px\">\n",
              "    <path d=\"M0 0h24v24H0V0z\" fill=\"none\"/>\n",
              "    <path d=\"M18.56 5.44l.94 2.06.94-2.06 2.06-.94-2.06-.94-.94-2.06-.94 2.06-2.06.94zm-11 1L8.5 8.5l.94-2.06 2.06-.94-2.06-.94L8.5 2.5l-.94 2.06-2.06.94zm10 10l.94 2.06.94-2.06 2.06-.94-2.06-.94-.94-2.06-.94 2.06-2.06.94z\"/><path d=\"M17.41 7.96l-1.37-1.37c-.4-.4-.92-.59-1.43-.59-.52 0-1.04.2-1.43.59L10.3 9.45l-7.72 7.72c-.78.78-.78 2.05 0 2.83L4 21.41c.39.39.9.59 1.41.59.51 0 1.02-.2 1.41-.59l7.78-7.78 2.81-2.81c.8-.78.8-2.07 0-2.86zM5.41 20L4 18.59l7.72-7.72 1.47 1.35L5.41 20z\"/>\n",
              "  </svg>\n",
              "      </button>\n",
              "      \n",
              "  <style>\n",
              "    .colab-df-container {\n",
              "      display:flex;\n",
              "      flex-wrap:wrap;\n",
              "      gap: 12px;\n",
              "    }\n",
              "\n",
              "    .colab-df-convert {\n",
              "      background-color: #E8F0FE;\n",
              "      border: none;\n",
              "      border-radius: 50%;\n",
              "      cursor: pointer;\n",
              "      display: none;\n",
              "      fill: #1967D2;\n",
              "      height: 32px;\n",
              "      padding: 0 0 0 0;\n",
              "      width: 32px;\n",
              "    }\n",
              "\n",
              "    .colab-df-convert:hover {\n",
              "      background-color: #E2EBFA;\n",
              "      box-shadow: 0px 1px 2px rgba(60, 64, 67, 0.3), 0px 1px 3px 1px rgba(60, 64, 67, 0.15);\n",
              "      fill: #174EA6;\n",
              "    }\n",
              "\n",
              "    [theme=dark] .colab-df-convert {\n",
              "      background-color: #3B4455;\n",
              "      fill: #D2E3FC;\n",
              "    }\n",
              "\n",
              "    [theme=dark] .colab-df-convert:hover {\n",
              "      background-color: #434B5C;\n",
              "      box-shadow: 0px 1px 3px 1px rgba(0, 0, 0, 0.15);\n",
              "      filter: drop-shadow(0px 1px 2px rgba(0, 0, 0, 0.3));\n",
              "      fill: #FFFFFF;\n",
              "    }\n",
              "  </style>\n",
              "\n",
              "      <script>\n",
              "        const buttonEl =\n",
              "          document.querySelector('#df-c43698ed-d9f9-4031-b644-e0c400f9496e button.colab-df-convert');\n",
              "        buttonEl.style.display =\n",
              "          google.colab.kernel.accessAllowed ? 'block' : 'none';\n",
              "\n",
              "        async function convertToInteractive(key) {\n",
              "          const element = document.querySelector('#df-c43698ed-d9f9-4031-b644-e0c400f9496e');\n",
              "          const dataTable =\n",
              "            await google.colab.kernel.invokeFunction('convertToInteractive',\n",
              "                                                     [key], {});\n",
              "          if (!dataTable) return;\n",
              "\n",
              "          const docLinkHtml = 'Like what you see? Visit the ' +\n",
              "            '<a target=\"_blank\" href=https://colab.research.google.com/notebooks/data_table.ipynb>data table notebook</a>'\n",
              "            + ' to learn more about interactive tables.';\n",
              "          element.innerHTML = '';\n",
              "          dataTable['output_type'] = 'display_data';\n",
              "          await google.colab.output.renderOutput(dataTable, element);\n",
              "          const docLink = document.createElement('div');\n",
              "          docLink.innerHTML = docLinkHtml;\n",
              "          element.appendChild(docLink);\n",
              "        }\n",
              "      </script>\n",
              "    </div>\n",
              "  </div>\n",
              "  "
            ]
          },
          "metadata": {},
          "execution_count": 4
        }
      ],
      "source": [
        "#Then the first 5 of test\n",
        "test.head(5)"
      ]
    },
    {
      "cell_type": "code",
      "execution_count": 5,
      "metadata": {
        "colab": {
          "base_uri": "https://localhost:8080/"
        },
        "id": "D3KpbWedpM29",
        "outputId": "1f75a586-158b-476b-83a5-da39e9c1fd88"
      },
      "outputs": [
        {
          "output_type": "execute_result",
          "data": {
            "text/plain": [
              "(5151, 3)"
            ]
          },
          "metadata": {},
          "execution_count": 5
        }
      ],
      "source": [
        "#How is our train shape\n",
        "train.shape"
      ]
    },
    {
      "cell_type": "code",
      "execution_count": 6,
      "metadata": {
        "colab": {
          "base_uri": "https://localhost:8080/"
        },
        "id": "sggODFSYpRCF",
        "outputId": "09b28f74-a9bb-4cbc-e39d-869013ae22f0"
      },
      "outputs": [
        {
          "output_type": "execute_result",
          "data": {
            "text/plain": [
              "(1288, 2)"
            ]
          },
          "metadata": {},
          "execution_count": 6
        }
      ],
      "source": [
        "#Same thing with the test file\n",
        "test.shape"
      ]
    },
    {
      "cell_type": "code",
      "execution_count": 7,
      "metadata": {
        "colab": {
          "base_uri": "https://localhost:8080/"
        },
        "id": "AGDl-XEopxot",
        "outputId": "447c47ed-7d56-495a-d1b6-70d80cd3c96a"
      },
      "outputs": [
        {
          "output_type": "execute_result",
          "data": {
            "text/plain": [
              "id          object\n",
              "content     object\n",
              "category    object\n",
              "dtype: object"
            ]
          },
          "metadata": {},
          "execution_count": 7
        }
      ],
      "source": [
        "#Finding out what type of data we have\n",
        "train.dtypes"
      ]
    },
    {
      "cell_type": "code",
      "execution_count": 8,
      "metadata": {
        "colab": {
          "base_uri": "https://localhost:8080/"
        },
        "id": "JdSnUzXrp3FP",
        "outputId": "f0c93ba4-184c-433d-f91f-a4f713199f44"
      },
      "outputs": [
        {
          "output_type": "execute_result",
          "data": {
            "text/plain": [
              "array(['Kitaifa', 'Biashara', 'michezo', 'Kimataifa', 'Burudani'],\n",
              "      dtype=object)"
            ]
          },
          "metadata": {},
          "execution_count": 8
        }
      ],
      "source": [
        "#Lets see how the categories are distributed\n",
        "train['category'].unique()"
      ]
    },
    {
      "cell_type": "markdown",
      "metadata": {
        "id": "dIL36oPdrYsD"
      },
      "source": [
        "## Data Cleaning"
      ]
    },
    {
      "cell_type": "code",
      "execution_count": 9,
      "metadata": {
        "colab": {
          "base_uri": "https://localhost:8080/"
        },
        "id": "RGeNqItLrgMy",
        "outputId": "c964d724-4518-4912-ce02-ee7e9c64c707"
      },
      "outputs": [
        {
          "output_type": "execute_result",
          "data": {
            "text/plain": [
              "content           Malkia wa Mipasho Afrika Mashariki, Khadija O...\n",
              "clean_content    Malkia wa Mipasho Afrika Mashariki, Khadija Om...\n",
              "Name: 5, dtype: object"
            ]
          },
          "metadata": {},
          "execution_count": 9
        }
      ],
      "source": [
        "#Removing links \n",
        "train[\"clean_content\"] = train[\"content\"].apply(lambda s: ' '.join(re.sub(\"(w+://S+)\", \" \", s).split()))\n",
        "train[['content','clean_content']].iloc[5]"
      ]
    },
    {
      "cell_type": "code",
      "execution_count": 10,
      "metadata": {
        "colab": {
          "base_uri": "https://localhost:8080/",
          "height": 267
        },
        "id": "ySJ1WMvMtyBC",
        "outputId": "0cae62cb-47fa-4e2b-d156-6f0dc0a6b2af"
      },
      "outputs": [
        {
          "output_type": "execute_result",
          "data": {
            "text/plain": [
              "       id                                            content  category  \\\n",
              "0     SW0   SERIKALI imesema haitakuwa tayari kuona amani...   Kitaifa   \n",
              "1     SW1   Mkuu wa Mkoa wa Tabora, Aggrey Mwanri amesiti...  Biashara   \n",
              "2    SW10   SERIKALI imetoa miezi sita kwa taasisi zote z...   Kitaifa   \n",
              "3   SW100   KAMPUNI ya mchezo wa kubahatisha ya M-bet ime...   michezo   \n",
              "4  SW1000   WATANZANIA wamekumbushwa kusherehekea sikukuu...   Kitaifa   \n",
              "\n",
              "                                       clean_content  \n",
              "0   serikali imesema haitakuwa tayari kuona amani...  \n",
              "1   mkuu wa mkoa wa tabora, aggrey mwanri amesiti...  \n",
              "2   serikali imetoa miezi sita kwa taasisi zote z...  \n",
              "3   kampuni ya mchezo wa kubahatisha ya m-bet ime...  \n",
              "4   watanzania wamekumbushwa kusherehekea sikukuu...  "
            ],
            "text/html": [
              "\n",
              "  <div id=\"df-4a22a467-31b5-4b7a-a754-9eeb5ee4437d\">\n",
              "    <div class=\"colab-df-container\">\n",
              "      <div>\n",
              "<style scoped>\n",
              "    .dataframe tbody tr th:only-of-type {\n",
              "        vertical-align: middle;\n",
              "    }\n",
              "\n",
              "    .dataframe tbody tr th {\n",
              "        vertical-align: top;\n",
              "    }\n",
              "\n",
              "    .dataframe thead th {\n",
              "        text-align: right;\n",
              "    }\n",
              "</style>\n",
              "<table border=\"1\" class=\"dataframe\">\n",
              "  <thead>\n",
              "    <tr style=\"text-align: right;\">\n",
              "      <th></th>\n",
              "      <th>id</th>\n",
              "      <th>content</th>\n",
              "      <th>category</th>\n",
              "      <th>clean_content</th>\n",
              "    </tr>\n",
              "  </thead>\n",
              "  <tbody>\n",
              "    <tr>\n",
              "      <th>0</th>\n",
              "      <td>SW0</td>\n",
              "      <td>SERIKALI imesema haitakuwa tayari kuona amani...</td>\n",
              "      <td>Kitaifa</td>\n",
              "      <td>serikali imesema haitakuwa tayari kuona amani...</td>\n",
              "    </tr>\n",
              "    <tr>\n",
              "      <th>1</th>\n",
              "      <td>SW1</td>\n",
              "      <td>Mkuu wa Mkoa wa Tabora, Aggrey Mwanri amesiti...</td>\n",
              "      <td>Biashara</td>\n",
              "      <td>mkuu wa mkoa wa tabora, aggrey mwanri amesiti...</td>\n",
              "    </tr>\n",
              "    <tr>\n",
              "      <th>2</th>\n",
              "      <td>SW10</td>\n",
              "      <td>SERIKALI imetoa miezi sita kwa taasisi zote z...</td>\n",
              "      <td>Kitaifa</td>\n",
              "      <td>serikali imetoa miezi sita kwa taasisi zote z...</td>\n",
              "    </tr>\n",
              "    <tr>\n",
              "      <th>3</th>\n",
              "      <td>SW100</td>\n",
              "      <td>KAMPUNI ya mchezo wa kubahatisha ya M-bet ime...</td>\n",
              "      <td>michezo</td>\n",
              "      <td>kampuni ya mchezo wa kubahatisha ya m-bet ime...</td>\n",
              "    </tr>\n",
              "    <tr>\n",
              "      <th>4</th>\n",
              "      <td>SW1000</td>\n",
              "      <td>WATANZANIA wamekumbushwa kusherehekea sikukuu...</td>\n",
              "      <td>Kitaifa</td>\n",
              "      <td>watanzania wamekumbushwa kusherehekea sikukuu...</td>\n",
              "    </tr>\n",
              "  </tbody>\n",
              "</table>\n",
              "</div>\n",
              "      <button class=\"colab-df-convert\" onclick=\"convertToInteractive('df-4a22a467-31b5-4b7a-a754-9eeb5ee4437d')\"\n",
              "              title=\"Convert this dataframe to an interactive table.\"\n",
              "              style=\"display:none;\">\n",
              "        \n",
              "  <svg xmlns=\"http://www.w3.org/2000/svg\" height=\"24px\"viewBox=\"0 0 24 24\"\n",
              "       width=\"24px\">\n",
              "    <path d=\"M0 0h24v24H0V0z\" fill=\"none\"/>\n",
              "    <path d=\"M18.56 5.44l.94 2.06.94-2.06 2.06-.94-2.06-.94-.94-2.06-.94 2.06-2.06.94zm-11 1L8.5 8.5l.94-2.06 2.06-.94-2.06-.94L8.5 2.5l-.94 2.06-2.06.94zm10 10l.94 2.06.94-2.06 2.06-.94-2.06-.94-.94-2.06-.94 2.06-2.06.94z\"/><path d=\"M17.41 7.96l-1.37-1.37c-.4-.4-.92-.59-1.43-.59-.52 0-1.04.2-1.43.59L10.3 9.45l-7.72 7.72c-.78.78-.78 2.05 0 2.83L4 21.41c.39.39.9.59 1.41.59.51 0 1.02-.2 1.41-.59l7.78-7.78 2.81-2.81c.8-.78.8-2.07 0-2.86zM5.41 20L4 18.59l7.72-7.72 1.47 1.35L5.41 20z\"/>\n",
              "  </svg>\n",
              "      </button>\n",
              "      \n",
              "  <style>\n",
              "    .colab-df-container {\n",
              "      display:flex;\n",
              "      flex-wrap:wrap;\n",
              "      gap: 12px;\n",
              "    }\n",
              "\n",
              "    .colab-df-convert {\n",
              "      background-color: #E8F0FE;\n",
              "      border: none;\n",
              "      border-radius: 50%;\n",
              "      cursor: pointer;\n",
              "      display: none;\n",
              "      fill: #1967D2;\n",
              "      height: 32px;\n",
              "      padding: 0 0 0 0;\n",
              "      width: 32px;\n",
              "    }\n",
              "\n",
              "    .colab-df-convert:hover {\n",
              "      background-color: #E2EBFA;\n",
              "      box-shadow: 0px 1px 2px rgba(60, 64, 67, 0.3), 0px 1px 3px 1px rgba(60, 64, 67, 0.15);\n",
              "      fill: #174EA6;\n",
              "    }\n",
              "\n",
              "    [theme=dark] .colab-df-convert {\n",
              "      background-color: #3B4455;\n",
              "      fill: #D2E3FC;\n",
              "    }\n",
              "\n",
              "    [theme=dark] .colab-df-convert:hover {\n",
              "      background-color: #434B5C;\n",
              "      box-shadow: 0px 1px 3px 1px rgba(0, 0, 0, 0.15);\n",
              "      filter: drop-shadow(0px 1px 2px rgba(0, 0, 0, 0.3));\n",
              "      fill: #FFFFFF;\n",
              "    }\n",
              "  </style>\n",
              "\n",
              "      <script>\n",
              "        const buttonEl =\n",
              "          document.querySelector('#df-4a22a467-31b5-4b7a-a754-9eeb5ee4437d button.colab-df-convert');\n",
              "        buttonEl.style.display =\n",
              "          google.colab.kernel.accessAllowed ? 'block' : 'none';\n",
              "\n",
              "        async function convertToInteractive(key) {\n",
              "          const element = document.querySelector('#df-4a22a467-31b5-4b7a-a754-9eeb5ee4437d');\n",
              "          const dataTable =\n",
              "            await google.colab.kernel.invokeFunction('convertToInteractive',\n",
              "                                                     [key], {});\n",
              "          if (!dataTable) return;\n",
              "\n",
              "          const docLinkHtml = 'Like what you see? Visit the ' +\n",
              "            '<a target=\"_blank\" href=https://colab.research.google.com/notebooks/data_table.ipynb>data table notebook</a>'\n",
              "            + ' to learn more about interactive tables.';\n",
              "          element.innerHTML = '';\n",
              "          dataTable['output_type'] = 'display_data';\n",
              "          await google.colab.output.renderOutput(dataTable, element);\n",
              "          const docLink = document.createElement('div');\n",
              "          docLink.innerHTML = docLinkHtml;\n",
              "          element.appendChild(docLink);\n",
              "        }\n",
              "      </script>\n",
              "    </div>\n",
              "  </div>\n",
              "  "
            ]
          },
          "metadata": {},
          "execution_count": 10
        }
      ],
      "source": [
        "#Changing all the letter to lower case\n",
        "train['clean_content'] = train.content.map(lambda x: x.lower())\n",
        "train.head()"
      ]
    },
    {
      "cell_type": "code",
      "execution_count": 11,
      "metadata": {
        "colab": {
          "base_uri": "https://localhost:8080/"
        },
        "id": "toogMywRuh9f",
        "outputId": "e33ba3fa-2dc2-44e9-8434-7cdd7e437639"
      },
      "outputs": [
        {
          "output_type": "execute_result",
          "data": {
            "text/plain": [
              "0        serikali imesema haitakuwa tayari kuona amani...\n",
              "1        mkuu wa mkoa wa tabora aggrey mwanri amesitis...\n",
              "2        serikali imetoa miezi sita kwa taasisi zote z...\n",
              "3        kampuni ya mchezo wa kubahatisha ya mbet imei...\n",
              "4        watanzania wamekumbushwa kusherehekea sikukuu...\n",
              "                              ...                        \n",
              "5146     rais john magufuli ameendelea kung’ara katika...\n",
              "5147     kampeni inayohimiza watafi ti kuandika upya h...\n",
              "5148     matukio mapya ya malaria kwa kila watu 1000 k...\n",
              "5149     imeelezwa kuwa hakuna sheria yoyote inayokata...\n",
              "5150     akizungumza mara baada ya kutiwa saini kwa ma...\n",
              "Name: clean_content, Length: 5151, dtype: object"
            ]
          },
          "metadata": {},
          "execution_count": 11
        }
      ],
      "source": [
        "#Removing the punctuation marks and brackets and 'â€ ̃ '\n",
        "train['clean_content'] = train['clean_content'].apply(lambda x: re.sub('[%s]' % re.escape(string.punctuation), '' , x))\n",
        "train['clean_content']"
      ]
    },
    {
      "cell_type": "code",
      "source": [
        "#Replacing â€ ̃ , â€™\", () with ' '\n",
        "\n",
        "train['clean_content'] = train['clean_content'].replace(\"â€ ̃ \", \" \")\n",
        "train['clean_content'] = train['clean_content'].replace(\"â€™\", ' ')\n",
        "train['clean_content'] = train['clean_content'].replace(\"()\", ' ')"
      ],
      "metadata": {
        "id": "LUDSAMphZdlj"
      },
      "execution_count": 12,
      "outputs": []
    },
    {
      "cell_type": "code",
      "execution_count": 13,
      "metadata": {
        "colab": {
          "base_uri": "https://localhost:8080/",
          "height": 267
        },
        "id": "b0UP7W9Lu0Fr",
        "outputId": "ad409cbe-992c-440b-aa0b-db81caee5b26"
      },
      "outputs": [
        {
          "output_type": "execute_result",
          "data": {
            "text/plain": [
              "       id                                            content  category  \\\n",
              "0     SW0   SERIKALI imesema haitakuwa tayari kuona amani...   Kitaifa   \n",
              "1     SW1   Mkuu wa Mkoa wa Tabora, Aggrey Mwanri amesiti...  Biashara   \n",
              "2    SW10   SERIKALI imetoa miezi sita kwa taasisi zote z...   Kitaifa   \n",
              "3   SW100   KAMPUNI ya mchezo wa kubahatisha ya M-bet ime...   michezo   \n",
              "4  SW1000   WATANZANIA wamekumbushwa kusherehekea sikukuu...   Kitaifa   \n",
              "\n",
              "                                       clean_content  \n",
              "0   serikali imesema haitakuwa tayari kuona amani...  \n",
              "1   mkuu wa mkoa wa tabora aggrey mwanri amesitis...  \n",
              "2   serikali imetoa miezi sita kwa taasisi zote z...  \n",
              "3   kampuni ya mchezo wa kubahatisha ya mbet imei...  \n",
              "4   watanzania wamekumbushwa kusherehekea sikukuu...  "
            ],
            "text/html": [
              "\n",
              "  <div id=\"df-503a98cb-4078-4dec-9d15-cf99b172d887\">\n",
              "    <div class=\"colab-df-container\">\n",
              "      <div>\n",
              "<style scoped>\n",
              "    .dataframe tbody tr th:only-of-type {\n",
              "        vertical-align: middle;\n",
              "    }\n",
              "\n",
              "    .dataframe tbody tr th {\n",
              "        vertical-align: top;\n",
              "    }\n",
              "\n",
              "    .dataframe thead th {\n",
              "        text-align: right;\n",
              "    }\n",
              "</style>\n",
              "<table border=\"1\" class=\"dataframe\">\n",
              "  <thead>\n",
              "    <tr style=\"text-align: right;\">\n",
              "      <th></th>\n",
              "      <th>id</th>\n",
              "      <th>content</th>\n",
              "      <th>category</th>\n",
              "      <th>clean_content</th>\n",
              "    </tr>\n",
              "  </thead>\n",
              "  <tbody>\n",
              "    <tr>\n",
              "      <th>0</th>\n",
              "      <td>SW0</td>\n",
              "      <td>SERIKALI imesema haitakuwa tayari kuona amani...</td>\n",
              "      <td>Kitaifa</td>\n",
              "      <td>serikali imesema haitakuwa tayari kuona amani...</td>\n",
              "    </tr>\n",
              "    <tr>\n",
              "      <th>1</th>\n",
              "      <td>SW1</td>\n",
              "      <td>Mkuu wa Mkoa wa Tabora, Aggrey Mwanri amesiti...</td>\n",
              "      <td>Biashara</td>\n",
              "      <td>mkuu wa mkoa wa tabora aggrey mwanri amesitis...</td>\n",
              "    </tr>\n",
              "    <tr>\n",
              "      <th>2</th>\n",
              "      <td>SW10</td>\n",
              "      <td>SERIKALI imetoa miezi sita kwa taasisi zote z...</td>\n",
              "      <td>Kitaifa</td>\n",
              "      <td>serikali imetoa miezi sita kwa taasisi zote z...</td>\n",
              "    </tr>\n",
              "    <tr>\n",
              "      <th>3</th>\n",
              "      <td>SW100</td>\n",
              "      <td>KAMPUNI ya mchezo wa kubahatisha ya M-bet ime...</td>\n",
              "      <td>michezo</td>\n",
              "      <td>kampuni ya mchezo wa kubahatisha ya mbet imei...</td>\n",
              "    </tr>\n",
              "    <tr>\n",
              "      <th>4</th>\n",
              "      <td>SW1000</td>\n",
              "      <td>WATANZANIA wamekumbushwa kusherehekea sikukuu...</td>\n",
              "      <td>Kitaifa</td>\n",
              "      <td>watanzania wamekumbushwa kusherehekea sikukuu...</td>\n",
              "    </tr>\n",
              "  </tbody>\n",
              "</table>\n",
              "</div>\n",
              "      <button class=\"colab-df-convert\" onclick=\"convertToInteractive('df-503a98cb-4078-4dec-9d15-cf99b172d887')\"\n",
              "              title=\"Convert this dataframe to an interactive table.\"\n",
              "              style=\"display:none;\">\n",
              "        \n",
              "  <svg xmlns=\"http://www.w3.org/2000/svg\" height=\"24px\"viewBox=\"0 0 24 24\"\n",
              "       width=\"24px\">\n",
              "    <path d=\"M0 0h24v24H0V0z\" fill=\"none\"/>\n",
              "    <path d=\"M18.56 5.44l.94 2.06.94-2.06 2.06-.94-2.06-.94-.94-2.06-.94 2.06-2.06.94zm-11 1L8.5 8.5l.94-2.06 2.06-.94-2.06-.94L8.5 2.5l-.94 2.06-2.06.94zm10 10l.94 2.06.94-2.06 2.06-.94-2.06-.94-.94-2.06-.94 2.06-2.06.94z\"/><path d=\"M17.41 7.96l-1.37-1.37c-.4-.4-.92-.59-1.43-.59-.52 0-1.04.2-1.43.59L10.3 9.45l-7.72 7.72c-.78.78-.78 2.05 0 2.83L4 21.41c.39.39.9.59 1.41.59.51 0 1.02-.2 1.41-.59l7.78-7.78 2.81-2.81c.8-.78.8-2.07 0-2.86zM5.41 20L4 18.59l7.72-7.72 1.47 1.35L5.41 20z\"/>\n",
              "  </svg>\n",
              "      </button>\n",
              "      \n",
              "  <style>\n",
              "    .colab-df-container {\n",
              "      display:flex;\n",
              "      flex-wrap:wrap;\n",
              "      gap: 12px;\n",
              "    }\n",
              "\n",
              "    .colab-df-convert {\n",
              "      background-color: #E8F0FE;\n",
              "      border: none;\n",
              "      border-radius: 50%;\n",
              "      cursor: pointer;\n",
              "      display: none;\n",
              "      fill: #1967D2;\n",
              "      height: 32px;\n",
              "      padding: 0 0 0 0;\n",
              "      width: 32px;\n",
              "    }\n",
              "\n",
              "    .colab-df-convert:hover {\n",
              "      background-color: #E2EBFA;\n",
              "      box-shadow: 0px 1px 2px rgba(60, 64, 67, 0.3), 0px 1px 3px 1px rgba(60, 64, 67, 0.15);\n",
              "      fill: #174EA6;\n",
              "    }\n",
              "\n",
              "    [theme=dark] .colab-df-convert {\n",
              "      background-color: #3B4455;\n",
              "      fill: #D2E3FC;\n",
              "    }\n",
              "\n",
              "    [theme=dark] .colab-df-convert:hover {\n",
              "      background-color: #434B5C;\n",
              "      box-shadow: 0px 1px 3px 1px rgba(0, 0, 0, 0.15);\n",
              "      filter: drop-shadow(0px 1px 2px rgba(0, 0, 0, 0.3));\n",
              "      fill: #FFFFFF;\n",
              "    }\n",
              "  </style>\n",
              "\n",
              "      <script>\n",
              "        const buttonEl =\n",
              "          document.querySelector('#df-503a98cb-4078-4dec-9d15-cf99b172d887 button.colab-df-convert');\n",
              "        buttonEl.style.display =\n",
              "          google.colab.kernel.accessAllowed ? 'block' : 'none';\n",
              "\n",
              "        async function convertToInteractive(key) {\n",
              "          const element = document.querySelector('#df-503a98cb-4078-4dec-9d15-cf99b172d887');\n",
              "          const dataTable =\n",
              "            await google.colab.kernel.invokeFunction('convertToInteractive',\n",
              "                                                     [key], {});\n",
              "          if (!dataTable) return;\n",
              "\n",
              "          const docLinkHtml = 'Like what you see? Visit the ' +\n",
              "            '<a target=\"_blank\" href=https://colab.research.google.com/notebooks/data_table.ipynb>data table notebook</a>'\n",
              "            + ' to learn more about interactive tables.';\n",
              "          element.innerHTML = '';\n",
              "          dataTable['output_type'] = 'display_data';\n",
              "          await google.colab.output.renderOutput(dataTable, element);\n",
              "          const docLink = document.createElement('div');\n",
              "          docLink.innerHTML = docLinkHtml;\n",
              "          element.appendChild(docLink);\n",
              "        }\n",
              "      </script>\n",
              "    </div>\n",
              "  </div>\n",
              "  "
            ]
          },
          "metadata": {},
          "execution_count": 13
        }
      ],
      "source": [
        "#Checking how the bottom of the dataframe looks after cleaning\n",
        "train.head(5)"
      ]
    },
    {
      "cell_type": "code",
      "source": [
        "#creating a copy of the train dataset\n",
        "df = train.copy()\n",
        "df.head(2)"
      ],
      "metadata": {
        "colab": {
          "base_uri": "https://localhost:8080/",
          "height": 156
        },
        "id": "Om5f53iRDRP5",
        "outputId": "516a7367-4bed-4d58-e456-fb4d62093d7c"
      },
      "execution_count": 14,
      "outputs": [
        {
          "output_type": "execute_result",
          "data": {
            "text/plain": [
              "    id                                            content  category  \\\n",
              "0  SW0   SERIKALI imesema haitakuwa tayari kuona amani...   Kitaifa   \n",
              "1  SW1   Mkuu wa Mkoa wa Tabora, Aggrey Mwanri amesiti...  Biashara   \n",
              "\n",
              "                                       clean_content  \n",
              "0   serikali imesema haitakuwa tayari kuona amani...  \n",
              "1   mkuu wa mkoa wa tabora aggrey mwanri amesitis...  "
            ],
            "text/html": [
              "\n",
              "  <div id=\"df-29b2a847-e33b-4b99-a00f-954b930feeb0\">\n",
              "    <div class=\"colab-df-container\">\n",
              "      <div>\n",
              "<style scoped>\n",
              "    .dataframe tbody tr th:only-of-type {\n",
              "        vertical-align: middle;\n",
              "    }\n",
              "\n",
              "    .dataframe tbody tr th {\n",
              "        vertical-align: top;\n",
              "    }\n",
              "\n",
              "    .dataframe thead th {\n",
              "        text-align: right;\n",
              "    }\n",
              "</style>\n",
              "<table border=\"1\" class=\"dataframe\">\n",
              "  <thead>\n",
              "    <tr style=\"text-align: right;\">\n",
              "      <th></th>\n",
              "      <th>id</th>\n",
              "      <th>content</th>\n",
              "      <th>category</th>\n",
              "      <th>clean_content</th>\n",
              "    </tr>\n",
              "  </thead>\n",
              "  <tbody>\n",
              "    <tr>\n",
              "      <th>0</th>\n",
              "      <td>SW0</td>\n",
              "      <td>SERIKALI imesema haitakuwa tayari kuona amani...</td>\n",
              "      <td>Kitaifa</td>\n",
              "      <td>serikali imesema haitakuwa tayari kuona amani...</td>\n",
              "    </tr>\n",
              "    <tr>\n",
              "      <th>1</th>\n",
              "      <td>SW1</td>\n",
              "      <td>Mkuu wa Mkoa wa Tabora, Aggrey Mwanri amesiti...</td>\n",
              "      <td>Biashara</td>\n",
              "      <td>mkuu wa mkoa wa tabora aggrey mwanri amesitis...</td>\n",
              "    </tr>\n",
              "  </tbody>\n",
              "</table>\n",
              "</div>\n",
              "      <button class=\"colab-df-convert\" onclick=\"convertToInteractive('df-29b2a847-e33b-4b99-a00f-954b930feeb0')\"\n",
              "              title=\"Convert this dataframe to an interactive table.\"\n",
              "              style=\"display:none;\">\n",
              "        \n",
              "  <svg xmlns=\"http://www.w3.org/2000/svg\" height=\"24px\"viewBox=\"0 0 24 24\"\n",
              "       width=\"24px\">\n",
              "    <path d=\"M0 0h24v24H0V0z\" fill=\"none\"/>\n",
              "    <path d=\"M18.56 5.44l.94 2.06.94-2.06 2.06-.94-2.06-.94-.94-2.06-.94 2.06-2.06.94zm-11 1L8.5 8.5l.94-2.06 2.06-.94-2.06-.94L8.5 2.5l-.94 2.06-2.06.94zm10 10l.94 2.06.94-2.06 2.06-.94-2.06-.94-.94-2.06-.94 2.06-2.06.94z\"/><path d=\"M17.41 7.96l-1.37-1.37c-.4-.4-.92-.59-1.43-.59-.52 0-1.04.2-1.43.59L10.3 9.45l-7.72 7.72c-.78.78-.78 2.05 0 2.83L4 21.41c.39.39.9.59 1.41.59.51 0 1.02-.2 1.41-.59l7.78-7.78 2.81-2.81c.8-.78.8-2.07 0-2.86zM5.41 20L4 18.59l7.72-7.72 1.47 1.35L5.41 20z\"/>\n",
              "  </svg>\n",
              "      </button>\n",
              "      \n",
              "  <style>\n",
              "    .colab-df-container {\n",
              "      display:flex;\n",
              "      flex-wrap:wrap;\n",
              "      gap: 12px;\n",
              "    }\n",
              "\n",
              "    .colab-df-convert {\n",
              "      background-color: #E8F0FE;\n",
              "      border: none;\n",
              "      border-radius: 50%;\n",
              "      cursor: pointer;\n",
              "      display: none;\n",
              "      fill: #1967D2;\n",
              "      height: 32px;\n",
              "      padding: 0 0 0 0;\n",
              "      width: 32px;\n",
              "    }\n",
              "\n",
              "    .colab-df-convert:hover {\n",
              "      background-color: #E2EBFA;\n",
              "      box-shadow: 0px 1px 2px rgba(60, 64, 67, 0.3), 0px 1px 3px 1px rgba(60, 64, 67, 0.15);\n",
              "      fill: #174EA6;\n",
              "    }\n",
              "\n",
              "    [theme=dark] .colab-df-convert {\n",
              "      background-color: #3B4455;\n",
              "      fill: #D2E3FC;\n",
              "    }\n",
              "\n",
              "    [theme=dark] .colab-df-convert:hover {\n",
              "      background-color: #434B5C;\n",
              "      box-shadow: 0px 1px 3px 1px rgba(0, 0, 0, 0.15);\n",
              "      filter: drop-shadow(0px 1px 2px rgba(0, 0, 0, 0.3));\n",
              "      fill: #FFFFFF;\n",
              "    }\n",
              "  </style>\n",
              "\n",
              "      <script>\n",
              "        const buttonEl =\n",
              "          document.querySelector('#df-29b2a847-e33b-4b99-a00f-954b930feeb0 button.colab-df-convert');\n",
              "        buttonEl.style.display =\n",
              "          google.colab.kernel.accessAllowed ? 'block' : 'none';\n",
              "\n",
              "        async function convertToInteractive(key) {\n",
              "          const element = document.querySelector('#df-29b2a847-e33b-4b99-a00f-954b930feeb0');\n",
              "          const dataTable =\n",
              "            await google.colab.kernel.invokeFunction('convertToInteractive',\n",
              "                                                     [key], {});\n",
              "          if (!dataTable) return;\n",
              "\n",
              "          const docLinkHtml = 'Like what you see? Visit the ' +\n",
              "            '<a target=\"_blank\" href=https://colab.research.google.com/notebooks/data_table.ipynb>data table notebook</a>'\n",
              "            + ' to learn more about interactive tables.';\n",
              "          element.innerHTML = '';\n",
              "          dataTable['output_type'] = 'display_data';\n",
              "          await google.colab.output.renderOutput(dataTable, element);\n",
              "          const docLink = document.createElement('div');\n",
              "          docLink.innerHTML = docLinkHtml;\n",
              "          element.appendChild(docLink);\n",
              "        }\n",
              "      </script>\n",
              "    </div>\n",
              "  </div>\n",
              "  "
            ]
          },
          "metadata": {},
          "execution_count": 14
        }
      ]
    },
    {
      "cell_type": "markdown",
      "metadata": {
        "id": "tKe0eumqvHi7"
      },
      "source": [
        "## Begin Tokenization"
      ]
    },
    {
      "cell_type": "markdown",
      "metadata": {
        "id": "pYTJFGf5vSPK"
      },
      "source": [
        "*Tokening* is the break down of words into its constituents e.g kampuni, serikali, imetoa\n",
        "\n",
        "We start by Installing NoelNLP package\n",
        "\n",
        "This is a package used for removing swahili stop words"
      ]
    },
    {
      "cell_type": "code",
      "execution_count": 15,
      "metadata": {
        "colab": {
          "base_uri": "https://localhost:8080/"
        },
        "id": "9tSge2xeIzmz",
        "outputId": "20d31bbe-2e6e-4483-bca8-18d6efc7c3a8"
      },
      "outputs": [
        {
          "output_type": "stream",
          "name": "stdout",
          "text": [
            "Collecting NoelNLP\n",
            "  Downloading NoelNLP-0.0.2.tar.gz (2.5 kB)\n",
            "Building wheels for collected packages: NoelNLP\n",
            "  Building wheel for NoelNLP (setup.py) ... \u001b[?25l\u001b[?25hdone\n",
            "  Created wheel for NoelNLP: filename=NoelNLP-0.0.2-py3-none-any.whl size=2508 sha256=c144ef48e8200d2b7205994e221b6fbd5e2cbff889305569bbe9d287c62a7df8\n",
            "  Stored in directory: /root/.cache/pip/wheels/3a/0d/b8/c6e2b9c70c5c2994804193ee5819477e433ec5f42b8610f36d\n",
            "Successfully built NoelNLP\n",
            "Installing collected packages: NoelNLP\n",
            "Successfully installed NoelNLP-0.0.2\n"
          ]
        }
      ],
      "source": [
        "!pip install NoelNLP"
      ]
    },
    {
      "cell_type": "code",
      "execution_count": 16,
      "metadata": {
        "colab": {
          "base_uri": "https://localhost:8080/"
        },
        "id": "Wmims9NRHBZx",
        "outputId": "bf39033f-9f72-415c-be22-1901d0bc9e8e"
      },
      "outputs": [
        {
          "output_type": "stream",
          "name": "stdout",
          "text": [
            "['na', 'lakini', 'ingawa', 'ingawaje', 'kwa', 'sababu', 'hadi', 'hata', 'kama', 'ambapo', 'ambamo', 'ambako', 'ambacho', 'ambao', 'ambaye', 'ilhali', 'ya', 'yake', 'yao', 'yangu', 'yetu', 'yenu', 'vya', 'vyao', 'vyake', 'vyangu', 'vyenu', 'vyetu', 'yako', 'hizo', 'mimi', 'sisi', 'wewe', 'nyinyi', 'yeye', 'wao', 'nao', 'nasi', 'nanyi', 'ni', 'alikuwa', 'atakuwa', 'hii', 'hizi', 'zile', 'ile', 'hivi', 'vile', 'za', 'zake', 'zao', 'zenu', 'kwenye', 'katika', 'kwao', 'kwenu', 'kwetu', 'dhidi', 'kati', 'miongoni', 'katikati', 'wakati', 'kabla', 'baada', 'baadaye', 'nje', 'tena', 'mbali', 'halafu', 'hapa', 'pale', 'mara', 'yoyote', 'wowote', 'chochote', 'vyovyote', 'yeyote', 'lolote', 'mwenye', 'mwenyewe', 'lenyewe', 'lenye', 'wote', 'lote', 'vyote', 'nyote', 'kila', 'zaidi', 'hapana', 'ndiyo', 'au', 'ama', 'sio', 'siye', 'tu', 'budi', 'nyingi', 'nyingine', 'wengine', 'mwingine', 'zingine', 'lingine', 'kingine', 'chote', 'sasa', 'basi', 'bila', 'cha', 'chini', 'hapo', 'huku', 'kule', 'humu', 'hivyo', 'hivyohivyo', 'vivyo', 'palepale', 'fauka', 'hiyo', 'hiyohiyo', 'zilezile', 'hao', 'haohao', 'hukuhuku', 'humuhumu', 'huko', 'hukohuko', 'huo', 'huohuo', 'hili', 'hilihili', 'ilikuwa', 'juu', 'karibu', 'kima', 'kisha', 'kutoka', 'kwenda', 'kubwa', 'ndogo', 'kwamba', 'kuwa', 'la', 'lao', 'lo', 'mdogo', 'mkubwa', 'ng’o', 'pia', 'aidha', 'vilevile', 'kadhalika', 'halikadhalika', 'sana', 'pamoja', 'tafadhali', 'wa', 'wake', 'yule', 'wale', 'zangu', 'afanaleki', 'salale', 'oyee', 'yupi', 'ipi', 'lipi', 'ngapi', 'si', 'angali', 'wangali', 'loo', 'ohoo', 'barabara', 'ewaa', 'walahi', 'masalale', 'duu', 'toba', 'mh', 'kumbe', 'ala', 'ebo', 'haraka', 'pole', 'polepole', 'harakaharaka', 'itakuwa', 'mtakuwa', 'tutakuwa', 'labda', 'yumkini', 'haiyumkini', 'yapata', 'takribani', 'hususani', 'yawezekana', 'nani', 'ndani', 'baadhi', 'kuliko', 'mwa', 'hasha', 'moja', 'pili', 'kwanza', 'ili', 'je', 'jinsi', 'ila', 'nini', 'hasa', 'huu', 'zako', 'alisema', 'walikuwa', 'naye', 'watu', 'sauti', 'akasema', 'baadae', 'muda', 'mrefu', 'akatokea', 'akaja', 'wangu', 'kikubwa', 'kiasi', 'mmoja', 'kidogo', 'mpaka', 'sh']\n"
          ]
        }
      ],
      "source": [
        "from NoelNLP import stopList\n",
        "stop_words= stopList()\n",
        "CustomListofWordstoExclude = ['sh']\n",
        "for i in CustomListofWordstoExclude:\n",
        "    stop_words.append(i)\n",
        "print(stop_words)"
      ]
    },
    {
      "cell_type": "code",
      "execution_count": 17,
      "metadata": {
        "id": "O71bUiPlJUCI"
      },
      "outputs": [],
      "source": [
        "# to remove stop words\n",
        "df['clean_content'] = df['clean_content'].apply(lambda x: ' '.join([word for word in x.split() if word not in (stop_words)]))\n"
      ]
    },
    {
      "cell_type": "markdown",
      "metadata": {
        "id": "gDjqF3KA8jP3"
      },
      "source": [
        "## Exploratory Data Analysis"
      ]
    },
    {
      "cell_type": "markdown",
      "metadata": {
        "id": "fQp78mKJCZln"
      },
      "source": [
        "## Univariate analysis"
      ]
    },
    {
      "cell_type": "code",
      "execution_count": 18,
      "metadata": {
        "colab": {
          "base_uri": "https://localhost:8080/",
          "height": 285
        },
        "id": "8ztco3sCCvxL",
        "outputId": "4b7b624a-d14c-4ad3-f8a8-a5f2a8b8efa1"
      },
      "outputs": [
        {
          "output_type": "execute_result",
          "data": {
            "text/plain": [
              "       id                                            content  category  \\\n",
              "0     SW0   SERIKALI imesema haitakuwa tayari kuona amani...   Kitaifa   \n",
              "1     SW1   Mkuu wa Mkoa wa Tabora, Aggrey Mwanri amesiti...  Biashara   \n",
              "2    SW10   SERIKALI imetoa miezi sita kwa taasisi zote z...   Kitaifa   \n",
              "3   SW100   KAMPUNI ya mchezo wa kubahatisha ya M-bet ime...   michezo   \n",
              "4  SW1000   WATANZANIA wamekumbushwa kusherehekea sikukuu...   Kitaifa   \n",
              "\n",
              "                                       clean_content  \n",
              "0  serikali imesema haitakuwa tayari kuona amani ...  \n",
              "1  mkuu mkoa tabora aggrey mwanri amesitisha liki...  \n",
              "2  serikali imetoa miezi sita taasisi zote umma a...  \n",
              "3  kampuni mchezo kubahatisha mbet imeingia makub...  \n",
              "4  watanzania wamekumbushwa kusherehekea sikukuu ...  "
            ],
            "text/html": [
              "\n",
              "  <div id=\"df-313977d4-1390-4200-8c96-daad88340771\">\n",
              "    <div class=\"colab-df-container\">\n",
              "      <div>\n",
              "<style scoped>\n",
              "    .dataframe tbody tr th:only-of-type {\n",
              "        vertical-align: middle;\n",
              "    }\n",
              "\n",
              "    .dataframe tbody tr th {\n",
              "        vertical-align: top;\n",
              "    }\n",
              "\n",
              "    .dataframe thead th {\n",
              "        text-align: right;\n",
              "    }\n",
              "</style>\n",
              "<table border=\"1\" class=\"dataframe\">\n",
              "  <thead>\n",
              "    <tr style=\"text-align: right;\">\n",
              "      <th></th>\n",
              "      <th>id</th>\n",
              "      <th>content</th>\n",
              "      <th>category</th>\n",
              "      <th>clean_content</th>\n",
              "    </tr>\n",
              "  </thead>\n",
              "  <tbody>\n",
              "    <tr>\n",
              "      <th>0</th>\n",
              "      <td>SW0</td>\n",
              "      <td>SERIKALI imesema haitakuwa tayari kuona amani...</td>\n",
              "      <td>Kitaifa</td>\n",
              "      <td>serikali imesema haitakuwa tayari kuona amani ...</td>\n",
              "    </tr>\n",
              "    <tr>\n",
              "      <th>1</th>\n",
              "      <td>SW1</td>\n",
              "      <td>Mkuu wa Mkoa wa Tabora, Aggrey Mwanri amesiti...</td>\n",
              "      <td>Biashara</td>\n",
              "      <td>mkuu mkoa tabora aggrey mwanri amesitisha liki...</td>\n",
              "    </tr>\n",
              "    <tr>\n",
              "      <th>2</th>\n",
              "      <td>SW10</td>\n",
              "      <td>SERIKALI imetoa miezi sita kwa taasisi zote z...</td>\n",
              "      <td>Kitaifa</td>\n",
              "      <td>serikali imetoa miezi sita taasisi zote umma a...</td>\n",
              "    </tr>\n",
              "    <tr>\n",
              "      <th>3</th>\n",
              "      <td>SW100</td>\n",
              "      <td>KAMPUNI ya mchezo wa kubahatisha ya M-bet ime...</td>\n",
              "      <td>michezo</td>\n",
              "      <td>kampuni mchezo kubahatisha mbet imeingia makub...</td>\n",
              "    </tr>\n",
              "    <tr>\n",
              "      <th>4</th>\n",
              "      <td>SW1000</td>\n",
              "      <td>WATANZANIA wamekumbushwa kusherehekea sikukuu...</td>\n",
              "      <td>Kitaifa</td>\n",
              "      <td>watanzania wamekumbushwa kusherehekea sikukuu ...</td>\n",
              "    </tr>\n",
              "  </tbody>\n",
              "</table>\n",
              "</div>\n",
              "      <button class=\"colab-df-convert\" onclick=\"convertToInteractive('df-313977d4-1390-4200-8c96-daad88340771')\"\n",
              "              title=\"Convert this dataframe to an interactive table.\"\n",
              "              style=\"display:none;\">\n",
              "        \n",
              "  <svg xmlns=\"http://www.w3.org/2000/svg\" height=\"24px\"viewBox=\"0 0 24 24\"\n",
              "       width=\"24px\">\n",
              "    <path d=\"M0 0h24v24H0V0z\" fill=\"none\"/>\n",
              "    <path d=\"M18.56 5.44l.94 2.06.94-2.06 2.06-.94-2.06-.94-.94-2.06-.94 2.06-2.06.94zm-11 1L8.5 8.5l.94-2.06 2.06-.94-2.06-.94L8.5 2.5l-.94 2.06-2.06.94zm10 10l.94 2.06.94-2.06 2.06-.94-2.06-.94-.94-2.06-.94 2.06-2.06.94z\"/><path d=\"M17.41 7.96l-1.37-1.37c-.4-.4-.92-.59-1.43-.59-.52 0-1.04.2-1.43.59L10.3 9.45l-7.72 7.72c-.78.78-.78 2.05 0 2.83L4 21.41c.39.39.9.59 1.41.59.51 0 1.02-.2 1.41-.59l7.78-7.78 2.81-2.81c.8-.78.8-2.07 0-2.86zM5.41 20L4 18.59l7.72-7.72 1.47 1.35L5.41 20z\"/>\n",
              "  </svg>\n",
              "      </button>\n",
              "      \n",
              "  <style>\n",
              "    .colab-df-container {\n",
              "      display:flex;\n",
              "      flex-wrap:wrap;\n",
              "      gap: 12px;\n",
              "    }\n",
              "\n",
              "    .colab-df-convert {\n",
              "      background-color: #E8F0FE;\n",
              "      border: none;\n",
              "      border-radius: 50%;\n",
              "      cursor: pointer;\n",
              "      display: none;\n",
              "      fill: #1967D2;\n",
              "      height: 32px;\n",
              "      padding: 0 0 0 0;\n",
              "      width: 32px;\n",
              "    }\n",
              "\n",
              "    .colab-df-convert:hover {\n",
              "      background-color: #E2EBFA;\n",
              "      box-shadow: 0px 1px 2px rgba(60, 64, 67, 0.3), 0px 1px 3px 1px rgba(60, 64, 67, 0.15);\n",
              "      fill: #174EA6;\n",
              "    }\n",
              "\n",
              "    [theme=dark] .colab-df-convert {\n",
              "      background-color: #3B4455;\n",
              "      fill: #D2E3FC;\n",
              "    }\n",
              "\n",
              "    [theme=dark] .colab-df-convert:hover {\n",
              "      background-color: #434B5C;\n",
              "      box-shadow: 0px 1px 3px 1px rgba(0, 0, 0, 0.15);\n",
              "      filter: drop-shadow(0px 1px 2px rgba(0, 0, 0, 0.3));\n",
              "      fill: #FFFFFF;\n",
              "    }\n",
              "  </style>\n",
              "\n",
              "      <script>\n",
              "        const buttonEl =\n",
              "          document.querySelector('#df-313977d4-1390-4200-8c96-daad88340771 button.colab-df-convert');\n",
              "        buttonEl.style.display =\n",
              "          google.colab.kernel.accessAllowed ? 'block' : 'none';\n",
              "\n",
              "        async function convertToInteractive(key) {\n",
              "          const element = document.querySelector('#df-313977d4-1390-4200-8c96-daad88340771');\n",
              "          const dataTable =\n",
              "            await google.colab.kernel.invokeFunction('convertToInteractive',\n",
              "                                                     [key], {});\n",
              "          if (!dataTable) return;\n",
              "\n",
              "          const docLinkHtml = 'Like what you see? Visit the ' +\n",
              "            '<a target=\"_blank\" href=https://colab.research.google.com/notebooks/data_table.ipynb>data table notebook</a>'\n",
              "            + ' to learn more about interactive tables.';\n",
              "          element.innerHTML = '';\n",
              "          dataTable['output_type'] = 'display_data';\n",
              "          await google.colab.output.renderOutput(dataTable, element);\n",
              "          const docLink = document.createElement('div');\n",
              "          docLink.innerHTML = docLinkHtml;\n",
              "          element.appendChild(docLink);\n",
              "        }\n",
              "      </script>\n",
              "    </div>\n",
              "  </div>\n",
              "  "
            ]
          },
          "metadata": {},
          "execution_count": 18
        }
      ],
      "source": [
        "#a copy of train dataset to be used for eda\n",
        "df_eda=df.copy()\n",
        "df_eda.head(5)"
      ]
    },
    {
      "cell_type": "code",
      "execution_count": 19,
      "metadata": {
        "colab": {
          "base_uri": "https://localhost:8080/",
          "height": 297
        },
        "id": "mxFc05RMDfm0",
        "outputId": "4d87243a-409d-4066-9377-059a73a7bc2e"
      },
      "outputs": [
        {
          "output_type": "execute_result",
          "data": {
            "text/plain": [
              "<matplotlib.axes._subplots.AxesSubplot at 0x7ff107d7a990>"
            ]
          },
          "metadata": {},
          "execution_count": 19
        },
        {
          "output_type": "display_data",
          "data": {
            "text/plain": [
              "<Figure size 432x288 with 1 Axes>"
            ],
            "image/png": "[encoded data removed]"
          },
          "metadata": {
            "needs_background": "light"
          }
        }
      ],
      "source": [
        "# Count plot of categorical column\n",
        "#categories = {\"Kitaifa\": 0,\"michezo\": 1,\"Biashara\": 2,\"Kimataifa\": 3,\"Burudani\": 4}\n",
        "sb.countplot(df_eda['category'])"
      ]
    },
    {
      "cell_type": "code",
      "execution_count": 20,
      "metadata": {
        "colab": {
          "base_uri": "https://localhost:8080/"
        },
        "id": "4Oe5B27bDvVl",
        "outputId": "cbf810df-8042-4fd8-8c30-7de592b87e68"
      },
      "outputs": [
        {
          "output_type": "execute_result",
          "data": {
            "text/plain": [
              "Kitaifa      2000\n",
              "michezo      1720\n",
              "Biashara     1360\n",
              "Kimataifa      54\n",
              "Burudani       17\n",
              "Name: category, dtype: int64"
            ]
          },
          "metadata": {},
          "execution_count": 20
        }
      ],
      "source": [
        "#Checking the distribution of each label\n",
        "#categories = {\"Kitaifa\": 0,\"michezo\": 1,\"Biashara\": 2,\"Kimataifa\": 3,\"Burudani\": 4}\n",
        "df_eda['category'].value_counts()"
      ]
    },
    {
      "cell_type": "code",
      "execution_count": 21,
      "metadata": {
        "id": "3C2YPZb1D5F9"
      },
      "outputs": [],
      "source": [
        "# Checking the Most commom words\n",
        "from collections import Counter"
      ]
    },
    {
      "cell_type": "code",
      "execution_count": 22,
      "metadata": {
        "colab": {
          "base_uri": "https://localhost:8080/",
          "height": 677
        },
        "id": "nkNhP4mREISF",
        "outputId": "d31d1c4b-fd35-4ac6-c9a3-88da465a3176"
      },
      "outputs": [
        {
          "output_type": "execute_result",
          "data": {
            "text/plain": [
              "<pandas.io.formats.style.Styler at 0x7ff1070b7090>"
            ],
            "text/html": [
              "<style type=\"text/css\">\n",
              "#T_70077_row0_col1 {\n",
              "  background-color: #00441b;\n",
              "  color: #f1f1f1;\n",
              "}\n",
              "#T_70077_row1_col1 {\n",
              "  background-color: #107a37;\n",
              "  color: #f1f1f1;\n",
              "}\n",
              "#T_70077_row2_col1 {\n",
              "  background-color: #55b567;\n",
              "  color: #f1f1f1;\n",
              "}\n",
              "#T_70077_row3_col1 {\n",
              "  background-color: #87cd86;\n",
              "  color: #000000;\n",
              "}\n",
              "#T_70077_row4_col1 {\n",
              "  background-color: #9ed798;\n",
              "  color: #000000;\n",
              "}\n",
              "#T_70077_row5_col1 {\n",
              "  background-color: #aadda4;\n",
              "  color: #000000;\n",
              "}\n",
              "#T_70077_row6_col1 {\n",
              "  background-color: #b2e0ac;\n",
              "  color: #000000;\n",
              "}\n",
              "#T_70077_row7_col1 {\n",
              "  background-color: #c7e9c0;\n",
              "  color: #000000;\n",
              "}\n",
              "#T_70077_row8_col1 {\n",
              "  background-color: #ccebc6;\n",
              "  color: #000000;\n",
              "}\n",
              "#T_70077_row9_col1 {\n",
              "  background-color: #d8f0d2;\n",
              "  color: #000000;\n",
              "}\n",
              "#T_70077_row10_col1 {\n",
              "  background-color: #e5f5e0;\n",
              "  color: #000000;\n",
              "}\n",
              "#T_70077_row11_col1 {\n",
              "  background-color: #e7f6e2;\n",
              "  color: #000000;\n",
              "}\n",
              "#T_70077_row12_col1 {\n",
              "  background-color: #ebf7e7;\n",
              "  color: #000000;\n",
              "}\n",
              "#T_70077_row13_col1 {\n",
              "  background-color: #eff9eb;\n",
              "  color: #000000;\n",
              "}\n",
              "#T_70077_row14_col1 {\n",
              "  background-color: #f2faf0;\n",
              "  color: #000000;\n",
              "}\n",
              "#T_70077_row15_col1 {\n",
              "  background-color: #f4fbf1;\n",
              "  color: #000000;\n",
              "}\n",
              "#T_70077_row16_col1 {\n",
              "  background-color: #f4fbf2;\n",
              "  color: #000000;\n",
              "}\n",
              "#T_70077_row17_col1, #T_70077_row18_col1 {\n",
              "  background-color: #f6fcf4;\n",
              "  color: #000000;\n",
              "}\n",
              "#T_70077_row19_col1 {\n",
              "  background-color: #f7fcf5;\n",
              "  color: #000000;\n",
              "}\n",
              "</style>\n",
              "<table id=\"T_70077_\" class=\"dataframe\">\n",
              "  <thead>\n",
              "    <tr>\n",
              "      <th class=\"blank level0\" >&nbsp;</th>\n",
              "      <th class=\"col_heading level0 col0\" >Common_words</th>\n",
              "      <th class=\"col_heading level0 col1\" >count</th>\n",
              "    </tr>\n",
              "  </thead>\n",
              "  <tbody>\n",
              "    <tr>\n",
              "      <th id=\"T_70077_level0_row0\" class=\"row_heading level0 row0\" >0</th>\n",
              "      <td id=\"T_70077_row0_col0\" class=\"data row0 col0\" >mwaka</td>\n",
              "      <td id=\"T_70077_row0_col1\" class=\"data row0 col1\" >6595</td>\n",
              "    </tr>\n",
              "    <tr>\n",
              "      <th id=\"T_70077_level0_row1\" class=\"row_heading level0 row1\" >1</th>\n",
              "      <td id=\"T_70077_row1_col0\" class=\"data row1 col0\" >serikali</td>\n",
              "      <td id=\"T_70077_row1_col1\" class=\"data row1 col1\" >5892</td>\n",
              "    </tr>\n",
              "    <tr>\n",
              "      <th id=\"T_70077_level0_row2\" class=\"row_heading level0 row2\" >2</th>\n",
              "      <td id=\"T_70077_row2_col0\" class=\"data row2 col0\" >tanzania</td>\n",
              "      <td id=\"T_70077_row2_col1\" class=\"data row2 col1\" >4973</td>\n",
              "    </tr>\n",
              "    <tr>\n",
              "      <th id=\"T_70077_level0_row3\" class=\"row_heading level0 row3\" >3</th>\n",
              "      <td id=\"T_70077_row3_col0\" class=\"data row3 col0\" >timu</td>\n",
              "      <td id=\"T_70077_row3_col1\" class=\"data row3 col1\" >4479</td>\n",
              "    </tr>\n",
              "    <tr>\n",
              "      <th id=\"T_70077_level0_row4\" class=\"row_heading level0 row4\" >4</th>\n",
              "      <td id=\"T_70077_row4_col0\" class=\"data row4 col0\" >nchi</td>\n",
              "      <td id=\"T_70077_row4_col1\" class=\"data row4 col1\" >4233</td>\n",
              "    </tr>\n",
              "    <tr>\n",
              "      <th id=\"T_70077_level0_row5\" class=\"row_heading level0 row5\" >5</th>\n",
              "      <td id=\"T_70077_row5_col0\" class=\"data row5 col0\" >hilo</td>\n",
              "      <td id=\"T_70077_row5_col1\" class=\"data row5 col1\" >4083</td>\n",
              "    </tr>\n",
              "    <tr>\n",
              "      <th id=\"T_70077_level0_row6\" class=\"row_heading level0 row6\" >6</th>\n",
              "      <td id=\"T_70077_row6_col0\" class=\"data row6 col0\" >nchini</td>\n",
              "      <td id=\"T_70077_row6_col1\" class=\"data row6 col1\" >3983</td>\n",
              "    </tr>\n",
              "    <tr>\n",
              "      <th id=\"T_70077_level0_row7\" class=\"row_heading level0 row7\" >7</th>\n",
              "      <td id=\"T_70077_row7_col0\" class=\"data row7 col0\" >hayo</td>\n",
              "      <td id=\"T_70077_row7_col1\" class=\"data row7 col1\" >3725</td>\n",
              "    </tr>\n",
              "    <tr>\n",
              "      <th id=\"T_70077_level0_row8\" class=\"row_heading level0 row8\" >8</th>\n",
              "      <td id=\"T_70077_row8_col0\" class=\"data row8 col0\" >mkuu</td>\n",
              "      <td id=\"T_70077_row8_col1\" class=\"data row8 col1\" >3639</td>\n",
              "    </tr>\n",
              "    <tr>\n",
              "      <th id=\"T_70077_level0_row9\" class=\"row_heading level0 row9\" >9</th>\n",
              "      <td id=\"T_70077_row9_col0\" class=\"data row9 col0\" >mchezo</td>\n",
              "      <td id=\"T_70077_row9_col1\" class=\"data row9 col1\" >3453</td>\n",
              "    </tr>\n",
              "    <tr>\n",
              "      <th id=\"T_70077_level0_row10\" class=\"row_heading level0 row10\" >10</th>\n",
              "      <td id=\"T_70077_row10_col0\" class=\"data row10 col0\" >kazi</td>\n",
              "      <td id=\"T_70077_row10_col1\" class=\"data row10 col1\" >3253</td>\n",
              "    </tr>\n",
              "    <tr>\n",
              "      <th id=\"T_70077_level0_row11\" class=\"row_heading level0 row11\" >11</th>\n",
              "      <td id=\"T_70077_row11_col0\" class=\"data row11 col0\" >fedha</td>\n",
              "      <td id=\"T_70077_row11_col1\" class=\"data row11 col1\" >3204</td>\n",
              "    </tr>\n",
              "    <tr>\n",
              "      <th id=\"T_70077_level0_row12\" class=\"row_heading level0 row12\" >12</th>\n",
              "      <td id=\"T_70077_row12_col0\" class=\"data row12 col0\" >huyo</td>\n",
              "      <td id=\"T_70077_row12_col1\" class=\"data row12 col1\" >3081</td>\n",
              "    </tr>\n",
              "    <tr>\n",
              "      <th id=\"T_70077_level0_row13\" class=\"row_heading level0 row13\" >13</th>\n",
              "      <td id=\"T_70077_row13_col0\" class=\"data row13 col0\" >kufanya</td>\n",
              "      <td id=\"T_70077_row13_col1\" class=\"data row13 col1\" >2986</td>\n",
              "    </tr>\n",
              "    <tr>\n",
              "      <th id=\"T_70077_level0_row14\" class=\"row_heading level0 row14\" >14</th>\n",
              "      <td id=\"T_70077_row14_col0\" class=\"data row14 col0\" >taifa</td>\n",
              "      <td id=\"T_70077_row14_col1\" class=\"data row14 col1\" >2887</td>\n",
              "    </tr>\n",
              "    <tr>\n",
              "      <th id=\"T_70077_level0_row15\" class=\"row_heading level0 row15\" >15</th>\n",
              "      <td id=\"T_70077_row15_col0\" class=\"data row15 col0\" >jana</td>\n",
              "      <td id=\"T_70077_row15_col1\" class=\"data row15 col1\" >2859</td>\n",
              "    </tr>\n",
              "    <tr>\n",
              "      <th id=\"T_70077_level0_row16\" class=\"row_heading level0 row16\" >16</th>\n",
              "      <td id=\"T_70077_row16_col0\" class=\"data row16 col0\" >rais</td>\n",
              "      <td id=\"T_70077_row16_col1\" class=\"data row16 col1\" >2845</td>\n",
              "    </tr>\n",
              "    <tr>\n",
              "      <th id=\"T_70077_level0_row17\" class=\"row_heading level0 row17\" >17</th>\n",
              "      <td id=\"T_70077_row17_col0\" class=\"data row17 col0\" >dar</td>\n",
              "      <td id=\"T_70077_row17_col1\" class=\"data row17 col1\" >2796</td>\n",
              "    </tr>\n",
              "    <tr>\n",
              "      <th id=\"T_70077_level0_row18\" class=\"row_heading level0 row18\" >18</th>\n",
              "      <td id=\"T_70077_row18_col0\" class=\"data row18 col0\" >ambayo</td>\n",
              "      <td id=\"T_70077_row18_col1\" class=\"data row18 col1\" >2775</td>\n",
              "    </tr>\n",
              "    <tr>\n",
              "      <th id=\"T_70077_level0_row19\" class=\"row_heading level0 row19\" >19</th>\n",
              "      <td id=\"T_70077_row19_col0\" class=\"data row19 col0\" >es</td>\n",
              "      <td id=\"T_70077_row19_col1\" class=\"data row19 col1\" >2760</td>\n",
              "    </tr>\n",
              "  </tbody>\n",
              "</table>\n"
            ]
          },
          "metadata": {},
          "execution_count": 22
        }
      ],
      "source": [
        "# Decided to tokenize the clean text column using the string split function to get word frequencies\n",
        "import nltk\n",
        "from nltk.tokenize import word_tokenize \n",
        "\n",
        "df_eda[\"clean_content\"] =df_eda[\"clean_content\"].apply(lambda x:str(x).split()) \n",
        "top = Counter([item for sublist in df_eda[\"clean_content\"] for item in sublist])\n",
        "temp = pd.DataFrame(top.most_common(20))\n",
        "temp.columns = ['Common_words','count']\n",
        "temp.style.background_gradient(cmap='Greens')"
      ]
    },
    {
      "cell_type": "code",
      "execution_count": 23,
      "metadata": {
        "id": "KSfphUxqG9BH"
      },
      "outputs": [],
      "source": [
        "#Importing our graph libraries \n",
        "import matplotlib.pyplot as plt\n",
        "import seaborn as sns\n",
        "%matplotlib inline\n",
        "from plotly import graph_objs as go\n",
        "import plotly.express as px\n",
        "import plotly.figure_factory as ff"
      ]
    },
    {
      "cell_type": "code",
      "execution_count": 24,
      "metadata": {
        "colab": {
          "base_uri": "https://localhost:8080/",
          "height": 717
        },
        "id": "I3sijHVPHDxo",
        "outputId": "f23be4bc-8d8c-4884-bc1c-4cc3955b728f"
      },
      "outputs": [
        {
          "output_type": "display_data",
          "data": {
            "text/html": [
              "<html>\n",
              "<head><meta charset=\"utf-8\" /></head>\n",
              "<body>\n",
              "    <div>            <script src=\"https://cdnjs.cloudflare.com/ajax/libs/mathjax/2.7.5/MathJax.js?config=TeX-AMS-MML_SVG\"></script><script type=\"text/javascript\">if (window.MathJax) {MathJax.Hub.Config({SVG: {font: \"STIX-Web\"}});}</script>                <script type=\"text/javascript\">window.PlotlyConfig = {MathJaxConfig: 'local'};</script>\n",
              "        <script src=\"https://cdn.plot.ly/plotly-2.8.3.min.js\"></script>                <div id=\"67879db4-6508-4bcb-b0c4-576ff572df4f\" class=\"plotly-graph-div\" style=\"height:700px; width:700px;\"></div>            <script type=\"text/javascript\">                                    window.PLOTLYENV=window.PLOTLYENV || {};                                    if (document.getElementById(\"67879db4-6508-4bcb-b0c4-576ff572df4f\")) {                    Plotly.newPlot(                        \"67879db4-6508-4bcb-b0c4-576ff572df4f\",                        [{\"alignmentgroup\":\"True\",\"hovertemplate\":\"Common_words=%{y}<br>count=%{x}<extra></extra>\",\"legendgroup\":\"mwaka\",\"marker\":{\"color\":\"#636efa\",\"pattern\":{\"shape\":\"\"}},\"name\":\"mwaka\",\"offsetgroup\":\"mwaka\",\"orientation\":\"h\",\"showlegend\":true,\"textposition\":\"auto\",\"x\":[6595],\"xaxis\":\"x\",\"y\":[\"mwaka\"],\"yaxis\":\"y\",\"type\":\"bar\"},{\"alignmentgroup\":\"True\",\"hovertemplate\":\"Common_words=%{y}<br>count=%{x}<extra></extra>\",\"legendgroup\":\"serikali\",\"marker\":{\"color\":\"#EF553B\",\"pattern\":{\"shape\":\"\"}},\"name\":\"serikali\",\"offsetgroup\":\"serikali\",\"orientation\":\"h\",\"showlegend\":true,\"textposition\":\"auto\",\"x\":[5892],\"xaxis\":\"x\",\"y\":[\"serikali\"],\"yaxis\":\"y\",\"type\":\"bar\"},{\"alignmentgroup\":\"True\",\"hovertemplate\":\"Common_words=%{y}<br>count=%{x}<extra></extra>\",\"legendgroup\":\"tanzania\",\"marker\":{\"color\":\"#00cc96\",\"pattern\":{\"shape\":\"\"}},\"name\":\"tanzania\",\"offsetgroup\":\"tanzania\",\"orientation\":\"h\",\"showlegend\":true,\"textposition\":\"auto\",\"x\":[4973],\"xaxis\":\"x\",\"y\":[\"tanzania\"],\"yaxis\":\"y\",\"type\":\"bar\"},{\"alignmentgroup\":\"True\",\"hovertemplate\":\"Common_words=%{y}<br>count=%{x}<extra></extra>\",\"legendgroup\":\"timu\",\"marker\":{\"color\":\"#ab63fa\",\"pattern\":{\"shape\":\"\"}},\"name\":\"timu\",\"offsetgroup\":\"timu\",\"orientation\":\"h\",\"showlegend\":true,\"textposition\":\"auto\",\"x\":[4479],\"xaxis\":\"x\",\"y\":[\"timu\"],\"yaxis\":\"y\",\"type\":\"bar\"},{\"alignmentgroup\":\"True\",\"hovertemplate\":\"Common_words=%{y}<br>count=%{x}<extra></extra>\",\"legendgroup\":\"nchi\",\"marker\":{\"color\":\"#FFA15A\",\"pattern\":{\"shape\":\"\"}},\"name\":\"nchi\",\"offsetgroup\":\"nchi\",\"orientation\":\"h\",\"showlegend\":true,\"textposition\":\"auto\",\"x\":[4233],\"xaxis\":\"x\",\"y\":[\"nchi\"],\"yaxis\":\"y\",\"type\":\"bar\"},{\"alignmentgroup\":\"True\",\"hovertemplate\":\"Common_words=%{y}<br>count=%{x}<extra></extra>\",\"legendgroup\":\"hilo\",\"marker\":{\"color\":\"#19d3f3\",\"pattern\":{\"shape\":\"\"}},\"name\":\"hilo\",\"offsetgroup\":\"hilo\",\"orientation\":\"h\",\"showlegend\":true,\"textposition\":\"auto\",\"x\":[4083],\"xaxis\":\"x\",\"y\":[\"hilo\"],\"yaxis\":\"y\",\"type\":\"bar\"},{\"alignmentgroup\":\"True\",\"hovertemplate\":\"Common_words=%{y}<br>count=%{x}<extra></extra>\",\"legendgroup\":\"nchini\",\"marker\":{\"color\":\"#FF6692\",\"pattern\":{\"shape\":\"\"}},\"name\":\"nchini\",\"offsetgroup\":\"nchini\",\"orientation\":\"h\",\"showlegend\":true,\"textposition\":\"auto\",\"x\":[3983],\"xaxis\":\"x\",\"y\":[\"nchini\"],\"yaxis\":\"y\",\"type\":\"bar\"},{\"alignmentgroup\":\"True\",\"hovertemplate\":\"Common_words=%{y}<br>count=%{x}<extra></extra>\",\"legendgroup\":\"hayo\",\"marker\":{\"color\":\"#B6E880\",\"pattern\":{\"shape\":\"\"}},\"name\":\"hayo\",\"offsetgroup\":\"hayo\",\"orientation\":\"h\",\"showlegend\":true,\"textposition\":\"auto\",\"x\":[3725],\"xaxis\":\"x\",\"y\":[\"hayo\"],\"yaxis\":\"y\",\"type\":\"bar\"},{\"alignmentgroup\":\"True\",\"hovertemplate\":\"Common_words=%{y}<br>count=%{x}<extra></extra>\",\"legendgroup\":\"mkuu\",\"marker\":{\"color\":\"#FF97FF\",\"pattern\":{\"shape\":\"\"}},\"name\":\"mkuu\",\"offsetgroup\":\"mkuu\",\"orientation\":\"h\",\"showlegend\":true,\"textposition\":\"auto\",\"x\":[3639],\"xaxis\":\"x\",\"y\":[\"mkuu\"],\"yaxis\":\"y\",\"type\":\"bar\"},{\"alignmentgroup\":\"True\",\"hovertemplate\":\"Common_words=%{y}<br>count=%{x}<extra></extra>\",\"legendgroup\":\"mchezo\",\"marker\":{\"color\":\"#FECB52\",\"pattern\":{\"shape\":\"\"}},\"name\":\"mchezo\",\"offsetgroup\":\"mchezo\",\"orientation\":\"h\",\"showlegend\":true,\"textposition\":\"auto\",\"x\":[3453],\"xaxis\":\"x\",\"y\":[\"mchezo\"],\"yaxis\":\"y\",\"type\":\"bar\"},{\"alignmentgroup\":\"True\",\"hovertemplate\":\"Common_words=%{y}<br>count=%{x}<extra></extra>\",\"legendgroup\":\"kazi\",\"marker\":{\"color\":\"#636efa\",\"pattern\":{\"shape\":\"\"}},\"name\":\"kazi\",\"offsetgroup\":\"kazi\",\"orientation\":\"h\",\"showlegend\":true,\"textposition\":\"auto\",\"x\":[3253],\"xaxis\":\"x\",\"y\":[\"kazi\"],\"yaxis\":\"y\",\"type\":\"bar\"},{\"alignmentgroup\":\"True\",\"hovertemplate\":\"Common_words=%{y}<br>count=%{x}<extra></extra>\",\"legendgroup\":\"fedha\",\"marker\":{\"color\":\"#EF553B\",\"pattern\":{\"shape\":\"\"}},\"name\":\"fedha\",\"offsetgroup\":\"fedha\",\"orientation\":\"h\",\"showlegend\":true,\"textposition\":\"auto\",\"x\":[3204],\"xaxis\":\"x\",\"y\":[\"fedha\"],\"yaxis\":\"y\",\"type\":\"bar\"},{\"alignmentgroup\":\"True\",\"hovertemplate\":\"Common_words=%{y}<br>count=%{x}<extra></extra>\",\"legendgroup\":\"huyo\",\"marker\":{\"color\":\"#00cc96\",\"pattern\":{\"shape\":\"\"}},\"name\":\"huyo\",\"offsetgroup\":\"huyo\",\"orientation\":\"h\",\"showlegend\":true,\"textposition\":\"auto\",\"x\":[3081],\"xaxis\":\"x\",\"y\":[\"huyo\"],\"yaxis\":\"y\",\"type\":\"bar\"},{\"alignmentgroup\":\"True\",\"hovertemplate\":\"Common_words=%{y}<br>count=%{x}<extra></extra>\",\"legendgroup\":\"kufanya\",\"marker\":{\"color\":\"#ab63fa\",\"pattern\":{\"shape\":\"\"}},\"name\":\"kufanya\",\"offsetgroup\":\"kufanya\",\"orientation\":\"h\",\"showlegend\":true,\"textposition\":\"auto\",\"x\":[2986],\"xaxis\":\"x\",\"y\":[\"kufanya\"],\"yaxis\":\"y\",\"type\":\"bar\"},{\"alignmentgroup\":\"True\",\"hovertemplate\":\"Common_words=%{y}<br>count=%{x}<extra></extra>\",\"legendgroup\":\"taifa\",\"marker\":{\"color\":\"#FFA15A\",\"pattern\":{\"shape\":\"\"}},\"name\":\"taifa\",\"offsetgroup\":\"taifa\",\"orientation\":\"h\",\"showlegend\":true,\"textposition\":\"auto\",\"x\":[2887],\"xaxis\":\"x\",\"y\":[\"taifa\"],\"yaxis\":\"y\",\"type\":\"bar\"},{\"alignmentgroup\":\"True\",\"hovertemplate\":\"Common_words=%{y}<br>count=%{x}<extra></extra>\",\"legendgroup\":\"jana\",\"marker\":{\"color\":\"#19d3f3\",\"pattern\":{\"shape\":\"\"}},\"name\":\"jana\",\"offsetgroup\":\"jana\",\"orientation\":\"h\",\"showlegend\":true,\"textposition\":\"auto\",\"x\":[2859],\"xaxis\":\"x\",\"y\":[\"jana\"],\"yaxis\":\"y\",\"type\":\"bar\"},{\"alignmentgroup\":\"True\",\"hovertemplate\":\"Common_words=%{y}<br>count=%{x}<extra></extra>\",\"legendgroup\":\"rais\",\"marker\":{\"color\":\"#FF6692\",\"pattern\":{\"shape\":\"\"}},\"name\":\"rais\",\"offsetgroup\":\"rais\",\"orientation\":\"h\",\"showlegend\":true,\"textposition\":\"auto\",\"x\":[2845],\"xaxis\":\"x\",\"y\":[\"rais\"],\"yaxis\":\"y\",\"type\":\"bar\"},{\"alignmentgroup\":\"True\",\"hovertemplate\":\"Common_words=%{y}<br>count=%{x}<extra></extra>\",\"legendgroup\":\"dar\",\"marker\":{\"color\":\"#B6E880\",\"pattern\":{\"shape\":\"\"}},\"name\":\"dar\",\"offsetgroup\":\"dar\",\"orientation\":\"h\",\"showlegend\":true,\"textposition\":\"auto\",\"x\":[2796],\"xaxis\":\"x\",\"y\":[\"dar\"],\"yaxis\":\"y\",\"type\":\"bar\"},{\"alignmentgroup\":\"True\",\"hovertemplate\":\"Common_words=%{y}<br>count=%{x}<extra></extra>\",\"legendgroup\":\"ambayo\",\"marker\":{\"color\":\"#FF97FF\",\"pattern\":{\"shape\":\"\"}},\"name\":\"ambayo\",\"offsetgroup\":\"ambayo\",\"orientation\":\"h\",\"showlegend\":true,\"textposition\":\"auto\",\"x\":[2775],\"xaxis\":\"x\",\"y\":[\"ambayo\"],\"yaxis\":\"y\",\"type\":\"bar\"},{\"alignmentgroup\":\"True\",\"hovertemplate\":\"Common_words=%{y}<br>count=%{x}<extra></extra>\",\"legendgroup\":\"es\",\"marker\":{\"color\":\"#FECB52\",\"pattern\":{\"shape\":\"\"}},\"name\":\"es\",\"offsetgroup\":\"es\",\"orientation\":\"h\",\"showlegend\":true,\"textposition\":\"auto\",\"x\":[2760],\"xaxis\":\"x\",\"y\":[\"es\"],\"yaxis\":\"y\",\"type\":\"bar\"}],                        {\"template\":{\"data\":{\"bar\":[{\"error_x\":{\"color\":\"#2a3f5f\"},\"error_y\":{\"color\":\"#2a3f5f\"},\"marker\":{\"line\":{\"color\":\"#E5ECF6\",\"width\":0.5},\"pattern\":{\"fillmode\":\"overlay\",\"size\":10,\"solidity\":0.2}},\"type\":\"bar\"}],\"barpolar\":[{\"marker\":{\"line\":{\"color\":\"#E5ECF6\",\"width\":0.5},\"pattern\":{\"fillmode\":\"overlay\",\"size\":10,\"solidity\":0.2}},\"type\":\"barpolar\"}],\"carpet\":[{\"aaxis\":{\"endlinecolor\":\"#2a3f5f\",\"gridcolor\":\"white\",\"linecolor\":\"white\",\"minorgridcolor\":\"white\",\"startlinecolor\":\"#2a3f5f\"},\"baxis\":{\"endlinecolor\":\"#2a3f5f\",\"gridcolor\":\"white\",\"linecolor\":\"white\",\"minorgridcolor\":\"white\",\"startlinecolor\":\"#2a3f5f\"},\"type\":\"carpet\"}],\"choropleth\":[{\"colorbar\":{\"outlinewidth\":0,\"ticks\":\"\"},\"type\":\"choropleth\"}],\"contour\":[{\"colorbar\":{\"outlinewidth\":0,\"ticks\":\"\"},\"colorscale\":[[0.0,\"#0d0887\"],[0.1111111111111111,\"#46039f\"],[0.2222222222222222,\"#7201a8\"],[0.3333333333333333,\"#9c179e\"],[0.4444444444444444,\"#bd3786\"],[0.5555555555555556,\"#d8576b\"],[0.6666666666666666,\"#ed7953\"],[0.7777777777777778,\"#fb9f3a\"],[0.8888888888888888,\"#fdca26\"],[1.0,\"#f0f921\"]],\"type\":\"contour\"}],\"contourcarpet\":[{\"colorbar\":{\"outlinewidth\":0,\"ticks\":\"\"},\"type\":\"contourcarpet\"}],\"heatmap\":[{\"colorbar\":{\"outlinewidth\":0,\"ticks\":\"\"},\"colorscale\":[[0.0,\"#0d0887\"],[0.1111111111111111,\"#46039f\"],[0.2222222222222222,\"#7201a8\"],[0.3333333333333333,\"#9c179e\"],[0.4444444444444444,\"#bd3786\"],[0.5555555555555556,\"#d8576b\"],[0.6666666666666666,\"#ed7953\"],[0.7777777777777778,\"#fb9f3a\"],[0.8888888888888888,\"#fdca26\"],[1.0,\"#f0f921\"]],\"type\":\"heatmap\"}],\"heatmapgl\":[{\"colorbar\":{\"outlinewidth\":0,\"ticks\":\"\"},\"colorscale\":[[0.0,\"#0d0887\"],[0.1111111111111111,\"#46039f\"],[0.2222222222222222,\"#7201a8\"],[0.3333333333333333,\"#9c179e\"],[0.4444444444444444,\"#bd3786\"],[0.5555555555555556,\"#d8576b\"],[0.6666666666666666,\"#ed7953\"],[0.7777777777777778,\"#fb9f3a\"],[0.8888888888888888,\"#fdca26\"],[1.0,\"#f0f921\"]],\"type\":\"heatmapgl\"}],\"histogram\":[{\"marker\":{\"pattern\":{\"fillmode\":\"overlay\",\"size\":10,\"solidity\":0.2}},\"type\":\"histogram\"}],\"histogram2d\":[{\"colorbar\":{\"outlinewidth\":0,\"ticks\":\"\"},\"colorscale\":[[0.0,\"#0d0887\"],[0.1111111111111111,\"#46039f\"],[0.2222222222222222,\"#7201a8\"],[0.3333333333333333,\"#9c179e\"],[0.4444444444444444,\"#bd3786\"],[0.5555555555555556,\"#d8576b\"],[0.6666666666666666,\"#ed7953\"],[0.7777777777777778,\"#fb9f3a\"],[0.8888888888888888,\"#fdca26\"],[1.0,\"#f0f921\"]],\"type\":\"histogram2d\"}],\"histogram2dcontour\":[{\"colorbar\":{\"outlinewidth\":0,\"ticks\":\"\"},\"colorscale\":[[0.0,\"#0d0887\"],[0.1111111111111111,\"#46039f\"],[0.2222222222222222,\"#7201a8\"],[0.3333333333333333,\"#9c179e\"],[0.4444444444444444,\"#bd3786\"],[0.5555555555555556,\"#d8576b\"],[0.6666666666666666,\"#ed7953\"],[0.7777777777777778,\"#fb9f3a\"],[0.8888888888888888,\"#fdca26\"],[1.0,\"#f0f921\"]],\"type\":\"histogram2dcontour\"}],\"mesh3d\":[{\"colorbar\":{\"outlinewidth\":0,\"ticks\":\"\"},\"type\":\"mesh3d\"}],\"parcoords\":[{\"line\":{\"colorbar\":{\"outlinewidth\":0,\"ticks\":\"\"}},\"type\":\"parcoords\"}],\"pie\":[{\"automargin\":true,\"type\":\"pie\"}],\"scatter\":[{\"marker\":{\"colorbar\":{\"outlinewidth\":0,\"ticks\":\"\"}},\"type\":\"scatter\"}],\"scatter3d\":[{\"line\":{\"colorbar\":{\"outlinewidth\":0,\"ticks\":\"\"}},\"marker\":{\"colorbar\":{\"outlinewidth\":0,\"ticks\":\"\"}},\"type\":\"scatter3d\"}],\"scattercarpet\":[{\"marker\":{\"colorbar\":{\"outlinewidth\":0,\"ticks\":\"\"}},\"type\":\"scattercarpet\"}],\"scattergeo\":[{\"marker\":{\"colorbar\":{\"outlinewidth\":0,\"ticks\":\"\"}},\"type\":\"scattergeo\"}],\"scattergl\":[{\"marker\":{\"colorbar\":{\"outlinewidth\":0,\"ticks\":\"\"}},\"type\":\"scattergl\"}],\"scattermapbox\":[{\"marker\":{\"colorbar\":{\"outlinewidth\":0,\"ticks\":\"\"}},\"type\":\"scattermapbox\"}],\"scatterpolar\":[{\"marker\":{\"colorbar\":{\"outlinewidth\":0,\"ticks\":\"\"}},\"type\":\"scatterpolar\"}],\"scatterpolargl\":[{\"marker\":{\"colorbar\":{\"outlinewidth\":0,\"ticks\":\"\"}},\"type\":\"scatterpolargl\"}],\"scatterternary\":[{\"marker\":{\"colorbar\":{\"outlinewidth\":0,\"ticks\":\"\"}},\"type\":\"scatterternary\"}],\"surface\":[{\"colorbar\":{\"outlinewidth\":0,\"ticks\":\"\"},\"colorscale\":[[0.0,\"#0d0887\"],[0.1111111111111111,\"#46039f\"],[0.2222222222222222,\"#7201a8\"],[0.3333333333333333,\"#9c179e\"],[0.4444444444444444,\"#bd3786\"],[0.5555555555555556,\"#d8576b\"],[0.6666666666666666,\"#ed7953\"],[0.7777777777777778,\"#fb9f3a\"],[0.8888888888888888,\"#fdca26\"],[1.0,\"#f0f921\"]],\"type\":\"surface\"}],\"table\":[{\"cells\":{\"fill\":{\"color\":\"#EBF0F8\"},\"line\":{\"color\":\"white\"}},\"header\":{\"fill\":{\"color\":\"#C8D4E3\"},\"line\":{\"color\":\"white\"}},\"type\":\"table\"}]},\"layout\":{\"annotationdefaults\":{\"arrowcolor\":\"#2a3f5f\",\"arrowhead\":0,\"arrowwidth\":1},\"autotypenumbers\":\"strict\",\"coloraxis\":{\"colorbar\":{\"outlinewidth\":0,\"ticks\":\"\"}},\"colorscale\":{\"diverging\":[[0,\"#8e0152\"],[0.1,\"#c51b7d\"],[0.2,\"#de77ae\"],[0.3,\"#f1b6da\"],[0.4,\"#fde0ef\"],[0.5,\"#f7f7f7\"],[0.6,\"#e6f5d0\"],[0.7,\"#b8e186\"],[0.8,\"#7fbc41\"],[0.9,\"#4d9221\"],[1,\"#276419\"]],\"sequential\":[[0.0,\"#0d0887\"],[0.1111111111111111,\"#46039f\"],[0.2222222222222222,\"#7201a8\"],[0.3333333333333333,\"#9c179e\"],[0.4444444444444444,\"#bd3786\"],[0.5555555555555556,\"#d8576b\"],[0.6666666666666666,\"#ed7953\"],[0.7777777777777778,\"#fb9f3a\"],[0.8888888888888888,\"#fdca26\"],[1.0,\"#f0f921\"]],\"sequentialminus\":[[0.0,\"#0d0887\"],[0.1111111111111111,\"#46039f\"],[0.2222222222222222,\"#7201a8\"],[0.3333333333333333,\"#9c179e\"],[0.4444444444444444,\"#bd3786\"],[0.5555555555555556,\"#d8576b\"],[0.6666666666666666,\"#ed7953\"],[0.7777777777777778,\"#fb9f3a\"],[0.8888888888888888,\"#fdca26\"],[1.0,\"#f0f921\"]]},\"colorway\":[\"#636efa\",\"#EF553B\",\"#00cc96\",\"#ab63fa\",\"#FFA15A\",\"#19d3f3\",\"#FF6692\",\"#B6E880\",\"#FF97FF\",\"#FECB52\"],\"font\":{\"color\":\"#2a3f5f\"},\"geo\":{\"bgcolor\":\"white\",\"lakecolor\":\"white\",\"landcolor\":\"#E5ECF6\",\"showlakes\":true,\"showland\":true,\"subunitcolor\":\"white\"},\"hoverlabel\":{\"align\":\"left\"},\"hovermode\":\"closest\",\"mapbox\":{\"style\":\"light\"},\"paper_bgcolor\":\"white\",\"plot_bgcolor\":\"#E5ECF6\",\"polar\":{\"angularaxis\":{\"gridcolor\":\"white\",\"linecolor\":\"white\",\"ticks\":\"\"},\"bgcolor\":\"#E5ECF6\",\"radialaxis\":{\"gridcolor\":\"white\",\"linecolor\":\"white\",\"ticks\":\"\"}},\"scene\":{\"xaxis\":{\"backgroundcolor\":\"#E5ECF6\",\"gridcolor\":\"white\",\"gridwidth\":2,\"linecolor\":\"white\",\"showbackground\":true,\"ticks\":\"\",\"zerolinecolor\":\"white\"},\"yaxis\":{\"backgroundcolor\":\"#E5ECF6\",\"gridcolor\":\"white\",\"gridwidth\":2,\"linecolor\":\"white\",\"showbackground\":true,\"ticks\":\"\",\"zerolinecolor\":\"white\"},\"zaxis\":{\"backgroundcolor\":\"#E5ECF6\",\"gridcolor\":\"white\",\"gridwidth\":2,\"linecolor\":\"white\",\"showbackground\":true,\"ticks\":\"\",\"zerolinecolor\":\"white\"}},\"shapedefaults\":{\"line\":{\"color\":\"#2a3f5f\"}},\"ternary\":{\"aaxis\":{\"gridcolor\":\"white\",\"linecolor\":\"white\",\"ticks\":\"\"},\"baxis\":{\"gridcolor\":\"white\",\"linecolor\":\"white\",\"ticks\":\"\"},\"bgcolor\":\"#E5ECF6\",\"caxis\":{\"gridcolor\":\"white\",\"linecolor\":\"white\",\"ticks\":\"\"}},\"title\":{\"x\":0.05},\"xaxis\":{\"automargin\":true,\"gridcolor\":\"white\",\"linecolor\":\"white\",\"ticks\":\"\",\"title\":{\"standoff\":15},\"zerolinecolor\":\"white\",\"zerolinewidth\":2},\"yaxis\":{\"automargin\":true,\"gridcolor\":\"white\",\"linecolor\":\"white\",\"ticks\":\"\",\"title\":{\"standoff\":15},\"zerolinecolor\":\"white\",\"zerolinewidth\":2}}},\"xaxis\":{\"anchor\":\"y\",\"domain\":[0.0,1.0],\"title\":{\"text\":\"count\"}},\"yaxis\":{\"anchor\":\"x\",\"domain\":[0.0,1.0],\"title\":{\"text\":\"Common_words\"},\"categoryorder\":\"array\",\"categoryarray\":[\"es\",\"ambayo\",\"dar\",\"rais\",\"jana\",\"taifa\",\"kufanya\",\"huyo\",\"fedha\",\"kazi\",\"mchezo\",\"mkuu\",\"hayo\",\"nchini\",\"hilo\",\"nchi\",\"timu\",\"tanzania\",\"serikali\",\"mwaka\"]},\"legend\":{\"title\":{\"text\":\"Common_words\"},\"tracegroupgap\":0},\"title\":{\"text\":\"Commmon Words in Selected Text\"},\"barmode\":\"relative\",\"height\":700,\"width\":700},                        {\"responsive\": true}                    ).then(function(){\n",
              "                            \n",
              "var gd = document.getElementById('67879db4-6508-4bcb-b0c4-576ff572df4f');\n",
              "var x = new MutationObserver(function (mutations, observer) {{\n",
              "        var display = window.getComputedStyle(gd).display;\n",
              "        if (!display || display === 'none') {{\n",
              "            console.log([gd, 'removed!']);\n",
              "            Plotly.purge(gd);\n",
              "            observer.disconnect();\n",
              "        }}\n",
              "}});\n",
              "\n",
              "// Listen for the removal of the full notebook cells\n",
              "var notebookContainer = gd.closest('#notebook-container');\n",
              "if (notebookContainer) {{\n",
              "    x.observe(notebookContainer, {childList: true});\n",
              "}}\n",
              "\n",
              "// Listen for the clearing of the current output cell\n",
              "var outputEl = gd.closest('.output');\n",
              "if (outputEl) {{\n",
              "    x.observe(outputEl, {childList: true});\n",
              "}}\n",
              "\n",
              "                        })                };                            </script>        </div>\n",
              "</body>\n",
              "</html>"
            ]
          },
          "metadata": {}
        }
      ],
      "source": [
        "#A bar graph of the most common words in our texts\n",
        "fig = px.bar(temp, x=\"count\", y=\"Common_words\", title='Commmon Words in Selected Text', orientation='h', \n",
        "             width=700, height=700,color='Common_words')\n",
        "fig.show()"
      ]
    },
    {
      "cell_type": "code",
      "execution_count": 25,
      "metadata": {
        "colab": {
          "base_uri": "https://localhost:8080/",
          "height": 542
        },
        "id": "FRHO9-m3HLN7",
        "outputId": "fd2146de-3b2f-4169-f1f1-3c57001efc25"
      },
      "outputs": [
        {
          "output_type": "display_data",
          "data": {
            "text/html": [
              "<html>\n",
              "<head><meta charset=\"utf-8\" /></head>\n",
              "<body>\n",
              "    <div>            <script src=\"https://cdnjs.cloudflare.com/ajax/libs/mathjax/2.7.5/MathJax.js?config=TeX-AMS-MML_SVG\"></script><script type=\"text/javascript\">if (window.MathJax) {MathJax.Hub.Config({SVG: {font: \"STIX-Web\"}});}</script>                <script type=\"text/javascript\">window.PlotlyConfig = {MathJaxConfig: 'local'};</script>\n",
              "        <script src=\"https://cdn.plot.ly/plotly-2.8.3.min.js\"></script>                <div id=\"0e12790c-5cf8-4517-9b0c-3e5bdf55a0d0\" class=\"plotly-graph-div\" style=\"height:525px; width:100%;\"></div>            <script type=\"text/javascript\">                                    window.PLOTLYENV=window.PLOTLYENV || {};                                    if (document.getElementById(\"0e12790c-5cf8-4517-9b0c-3e5bdf55a0d0\")) {                    Plotly.newPlot(                        \"0e12790c-5cf8-4517-9b0c-3e5bdf55a0d0\",                        [{\"branchvalues\":\"total\",\"domain\":{\"x\":[0.0,1.0],\"y\":[0.0,1.0]},\"hovertemplate\":\"labels=%{label}<br>count=%{value}<br>parent=%{parent}<br>id=%{id}<extra></extra>\",\"ids\":[\"ambayo\",\"dar\",\"es\",\"fedha\",\"hayo\",\"hilo\",\"huyo\",\"jana\",\"kazi\",\"kufanya\",\"mchezo\",\"mkuu\",\"mwaka\",\"nchi\",\"nchini\",\"rais\",\"serikali\",\"taifa\",\"tanzania\",\"timu\"],\"labels\":[\"ambayo\",\"dar\",\"es\",\"fedha\",\"hayo\",\"hilo\",\"huyo\",\"jana\",\"kazi\",\"kufanya\",\"mchezo\",\"mkuu\",\"mwaka\",\"nchi\",\"nchini\",\"rais\",\"serikali\",\"taifa\",\"tanzania\",\"timu\"],\"name\":\"\",\"parents\":[\"\",\"\",\"\",\"\",\"\",\"\",\"\",\"\",\"\",\"\",\"\",\"\",\"\",\"\",\"\",\"\",\"\",\"\",\"\",\"\"],\"values\":[2775,2796,2760,3204,3725,4083,3081,2859,3253,2986,3453,3639,6595,4233,3983,2845,5892,2887,4973,4479],\"type\":\"treemap\"}],                        {\"template\":{\"data\":{\"bar\":[{\"error_x\":{\"color\":\"#2a3f5f\"},\"error_y\":{\"color\":\"#2a3f5f\"},\"marker\":{\"line\":{\"color\":\"#E5ECF6\",\"width\":0.5},\"pattern\":{\"fillmode\":\"overlay\",\"size\":10,\"solidity\":0.2}},\"type\":\"bar\"}],\"barpolar\":[{\"marker\":{\"line\":{\"color\":\"#E5ECF6\",\"width\":0.5},\"pattern\":{\"fillmode\":\"overlay\",\"size\":10,\"solidity\":0.2}},\"type\":\"barpolar\"}],\"carpet\":[{\"aaxis\":{\"endlinecolor\":\"#2a3f5f\",\"gridcolor\":\"white\",\"linecolor\":\"white\",\"minorgridcolor\":\"white\",\"startlinecolor\":\"#2a3f5f\"},\"baxis\":{\"endlinecolor\":\"#2a3f5f\",\"gridcolor\":\"white\",\"linecolor\":\"white\",\"minorgridcolor\":\"white\",\"startlinecolor\":\"#2a3f5f\"},\"type\":\"carpet\"}],\"choropleth\":[{\"colorbar\":{\"outlinewidth\":0,\"ticks\":\"\"},\"type\":\"choropleth\"}],\"contour\":[{\"colorbar\":{\"outlinewidth\":0,\"ticks\":\"\"},\"colorscale\":[[0.0,\"#0d0887\"],[0.1111111111111111,\"#46039f\"],[0.2222222222222222,\"#7201a8\"],[0.3333333333333333,\"#9c179e\"],[0.4444444444444444,\"#bd3786\"],[0.5555555555555556,\"#d8576b\"],[0.6666666666666666,\"#ed7953\"],[0.7777777777777778,\"#fb9f3a\"],[0.8888888888888888,\"#fdca26\"],[1.0,\"#f0f921\"]],\"type\":\"contour\"}],\"contourcarpet\":[{\"colorbar\":{\"outlinewidth\":0,\"ticks\":\"\"},\"type\":\"contourcarpet\"}],\"heatmap\":[{\"colorbar\":{\"outlinewidth\":0,\"ticks\":\"\"},\"colorscale\":[[0.0,\"#0d0887\"],[0.1111111111111111,\"#46039f\"],[0.2222222222222222,\"#7201a8\"],[0.3333333333333333,\"#9c179e\"],[0.4444444444444444,\"#bd3786\"],[0.5555555555555556,\"#d8576b\"],[0.6666666666666666,\"#ed7953\"],[0.7777777777777778,\"#fb9f3a\"],[0.8888888888888888,\"#fdca26\"],[1.0,\"#f0f921\"]],\"type\":\"heatmap\"}],\"heatmapgl\":[{\"colorbar\":{\"outlinewidth\":0,\"ticks\":\"\"},\"colorscale\":[[0.0,\"#0d0887\"],[0.1111111111111111,\"#46039f\"],[0.2222222222222222,\"#7201a8\"],[0.3333333333333333,\"#9c179e\"],[0.4444444444444444,\"#bd3786\"],[0.5555555555555556,\"#d8576b\"],[0.6666666666666666,\"#ed7953\"],[0.7777777777777778,\"#fb9f3a\"],[0.8888888888888888,\"#fdca26\"],[1.0,\"#f0f921\"]],\"type\":\"heatmapgl\"}],\"histogram\":[{\"marker\":{\"pattern\":{\"fillmode\":\"overlay\",\"size\":10,\"solidity\":0.2}},\"type\":\"histogram\"}],\"histogram2d\":[{\"colorbar\":{\"outlinewidth\":0,\"ticks\":\"\"},\"colorscale\":[[0.0,\"#0d0887\"],[0.1111111111111111,\"#46039f\"],[0.2222222222222222,\"#7201a8\"],[0.3333333333333333,\"#9c179e\"],[0.4444444444444444,\"#bd3786\"],[0.5555555555555556,\"#d8576b\"],[0.6666666666666666,\"#ed7953\"],[0.7777777777777778,\"#fb9f3a\"],[0.8888888888888888,\"#fdca26\"],[1.0,\"#f0f921\"]],\"type\":\"histogram2d\"}],\"histogram2dcontour\":[{\"colorbar\":{\"outlinewidth\":0,\"ticks\":\"\"},\"colorscale\":[[0.0,\"#0d0887\"],[0.1111111111111111,\"#46039f\"],[0.2222222222222222,\"#7201a8\"],[0.3333333333333333,\"#9c179e\"],[0.4444444444444444,\"#bd3786\"],[0.5555555555555556,\"#d8576b\"],[0.6666666666666666,\"#ed7953\"],[0.7777777777777778,\"#fb9f3a\"],[0.8888888888888888,\"#fdca26\"],[1.0,\"#f0f921\"]],\"type\":\"histogram2dcontour\"}],\"mesh3d\":[{\"colorbar\":{\"outlinewidth\":0,\"ticks\":\"\"},\"type\":\"mesh3d\"}],\"parcoords\":[{\"line\":{\"colorbar\":{\"outlinewidth\":0,\"ticks\":\"\"}},\"type\":\"parcoords\"}],\"pie\":[{\"automargin\":true,\"type\":\"pie\"}],\"scatter\":[{\"marker\":{\"colorbar\":{\"outlinewidth\":0,\"ticks\":\"\"}},\"type\":\"scatter\"}],\"scatter3d\":[{\"line\":{\"colorbar\":{\"outlinewidth\":0,\"ticks\":\"\"}},\"marker\":{\"colorbar\":{\"outlinewidth\":0,\"ticks\":\"\"}},\"type\":\"scatter3d\"}],\"scattercarpet\":[{\"marker\":{\"colorbar\":{\"outlinewidth\":0,\"ticks\":\"\"}},\"type\":\"scattercarpet\"}],\"scattergeo\":[{\"marker\":{\"colorbar\":{\"outlinewidth\":0,\"ticks\":\"\"}},\"type\":\"scattergeo\"}],\"scattergl\":[{\"marker\":{\"colorbar\":{\"outlinewidth\":0,\"ticks\":\"\"}},\"type\":\"scattergl\"}],\"scattermapbox\":[{\"marker\":{\"colorbar\":{\"outlinewidth\":0,\"ticks\":\"\"}},\"type\":\"scattermapbox\"}],\"scatterpolar\":[{\"marker\":{\"colorbar\":{\"outlinewidth\":0,\"ticks\":\"\"}},\"type\":\"scatterpolar\"}],\"scatterpolargl\":[{\"marker\":{\"colorbar\":{\"outlinewidth\":0,\"ticks\":\"\"}},\"type\":\"scatterpolargl\"}],\"scatterternary\":[{\"marker\":{\"colorbar\":{\"outlinewidth\":0,\"ticks\":\"\"}},\"type\":\"scatterternary\"}],\"surface\":[{\"colorbar\":{\"outlinewidth\":0,\"ticks\":\"\"},\"colorscale\":[[0.0,\"#0d0887\"],[0.1111111111111111,\"#46039f\"],[0.2222222222222222,\"#7201a8\"],[0.3333333333333333,\"#9c179e\"],[0.4444444444444444,\"#bd3786\"],[0.5555555555555556,\"#d8576b\"],[0.6666666666666666,\"#ed7953\"],[0.7777777777777778,\"#fb9f3a\"],[0.8888888888888888,\"#fdca26\"],[1.0,\"#f0f921\"]],\"type\":\"surface\"}],\"table\":[{\"cells\":{\"fill\":{\"color\":\"#EBF0F8\"},\"line\":{\"color\":\"white\"}},\"header\":{\"fill\":{\"color\":\"#C8D4E3\"},\"line\":{\"color\":\"white\"}},\"type\":\"table\"}]},\"layout\":{\"annotationdefaults\":{\"arrowcolor\":\"#2a3f5f\",\"arrowhead\":0,\"arrowwidth\":1},\"autotypenumbers\":\"strict\",\"coloraxis\":{\"colorbar\":{\"outlinewidth\":0,\"ticks\":\"\"}},\"colorscale\":{\"diverging\":[[0,\"#8e0152\"],[0.1,\"#c51b7d\"],[0.2,\"#de77ae\"],[0.3,\"#f1b6da\"],[0.4,\"#fde0ef\"],[0.5,\"#f7f7f7\"],[0.6,\"#e6f5d0\"],[0.7,\"#b8e186\"],[0.8,\"#7fbc41\"],[0.9,\"#4d9221\"],[1,\"#276419\"]],\"sequential\":[[0.0,\"#0d0887\"],[0.1111111111111111,\"#46039f\"],[0.2222222222222222,\"#7201a8\"],[0.3333333333333333,\"#9c179e\"],[0.4444444444444444,\"#bd3786\"],[0.5555555555555556,\"#d8576b\"],[0.6666666666666666,\"#ed7953\"],[0.7777777777777778,\"#fb9f3a\"],[0.8888888888888888,\"#fdca26\"],[1.0,\"#f0f921\"]],\"sequentialminus\":[[0.0,\"#0d0887\"],[0.1111111111111111,\"#46039f\"],[0.2222222222222222,\"#7201a8\"],[0.3333333333333333,\"#9c179e\"],[0.4444444444444444,\"#bd3786\"],[0.5555555555555556,\"#d8576b\"],[0.6666666666666666,\"#ed7953\"],[0.7777777777777778,\"#fb9f3a\"],[0.8888888888888888,\"#fdca26\"],[1.0,\"#f0f921\"]]},\"colorway\":[\"#636efa\",\"#EF553B\",\"#00cc96\",\"#ab63fa\",\"#FFA15A\",\"#19d3f3\",\"#FF6692\",\"#B6E880\",\"#FF97FF\",\"#FECB52\"],\"font\":{\"color\":\"#2a3f5f\"},\"geo\":{\"bgcolor\":\"white\",\"lakecolor\":\"white\",\"landcolor\":\"#E5ECF6\",\"showlakes\":true,\"showland\":true,\"subunitcolor\":\"white\"},\"hoverlabel\":{\"align\":\"left\"},\"hovermode\":\"closest\",\"mapbox\":{\"style\":\"light\"},\"paper_bgcolor\":\"white\",\"plot_bgcolor\":\"#E5ECF6\",\"polar\":{\"angularaxis\":{\"gridcolor\":\"white\",\"linecolor\":\"white\",\"ticks\":\"\"},\"bgcolor\":\"#E5ECF6\",\"radialaxis\":{\"gridcolor\":\"white\",\"linecolor\":\"white\",\"ticks\":\"\"}},\"scene\":{\"xaxis\":{\"backgroundcolor\":\"#E5ECF6\",\"gridcolor\":\"white\",\"gridwidth\":2,\"linecolor\":\"white\",\"showbackground\":true,\"ticks\":\"\",\"zerolinecolor\":\"white\"},\"yaxis\":{\"backgroundcolor\":\"#E5ECF6\",\"gridcolor\":\"white\",\"gridwidth\":2,\"linecolor\":\"white\",\"showbackground\":true,\"ticks\":\"\",\"zerolinecolor\":\"white\"},\"zaxis\":{\"backgroundcolor\":\"#E5ECF6\",\"gridcolor\":\"white\",\"gridwidth\":2,\"linecolor\":\"white\",\"showbackground\":true,\"ticks\":\"\",\"zerolinecolor\":\"white\"}},\"shapedefaults\":{\"line\":{\"color\":\"#2a3f5f\"}},\"ternary\":{\"aaxis\":{\"gridcolor\":\"white\",\"linecolor\":\"white\",\"ticks\":\"\"},\"baxis\":{\"gridcolor\":\"white\",\"linecolor\":\"white\",\"ticks\":\"\"},\"bgcolor\":\"#E5ECF6\",\"caxis\":{\"gridcolor\":\"white\",\"linecolor\":\"white\",\"ticks\":\"\"}},\"title\":{\"x\":0.05},\"xaxis\":{\"automargin\":true,\"gridcolor\":\"white\",\"linecolor\":\"white\",\"ticks\":\"\",\"title\":{\"standoff\":15},\"zerolinecolor\":\"white\",\"zerolinewidth\":2},\"yaxis\":{\"automargin\":true,\"gridcolor\":\"white\",\"linecolor\":\"white\",\"ticks\":\"\",\"title\":{\"standoff\":15},\"zerolinecolor\":\"white\",\"zerolinewidth\":2}}},\"legend\":{\"tracegroupgap\":0},\"title\":{\"text\":\"Tree of Most Common Words\"}},                        {\"responsive\": true}                    ).then(function(){\n",
              "                            \n",
              "var gd = document.getElementById('0e12790c-5cf8-4517-9b0c-3e5bdf55a0d0');\n",
              "var x = new MutationObserver(function (mutations, observer) {{\n",
              "        var display = window.getComputedStyle(gd).display;\n",
              "        if (!display || display === 'none') {{\n",
              "            console.log([gd, 'removed!']);\n",
              "            Plotly.purge(gd);\n",
              "            observer.disconnect();\n",
              "        }}\n",
              "}});\n",
              "\n",
              "// Listen for the removal of the full notebook cells\n",
              "var notebookContainer = gd.closest('#notebook-container');\n",
              "if (notebookContainer) {{\n",
              "    x.observe(notebookContainer, {childList: true});\n",
              "}}\n",
              "\n",
              "// Listen for the clearing of the current output cell\n",
              "var outputEl = gd.closest('.output');\n",
              "if (outputEl) {{\n",
              "    x.observe(outputEl, {childList: true});\n",
              "}}\n",
              "\n",
              "                        })                };                            </script>        </div>\n",
              "</body>\n",
              "</html>"
            ]
          },
          "metadata": {}
        }
      ],
      "source": [
        "#Making a tree of the most common words\n",
        "fig = px.treemap(temp, path=['Common_words'], values='count',title='Tree of Most Common Words')\n",
        "fig.show()"
      ]
    },
    {
      "cell_type": "code",
      "execution_count": 26,
      "metadata": {
        "id": "_KIFJFyGBVHK",
        "colab": {
          "base_uri": "https://localhost:8080/",
          "height": 380
        },
        "outputId": "cbf6482f-5bf2-44a2-ae4b-7e3099a86514"
      },
      "outputs": [
        {
          "output_type": "display_data",
          "data": {
            "text/plain": [
              "<Figure size 720x504 with 1 Axes>"
            ],
            "image/png": "[encoded data removed]"
          },
          "metadata": {
            "needs_background": "light"
          }
        }
      ],
      "source": [
        "# Plot wordcloud image using WordCloud\n",
        "#Importing wordcloud to create wordcloud diagrams\n",
        "from wordcloud import WordCloud\n",
        "all_words = ' '.join([text for text in train['clean_content']])\n",
        "\n",
        "wordcloud = WordCloud(width=800, height=500, random_state=21, max_font_size=110).generate(all_words)\n",
        "#random=0.30\n",
        "plt.figure(figsize=(10, 7))\n",
        "plt.imshow(wordcloud, interpolation=\"bilinear\")\n",
        "plt.axis('off')\n",
        "plt.show()"
      ]
    },
    {
      "cell_type": "markdown",
      "source": [
        "## Bivariate Analysis"
      ],
      "metadata": {
        "id": "hOWuzTdOFTgf"
      }
    },
    {
      "cell_type": "code",
      "source": [
        "#Selecting the Kitaifa category\n",
        "Kitaifa = df_eda[df_eda['category']== 'Kitaifa']\n",
        "Kitaifa.head()"
      ],
      "metadata": {
        "colab": {
          "base_uri": "https://localhost:8080/",
          "height": 267
        },
        "id": "cmI8NTfJFS6U",
        "outputId": "3af27180-2ed1-4c53-c30a-b3f1ed6ff35b"
      },
      "execution_count": 27,
      "outputs": [
        {
          "output_type": "execute_result",
          "data": {
            "text/plain": [
              "        id                                            content category  \\\n",
              "0      SW0   SERIKALI imesema haitakuwa tayari kuona amani...  Kitaifa   \n",
              "2     SW10   SERIKALI imetoa miezi sita kwa taasisi zote z...  Kitaifa   \n",
              "4   SW1000   WATANZANIA wamekumbushwa kusherehekea sikukuu...  Kitaifa   \n",
              "7   SW1004   IDADI ya vifo vya waendesha bodaboda nchini v...  Kitaifa   \n",
              "10  SW1009   KWA mujibu wa vyanzo mbalimbali, Tanzania ina...  Kitaifa   \n",
              "\n",
              "                                        clean_content  \n",
              "0   [serikali, imesema, haitakuwa, tayari, kuona, ...  \n",
              "2   [serikali, imetoa, miezi, sita, taasisi, zote,...  \n",
              "4   [watanzania, wamekumbushwa, kusherehekea, siku...  \n",
              "7   [idadi, vifo, waendesha, bodaboda, nchini, vit...  \n",
              "10  [mujibu, vyanzo, mbalimbali, tanzania, ina, ma...  "
            ],
            "text/html": [
              "\n",
              "  <div id=\"df-e4c084bf-24d3-4c5e-b244-fd463aceb5c1\">\n",
              "    <div class=\"colab-df-container\">\n",
              "      <div>\n",
              "<style scoped>\n",
              "    .dataframe tbody tr th:only-of-type {\n",
              "        vertical-align: middle;\n",
              "    }\n",
              "\n",
              "    .dataframe tbody tr th {\n",
              "        vertical-align: top;\n",
              "    }\n",
              "\n",
              "    .dataframe thead th {\n",
              "        text-align: right;\n",
              "    }\n",
              "</style>\n",
              "<table border=\"1\" class=\"dataframe\">\n",
              "  <thead>\n",
              "    <tr style=\"text-align: right;\">\n",
              "      <th></th>\n",
              "      <th>id</th>\n",
              "      <th>content</th>\n",
              "      <th>category</th>\n",
              "      <th>clean_content</th>\n",
              "    </tr>\n",
              "  </thead>\n",
              "  <tbody>\n",
              "    <tr>\n",
              "      <th>0</th>\n",
              "      <td>SW0</td>\n",
              "      <td>SERIKALI imesema haitakuwa tayari kuona amani...</td>\n",
              "      <td>Kitaifa</td>\n",
              "      <td>[serikali, imesema, haitakuwa, tayari, kuona, ...</td>\n",
              "    </tr>\n",
              "    <tr>\n",
              "      <th>2</th>\n",
              "      <td>SW10</td>\n",
              "      <td>SERIKALI imetoa miezi sita kwa taasisi zote z...</td>\n",
              "      <td>Kitaifa</td>\n",
              "      <td>[serikali, imetoa, miezi, sita, taasisi, zote,...</td>\n",
              "    </tr>\n",
              "    <tr>\n",
              "      <th>4</th>\n",
              "      <td>SW1000</td>\n",
              "      <td>WATANZANIA wamekumbushwa kusherehekea sikukuu...</td>\n",
              "      <td>Kitaifa</td>\n",
              "      <td>[watanzania, wamekumbushwa, kusherehekea, siku...</td>\n",
              "    </tr>\n",
              "    <tr>\n",
              "      <th>7</th>\n",
              "      <td>SW1004</td>\n",
              "      <td>IDADI ya vifo vya waendesha bodaboda nchini v...</td>\n",
              "      <td>Kitaifa</td>\n",
              "      <td>[idadi, vifo, waendesha, bodaboda, nchini, vit...</td>\n",
              "    </tr>\n",
              "    <tr>\n",
              "      <th>10</th>\n",
              "      <td>SW1009</td>\n",
              "      <td>KWA mujibu wa vyanzo mbalimbali, Tanzania ina...</td>\n",
              "      <td>Kitaifa</td>\n",
              "      <td>[mujibu, vyanzo, mbalimbali, tanzania, ina, ma...</td>\n",
              "    </tr>\n",
              "  </tbody>\n",
              "</table>\n",
              "</div>\n",
              "      <button class=\"colab-df-convert\" onclick=\"convertToInteractive('df-e4c084bf-24d3-4c5e-b244-fd463aceb5c1')\"\n",
              "              title=\"Convert this dataframe to an interactive table.\"\n",
              "              style=\"display:none;\">\n",
              "        \n",
              "  <svg xmlns=\"http://www.w3.org/2000/svg\" height=\"24px\"viewBox=\"0 0 24 24\"\n",
              "       width=\"24px\">\n",
              "    <path d=\"M0 0h24v24H0V0z\" fill=\"none\"/>\n",
              "    <path d=\"M18.56 5.44l.94 2.06.94-2.06 2.06-.94-2.06-.94-.94-2.06-.94 2.06-2.06.94zm-11 1L8.5 8.5l.94-2.06 2.06-.94-2.06-.94L8.5 2.5l-.94 2.06-2.06.94zm10 10l.94 2.06.94-2.06 2.06-.94-2.06-.94-.94-2.06-.94 2.06-2.06.94z\"/><path d=\"M17.41 7.96l-1.37-1.37c-.4-.4-.92-.59-1.43-.59-.52 0-1.04.2-1.43.59L10.3 9.45l-7.72 7.72c-.78.78-.78 2.05 0 2.83L4 21.41c.39.39.9.59 1.41.59.51 0 1.02-.2 1.41-.59l7.78-7.78 2.81-2.81c.8-.78.8-2.07 0-2.86zM5.41 20L4 18.59l7.72-7.72 1.47 1.35L5.41 20z\"/>\n",
              "  </svg>\n",
              "      </button>\n",
              "      \n",
              "  <style>\n",
              "    .colab-df-container {\n",
              "      display:flex;\n",
              "      flex-wrap:wrap;\n",
              "      gap: 12px;\n",
              "    }\n",
              "\n",
              "    .colab-df-convert {\n",
              "      background-color: #E8F0FE;\n",
              "      border: none;\n",
              "      border-radius: 50%;\n",
              "      cursor: pointer;\n",
              "      display: none;\n",
              "      fill: #1967D2;\n",
              "      height: 32px;\n",
              "      padding: 0 0 0 0;\n",
              "      width: 32px;\n",
              "    }\n",
              "\n",
              "    .colab-df-convert:hover {\n",
              "      background-color: #E2EBFA;\n",
              "      box-shadow: 0px 1px 2px rgba(60, 64, 67, 0.3), 0px 1px 3px 1px rgba(60, 64, 67, 0.15);\n",
              "      fill: #174EA6;\n",
              "    }\n",
              "\n",
              "    [theme=dark] .colab-df-convert {\n",
              "      background-color: #3B4455;\n",
              "      fill: #D2E3FC;\n",
              "    }\n",
              "\n",
              "    [theme=dark] .colab-df-convert:hover {\n",
              "      background-color: #434B5C;\n",
              "      box-shadow: 0px 1px 3px 1px rgba(0, 0, 0, 0.15);\n",
              "      filter: drop-shadow(0px 1px 2px rgba(0, 0, 0, 0.3));\n",
              "      fill: #FFFFFF;\n",
              "    }\n",
              "  </style>\n",
              "\n",
              "      <script>\n",
              "        const buttonEl =\n",
              "          document.querySelector('#df-e4c084bf-24d3-4c5e-b244-fd463aceb5c1 button.colab-df-convert');\n",
              "        buttonEl.style.display =\n",
              "          google.colab.kernel.accessAllowed ? 'block' : 'none';\n",
              "\n",
              "        async function convertToInteractive(key) {\n",
              "          const element = document.querySelector('#df-e4c084bf-24d3-4c5e-b244-fd463aceb5c1');\n",
              "          const dataTable =\n",
              "            await google.colab.kernel.invokeFunction('convertToInteractive',\n",
              "                                                     [key], {});\n",
              "          if (!dataTable) return;\n",
              "\n",
              "          const docLinkHtml = 'Like what you see? Visit the ' +\n",
              "            '<a target=\"_blank\" href=https://colab.research.google.com/notebooks/data_table.ipynb>data table notebook</a>'\n",
              "            + ' to learn more about interactive tables.';\n",
              "          element.innerHTML = '';\n",
              "          dataTable['output_type'] = 'display_data';\n",
              "          await google.colab.output.renderOutput(dataTable, element);\n",
              "          const docLink = document.createElement('div');\n",
              "          docLink.innerHTML = docLinkHtml;\n",
              "          element.appendChild(docLink);\n",
              "        }\n",
              "      </script>\n",
              "    </div>\n",
              "  </div>\n",
              "  "
            ]
          },
          "metadata": {},
          "execution_count": 27
        }
      ]
    },
    {
      "cell_type": "code",
      "source": [
        "#Selecting the Biashara category\n",
        "Biashara = df_eda[df_eda['category']== 'Biashara']\n",
        "Biashara.head()"
      ],
      "metadata": {
        "colab": {
          "base_uri": "https://localhost:8080/",
          "height": 267
        },
        "id": "P4eKmdtvFrTP",
        "outputId": "1bf73950-895d-404c-a595-f0368aa6da1b"
      },
      "execution_count": 28,
      "outputs": [
        {
          "output_type": "execute_result",
          "data": {
            "text/plain": [
              "        id                                            content  category  \\\n",
              "1      SW1   Mkuu wa Mkoa wa Tabora, Aggrey Mwanri amesiti...  Biashara   \n",
              "6   SW1003   Meneja Masoko na Mawasiliano wa taasisi hiyo,...  Biashara   \n",
              "8   SW1006   Katika uzinduzi huo, rais amesema kuna haja y...  Biashara   \n",
              "12  SW1010   SERIKALI ya Mapinduzi ya Zanzibar (SMZ) imewa...  Biashara   \n",
              "13  SW1011   Akizungumza kwenye mkutano mkuu wa wanahisa u...  Biashara   \n",
              "\n",
              "                                        clean_content  \n",
              "1   [mkuu, mkoa, tabora, aggrey, mwanri, amesitish...  \n",
              "6   [meneja, masoko, mawasiliano, taasisi, ngula, ...  \n",
              "8   [uzinduzi, rais, amesema, kuna, haja, kutafuta...  \n",
              "12  [serikali, mapinduzi, zanzibar, smz, imewataka...  \n",
              "13  [akizungumza, mkutano, mkuu, wanahisa, uliofan...  "
            ],
            "text/html": [
              "\n",
              "  <div id=\"df-01d54b23-c9d3-4370-8573-3e3c3359b68d\">\n",
              "    <div class=\"colab-df-container\">\n",
              "      <div>\n",
              "<style scoped>\n",
              "    .dataframe tbody tr th:only-of-type {\n",
              "        vertical-align: middle;\n",
              "    }\n",
              "\n",
              "    .dataframe tbody tr th {\n",
              "        vertical-align: top;\n",
              "    }\n",
              "\n",
              "    .dataframe thead th {\n",
              "        text-align: right;\n",
              "    }\n",
              "</style>\n",
              "<table border=\"1\" class=\"dataframe\">\n",
              "  <thead>\n",
              "    <tr style=\"text-align: right;\">\n",
              "      <th></th>\n",
              "      <th>id</th>\n",
              "      <th>content</th>\n",
              "      <th>category</th>\n",
              "      <th>clean_content</th>\n",
              "    </tr>\n",
              "  </thead>\n",
              "  <tbody>\n",
              "    <tr>\n",
              "      <th>1</th>\n",
              "      <td>SW1</td>\n",
              "      <td>Mkuu wa Mkoa wa Tabora, Aggrey Mwanri amesiti...</td>\n",
              "      <td>Biashara</td>\n",
              "      <td>[mkuu, mkoa, tabora, aggrey, mwanri, amesitish...</td>\n",
              "    </tr>\n",
              "    <tr>\n",
              "      <th>6</th>\n",
              "      <td>SW1003</td>\n",
              "      <td>Meneja Masoko na Mawasiliano wa taasisi hiyo,...</td>\n",
              "      <td>Biashara</td>\n",
              "      <td>[meneja, masoko, mawasiliano, taasisi, ngula, ...</td>\n",
              "    </tr>\n",
              "    <tr>\n",
              "      <th>8</th>\n",
              "      <td>SW1006</td>\n",
              "      <td>Katika uzinduzi huo, rais amesema kuna haja y...</td>\n",
              "      <td>Biashara</td>\n",
              "      <td>[uzinduzi, rais, amesema, kuna, haja, kutafuta...</td>\n",
              "    </tr>\n",
              "    <tr>\n",
              "      <th>12</th>\n",
              "      <td>SW1010</td>\n",
              "      <td>SERIKALI ya Mapinduzi ya Zanzibar (SMZ) imewa...</td>\n",
              "      <td>Biashara</td>\n",
              "      <td>[serikali, mapinduzi, zanzibar, smz, imewataka...</td>\n",
              "    </tr>\n",
              "    <tr>\n",
              "      <th>13</th>\n",
              "      <td>SW1011</td>\n",
              "      <td>Akizungumza kwenye mkutano mkuu wa wanahisa u...</td>\n",
              "      <td>Biashara</td>\n",
              "      <td>[akizungumza, mkutano, mkuu, wanahisa, uliofan...</td>\n",
              "    </tr>\n",
              "  </tbody>\n",
              "</table>\n",
              "</div>\n",
              "      <button class=\"colab-df-convert\" onclick=\"convertToInteractive('df-01d54b23-c9d3-4370-8573-3e3c3359b68d')\"\n",
              "              title=\"Convert this dataframe to an interactive table.\"\n",
              "              style=\"display:none;\">\n",
              "        \n",
              "  <svg xmlns=\"http://www.w3.org/2000/svg\" height=\"24px\"viewBox=\"0 0 24 24\"\n",
              "       width=\"24px\">\n",
              "    <path d=\"M0 0h24v24H0V0z\" fill=\"none\"/>\n",
              "    <path d=\"M18.56 5.44l.94 2.06.94-2.06 2.06-.94-2.06-.94-.94-2.06-.94 2.06-2.06.94zm-11 1L8.5 8.5l.94-2.06 2.06-.94-2.06-.94L8.5 2.5l-.94 2.06-2.06.94zm10 10l.94 2.06.94-2.06 2.06-.94-2.06-.94-.94-2.06-.94 2.06-2.06.94z\"/><path d=\"M17.41 7.96l-1.37-1.37c-.4-.4-.92-.59-1.43-.59-.52 0-1.04.2-1.43.59L10.3 9.45l-7.72 7.72c-.78.78-.78 2.05 0 2.83L4 21.41c.39.39.9.59 1.41.59.51 0 1.02-.2 1.41-.59l7.78-7.78 2.81-2.81c.8-.78.8-2.07 0-2.86zM5.41 20L4 18.59l7.72-7.72 1.47 1.35L5.41 20z\"/>\n",
              "  </svg>\n",
              "      </button>\n",
              "      \n",
              "  <style>\n",
              "    .colab-df-container {\n",
              "      display:flex;\n",
              "      flex-wrap:wrap;\n",
              "      gap: 12px;\n",
              "    }\n",
              "\n",
              "    .colab-df-convert {\n",
              "      background-color: #E8F0FE;\n",
              "      border: none;\n",
              "      border-radius: 50%;\n",
              "      cursor: pointer;\n",
              "      display: none;\n",
              "      fill: #1967D2;\n",
              "      height: 32px;\n",
              "      padding: 0 0 0 0;\n",
              "      width: 32px;\n",
              "    }\n",
              "\n",
              "    .colab-df-convert:hover {\n",
              "      background-color: #E2EBFA;\n",
              "      box-shadow: 0px 1px 2px rgba(60, 64, 67, 0.3), 0px 1px 3px 1px rgba(60, 64, 67, 0.15);\n",
              "      fill: #174EA6;\n",
              "    }\n",
              "\n",
              "    [theme=dark] .colab-df-convert {\n",
              "      background-color: #3B4455;\n",
              "      fill: #D2E3FC;\n",
              "    }\n",
              "\n",
              "    [theme=dark] .colab-df-convert:hover {\n",
              "      background-color: #434B5C;\n",
              "      box-shadow: 0px 1px 3px 1px rgba(0, 0, 0, 0.15);\n",
              "      filter: drop-shadow(0px 1px 2px rgba(0, 0, 0, 0.3));\n",
              "      fill: #FFFFFF;\n",
              "    }\n",
              "  </style>\n",
              "\n",
              "      <script>\n",
              "        const buttonEl =\n",
              "          document.querySelector('#df-01d54b23-c9d3-4370-8573-3e3c3359b68d button.colab-df-convert');\n",
              "        buttonEl.style.display =\n",
              "          google.colab.kernel.accessAllowed ? 'block' : 'none';\n",
              "\n",
              "        async function convertToInteractive(key) {\n",
              "          const element = document.querySelector('#df-01d54b23-c9d3-4370-8573-3e3c3359b68d');\n",
              "          const dataTable =\n",
              "            await google.colab.kernel.invokeFunction('convertToInteractive',\n",
              "                                                     [key], {});\n",
              "          if (!dataTable) return;\n",
              "\n",
              "          const docLinkHtml = 'Like what you see? Visit the ' +\n",
              "            '<a target=\"_blank\" href=https://colab.research.google.com/notebooks/data_table.ipynb>data table notebook</a>'\n",
              "            + ' to learn more about interactive tables.';\n",
              "          element.innerHTML = '';\n",
              "          dataTable['output_type'] = 'display_data';\n",
              "          await google.colab.output.renderOutput(dataTable, element);\n",
              "          const docLink = document.createElement('div');\n",
              "          docLink.innerHTML = docLinkHtml;\n",
              "          element.appendChild(docLink);\n",
              "        }\n",
              "      </script>\n",
              "    </div>\n",
              "  </div>\n",
              "  "
            ]
          },
          "metadata": {},
          "execution_count": 28
        }
      ]
    },
    {
      "cell_type": "code",
      "source": [
        "#Calculating the number of most common words that appear in the Biashara\n",
        "top = Counter([item for sublist in Biashara[\"clean_content\"] for item in sublist])\n",
        "temp_negative = pd.DataFrame(top.most_common(20))\n",
        "temp_negative.columns = ['Common_words','count']\n",
        "temp_negative.style.background_gradient(cmap='Reds')"
      ],
      "metadata": {
        "colab": {
          "base_uri": "https://localhost:8080/",
          "height": 677
        },
        "id": "1mPJnxpSGKHP",
        "outputId": "ad09c7d8-44fa-41a5-8b22-9cf07b84b41b"
      },
      "execution_count": 29,
      "outputs": [
        {
          "output_type": "execute_result",
          "data": {
            "text/plain": [
              "<pandas.io.formats.style.Styler at 0x7ff0e920e090>"
            ],
            "text/html": [
              "<style type=\"text/css\">\n",
              "#T_cf95b_row0_col1 {\n",
              "  background-color: #67000d;\n",
              "  color: #f1f1f1;\n",
              "}\n",
              "#T_cf95b_row1_col1 {\n",
              "  background-color: #75030f;\n",
              "  color: #f1f1f1;\n",
              "}\n",
              "#T_cf95b_row2_col1 {\n",
              "  background-color: #d52221;\n",
              "  color: #f1f1f1;\n",
              "}\n",
              "#T_cf95b_row3_col1 {\n",
              "  background-color: #f34a36;\n",
              "  color: #f1f1f1;\n",
              "}\n",
              "#T_cf95b_row4_col1 {\n",
              "  background-color: #f6553c;\n",
              "  color: #f1f1f1;\n",
              "}\n",
              "#T_cf95b_row5_col1 {\n",
              "  background-color: #f75c41;\n",
              "  color: #f1f1f1;\n",
              "}\n",
              "#T_cf95b_row6_col1 {\n",
              "  background-color: #fc997a;\n",
              "  color: #000000;\n",
              "}\n",
              "#T_cf95b_row7_col1 {\n",
              "  background-color: #fca082;\n",
              "  color: #000000;\n",
              "}\n",
              "#T_cf95b_row8_col1 {\n",
              "  background-color: #fcb296;\n",
              "  color: #000000;\n",
              "}\n",
              "#T_cf95b_row9_col1 {\n",
              "  background-color: #fdc7b2;\n",
              "  color: #000000;\n",
              "}\n",
              "#T_cf95b_row10_col1 {\n",
              "  background-color: #fdcbb6;\n",
              "  color: #000000;\n",
              "}\n",
              "#T_cf95b_row11_col1 {\n",
              "  background-color: #fdd1be;\n",
              "  color: #000000;\n",
              "}\n",
              "#T_cf95b_row12_col1 {\n",
              "  background-color: #fdd7c6;\n",
              "  color: #000000;\n",
              "}\n",
              "#T_cf95b_row13_col1 {\n",
              "  background-color: #fedfd0;\n",
              "  color: #000000;\n",
              "}\n",
              "#T_cf95b_row14_col1 {\n",
              "  background-color: #feeae0;\n",
              "  color: #000000;\n",
              "}\n",
              "#T_cf95b_row15_col1 {\n",
              "  background-color: #feeae1;\n",
              "  color: #000000;\n",
              "}\n",
              "#T_cf95b_row16_col1 {\n",
              "  background-color: #ffebe2;\n",
              "  color: #000000;\n",
              "}\n",
              "#T_cf95b_row17_col1 {\n",
              "  background-color: #ffefe8;\n",
              "  color: #000000;\n",
              "}\n",
              "#T_cf95b_row18_col1 {\n",
              "  background-color: #fff1ea;\n",
              "  color: #000000;\n",
              "}\n",
              "#T_cf95b_row19_col1 {\n",
              "  background-color: #fff5f0;\n",
              "  color: #000000;\n",
              "}\n",
              "</style>\n",
              "<table id=\"T_cf95b_\" class=\"dataframe\">\n",
              "  <thead>\n",
              "    <tr>\n",
              "      <th class=\"blank level0\" >&nbsp;</th>\n",
              "      <th class=\"col_heading level0 col0\" >Common_words</th>\n",
              "      <th class=\"col_heading level0 col1\" >count</th>\n",
              "    </tr>\n",
              "  </thead>\n",
              "  <tbody>\n",
              "    <tr>\n",
              "      <th id=\"T_cf95b_level0_row0\" class=\"row_heading level0 row0\" >0</th>\n",
              "      <td id=\"T_cf95b_row0_col0\" class=\"data row0 col0\" >serikali</td>\n",
              "      <td id=\"T_cf95b_row0_col1\" class=\"data row0 col1\" >1682</td>\n",
              "    </tr>\n",
              "    <tr>\n",
              "      <th id=\"T_cf95b_level0_row1\" class=\"row_heading level0 row1\" >1</th>\n",
              "      <td id=\"T_cf95b_row1_col0\" class=\"data row1 col0\" >mwaka</td>\n",
              "      <td id=\"T_cf95b_row1_col1\" class=\"data row1 col1\" >1658</td>\n",
              "    </tr>\n",
              "    <tr>\n",
              "      <th id=\"T_cf95b_level0_row2\" class=\"row_heading level0 row2\" >2</th>\n",
              "      <td id=\"T_cf95b_row2_col0\" class=\"data row2 col0\" >nchi</td>\n",
              "      <td id=\"T_cf95b_row2_col1\" class=\"data row2 col1\" >1440</td>\n",
              "    </tr>\n",
              "    <tr>\n",
              "      <th id=\"T_cf95b_level0_row3\" class=\"row_heading level0 row3\" >3</th>\n",
              "      <td id=\"T_cf95b_row3_col0\" class=\"data row3 col0\" >biashara</td>\n",
              "      <td id=\"T_cf95b_row3_col1\" class=\"data row3 col1\" >1330</td>\n",
              "    </tr>\n",
              "    <tr>\n",
              "      <th id=\"T_cf95b_level0_row4\" class=\"row_heading level0 row4\" >4</th>\n",
              "      <td id=\"T_cf95b_row4_col0\" class=\"data row4 col0\" >huduma</td>\n",
              "      <td id=\"T_cf95b_row4_col1\" class=\"data row4 col1\" >1305</td>\n",
              "    </tr>\n",
              "    <tr>\n",
              "      <th id=\"T_cf95b_level0_row5\" class=\"row_heading level0 row5\" >5</th>\n",
              "      <td id=\"T_cf95b_row5_col0\" class=\"data row5 col0\" >tanzania</td>\n",
              "      <td id=\"T_cf95b_row5_col1\" class=\"data row5 col1\" >1291</td>\n",
              "    </tr>\n",
              "    <tr>\n",
              "      <th id=\"T_cf95b_level0_row6\" class=\"row_heading level0 row6\" >6</th>\n",
              "      <td id=\"T_cf95b_row6_col0\" class=\"data row6 col0\" >nchini</td>\n",
              "      <td id=\"T_cf95b_row6_col1\" class=\"data row6 col1\" >1136</td>\n",
              "    </tr>\n",
              "    <tr>\n",
              "      <th id=\"T_cf95b_level0_row7\" class=\"row_heading level0 row7\" >7</th>\n",
              "      <td id=\"T_cf95b_row7_col0\" class=\"data row7 col0\" >kampuni</td>\n",
              "      <td id=\"T_cf95b_row7_col1\" class=\"data row7 col1\" >1117</td>\n",
              "    </tr>\n",
              "    <tr>\n",
              "      <th id=\"T_cf95b_level0_row8\" class=\"row_heading level0 row8\" >8</th>\n",
              "      <td id=\"T_cf95b_row8_col0\" class=\"data row8 col0\" >hayo</td>\n",
              "      <td id=\"T_cf95b_row8_col1\" class=\"data row8 col1\" >1070</td>\n",
              "    </tr>\n",
              "    <tr>\n",
              "      <th id=\"T_cf95b_level0_row9\" class=\"row_heading level0 row9\" >9</th>\n",
              "      <td id=\"T_cf95b_row9_col0\" class=\"data row9 col0\" >viwanda</td>\n",
              "      <td id=\"T_cf95b_row9_col1\" class=\"data row9 col1\" >1011</td>\n",
              "    </tr>\n",
              "    <tr>\n",
              "      <th id=\"T_cf95b_level0_row10\" class=\"row_heading level0 row10\" >10</th>\n",
              "      <td id=\"T_cf95b_row10_col0\" class=\"data row10 col0\" >hilo</td>\n",
              "      <td id=\"T_cf95b_row10_col1\" class=\"data row10 col1\" >1002</td>\n",
              "    </tr>\n",
              "    <tr>\n",
              "      <th id=\"T_cf95b_level0_row11\" class=\"row_heading level0 row11\" >11</th>\n",
              "      <td id=\"T_cf95b_row11_col0\" class=\"data row11 col0\" >fedha</td>\n",
              "      <td id=\"T_cf95b_row11_col1\" class=\"data row11 col1\" >984</td>\n",
              "    </tr>\n",
              "    <tr>\n",
              "      <th id=\"T_cf95b_level0_row12\" class=\"row_heading level0 row12\" >12</th>\n",
              "      <td id=\"T_cf95b_row12_col0\" class=\"data row12 col0\" >benki</td>\n",
              "      <td id=\"T_cf95b_row12_col1\" class=\"data row12 col1\" >970</td>\n",
              "    </tr>\n",
              "    <tr>\n",
              "      <th id=\"T_cf95b_level0_row13\" class=\"row_heading level0 row13\" >13</th>\n",
              "      <td id=\"T_cf95b_row13_col0\" class=\"data row13 col0\" >mkoa</td>\n",
              "      <td id=\"T_cf95b_row13_col1\" class=\"data row13 col1\" >946</td>\n",
              "    </tr>\n",
              "    <tr>\n",
              "      <th id=\"T_cf95b_level0_row14\" class=\"row_heading level0 row14\" >14</th>\n",
              "      <td id=\"T_cf95b_row14_col0\" class=\"data row14 col0\" >asilimia</td>\n",
              "      <td id=\"T_cf95b_row14_col1\" class=\"data row14 col1\" >893</td>\n",
              "    </tr>\n",
              "    <tr>\n",
              "      <th id=\"T_cf95b_level0_row15\" class=\"row_heading level0 row15\" >15</th>\n",
              "      <td id=\"T_cf95b_row15_col0\" class=\"data row15 col0\" >mkuu</td>\n",
              "      <td id=\"T_cf95b_row15_col1\" class=\"data row15 col1\" >889</td>\n",
              "    </tr>\n",
              "    <tr>\n",
              "      <th id=\"T_cf95b_level0_row16\" class=\"row_heading level0 row16\" >16</th>\n",
              "      <td id=\"T_cf95b_row16_col0\" class=\"data row16 col0\" >sekta</td>\n",
              "      <td id=\"T_cf95b_row16_col1\" class=\"data row16 col1\" >886</td>\n",
              "    </tr>\n",
              "    <tr>\n",
              "      <th id=\"T_cf95b_level0_row17\" class=\"row_heading level0 row17\" >17</th>\n",
              "      <td id=\"T_cf95b_row17_col0\" class=\"data row17 col0\" >bidhaa</td>\n",
              "      <td id=\"T_cf95b_row17_col1\" class=\"data row17 col1\" >868</td>\n",
              "    </tr>\n",
              "    <tr>\n",
              "      <th id=\"T_cf95b_level0_row18\" class=\"row_heading level0 row18\" >18</th>\n",
              "      <td id=\"T_cf95b_row18_col0\" class=\"data row18 col0\" >fursa</td>\n",
              "      <td id=\"T_cf95b_row18_col1\" class=\"data row18 col1\" >858</td>\n",
              "    </tr>\n",
              "    <tr>\n",
              "      <th id=\"T_cf95b_level0_row19\" class=\"row_heading level0 row19\" >19</th>\n",
              "      <td id=\"T_cf95b_row19_col0\" class=\"data row19 col0\" >mbalimbali</td>\n",
              "      <td id=\"T_cf95b_row19_col1\" class=\"data row19 col1\" >835</td>\n",
              "    </tr>\n",
              "  </tbody>\n",
              "</table>\n"
            ]
          },
          "metadata": {},
          "execution_count": 29
        }
      ]
    },
    {
      "cell_type": "code",
      "source": [
        "#Creating a word cloud for the biashara\n",
        "\n",
        "from wordcloud import WordCloud\n",
        "all_words_neg = ' '.join([text for text in train['clean_content'][train['category']== 'Biashara'] ])\n",
        "wordcloud = WordCloud(width=800, height=500, random_state=21, max_font_size=110).generate(all_words_neg)\n",
        "#random=0.30\n",
        "plt.figure(figsize=(10, 7))\n",
        "plt.imshow(wordcloud, interpolation=\"bilinear\")\n",
        "plt.axis('off')\n",
        "plt.show()"
      ],
      "metadata": {
        "colab": {
          "base_uri": "https://localhost:8080/",
          "height": 380
        },
        "id": "kCy_vqG2Gdua",
        "outputId": "52a678ca-5cf6-4980-8f77-ab00ac6e915e"
      },
      "execution_count": 30,
      "outputs": [
        {
          "output_type": "display_data",
          "data": {
            "text/plain": [
              "<Figure size 720x504 with 1 Axes>"
            ],
            "image/png": "[encoded data removed]"
          },
          "metadata": {
            "needs_background": "light"
          }
        }
      ]
    },
    {
      "cell_type": "code",
      "execution_count": 31,
      "metadata": {
        "colab": {
          "base_uri": "https://localhost:8080/",
          "height": 371
        },
        "id": "0aHXXPghcxiI",
        "outputId": "768bcec5-2a51-4900-a37c-988d85cf53fa"
      },
      "outputs": [
        {
          "output_type": "execute_result",
          "data": {
            "text/plain": [
              "       id                                            content  category  \\\n",
              "0     SW0   SERIKALI imesema haitakuwa tayari kuona amani...   Kitaifa   \n",
              "1     SW1   Mkuu wa Mkoa wa Tabora, Aggrey Mwanri amesiti...  Biashara   \n",
              "2    SW10   SERIKALI imetoa miezi sita kwa taasisi zote z...   Kitaifa   \n",
              "3   SW100   KAMPUNI ya mchezo wa kubahatisha ya M-bet ime...   michezo   \n",
              "4  SW1000   WATANZANIA wamekumbushwa kusherehekea sikukuu...   Kitaifa   \n",
              "\n",
              "                                       clean_content  word_count  char_count  \\\n",
              "0   serikali imesema haitakuwa tayari kuona amani...         233        1337   \n",
              "1   mkuu wa mkoa wa tabora aggrey mwanri amesitis...         187        1101   \n",
              "2   serikali imetoa miezi sita kwa taasisi zote z...         394        2188   \n",
              "3   kampuni ya mchezo wa kubahatisha ya mbet imei...         213        1173   \n",
              "4   watanzania wamekumbushwa kusherehekea sikukuu...         336        1874   \n",
              "\n",
              "   avg_word_length  \n",
              "0         5.738197  \n",
              "1         5.887701  \n",
              "2         5.553299  \n",
              "3         5.507042  \n",
              "4         5.577381  "
            ],
            "text/html": [
              "\n",
              "  <div id=\"df-e7484917-52c6-460e-a3e2-b833cf69b334\">\n",
              "    <div class=\"colab-df-container\">\n",
              "      <div>\n",
              "<style scoped>\n",
              "    .dataframe tbody tr th:only-of-type {\n",
              "        vertical-align: middle;\n",
              "    }\n",
              "\n",
              "    .dataframe tbody tr th {\n",
              "        vertical-align: top;\n",
              "    }\n",
              "\n",
              "    .dataframe thead th {\n",
              "        text-align: right;\n",
              "    }\n",
              "</style>\n",
              "<table border=\"1\" class=\"dataframe\">\n",
              "  <thead>\n",
              "    <tr style=\"text-align: right;\">\n",
              "      <th></th>\n",
              "      <th>id</th>\n",
              "      <th>content</th>\n",
              "      <th>category</th>\n",
              "      <th>clean_content</th>\n",
              "      <th>word_count</th>\n",
              "      <th>char_count</th>\n",
              "      <th>avg_word_length</th>\n",
              "    </tr>\n",
              "  </thead>\n",
              "  <tbody>\n",
              "    <tr>\n",
              "      <th>0</th>\n",
              "      <td>SW0</td>\n",
              "      <td>SERIKALI imesema haitakuwa tayari kuona amani...</td>\n",
              "      <td>Kitaifa</td>\n",
              "      <td>serikali imesema haitakuwa tayari kuona amani...</td>\n",
              "      <td>233</td>\n",
              "      <td>1337</td>\n",
              "      <td>5.738197</td>\n",
              "    </tr>\n",
              "    <tr>\n",
              "      <th>1</th>\n",
              "      <td>SW1</td>\n",
              "      <td>Mkuu wa Mkoa wa Tabora, Aggrey Mwanri amesiti...</td>\n",
              "      <td>Biashara</td>\n",
              "      <td>mkuu wa mkoa wa tabora aggrey mwanri amesitis...</td>\n",
              "      <td>187</td>\n",
              "      <td>1101</td>\n",
              "      <td>5.887701</td>\n",
              "    </tr>\n",
              "    <tr>\n",
              "      <th>2</th>\n",
              "      <td>SW10</td>\n",
              "      <td>SERIKALI imetoa miezi sita kwa taasisi zote z...</td>\n",
              "      <td>Kitaifa</td>\n",
              "      <td>serikali imetoa miezi sita kwa taasisi zote z...</td>\n",
              "      <td>394</td>\n",
              "      <td>2188</td>\n",
              "      <td>5.553299</td>\n",
              "    </tr>\n",
              "    <tr>\n",
              "      <th>3</th>\n",
              "      <td>SW100</td>\n",
              "      <td>KAMPUNI ya mchezo wa kubahatisha ya M-bet ime...</td>\n",
              "      <td>michezo</td>\n",
              "      <td>kampuni ya mchezo wa kubahatisha ya mbet imei...</td>\n",
              "      <td>213</td>\n",
              "      <td>1173</td>\n",
              "      <td>5.507042</td>\n",
              "    </tr>\n",
              "    <tr>\n",
              "      <th>4</th>\n",
              "      <td>SW1000</td>\n",
              "      <td>WATANZANIA wamekumbushwa kusherehekea sikukuu...</td>\n",
              "      <td>Kitaifa</td>\n",
              "      <td>watanzania wamekumbushwa kusherehekea sikukuu...</td>\n",
              "      <td>336</td>\n",
              "      <td>1874</td>\n",
              "      <td>5.577381</td>\n",
              "    </tr>\n",
              "  </tbody>\n",
              "</table>\n",
              "</div>\n",
              "      <button class=\"colab-df-convert\" onclick=\"convertToInteractive('df-e7484917-52c6-460e-a3e2-b833cf69b334')\"\n",
              "              title=\"Convert this dataframe to an interactive table.\"\n",
              "              style=\"display:none;\">\n",
              "        \n",
              "  <svg xmlns=\"http://www.w3.org/2000/svg\" height=\"24px\"viewBox=\"0 0 24 24\"\n",
              "       width=\"24px\">\n",
              "    <path d=\"M0 0h24v24H0V0z\" fill=\"none\"/>\n",
              "    <path d=\"M18.56 5.44l.94 2.06.94-2.06 2.06-.94-2.06-.94-.94-2.06-.94 2.06-2.06.94zm-11 1L8.5 8.5l.94-2.06 2.06-.94-2.06-.94L8.5 2.5l-.94 2.06-2.06.94zm10 10l.94 2.06.94-2.06 2.06-.94-2.06-.94-.94-2.06-.94 2.06-2.06.94z\"/><path d=\"M17.41 7.96l-1.37-1.37c-.4-.4-.92-.59-1.43-.59-.52 0-1.04.2-1.43.59L10.3 9.45l-7.72 7.72c-.78.78-.78 2.05 0 2.83L4 21.41c.39.39.9.59 1.41.59.51 0 1.02-.2 1.41-.59l7.78-7.78 2.81-2.81c.8-.78.8-2.07 0-2.86zM5.41 20L4 18.59l7.72-7.72 1.47 1.35L5.41 20z\"/>\n",
              "  </svg>\n",
              "      </button>\n",
              "      \n",
              "  <style>\n",
              "    .colab-df-container {\n",
              "      display:flex;\n",
              "      flex-wrap:wrap;\n",
              "      gap: 12px;\n",
              "    }\n",
              "\n",
              "    .colab-df-convert {\n",
              "      background-color: #E8F0FE;\n",
              "      border: none;\n",
              "      border-radius: 50%;\n",
              "      cursor: pointer;\n",
              "      display: none;\n",
              "      fill: #1967D2;\n",
              "      height: 32px;\n",
              "      padding: 0 0 0 0;\n",
              "      width: 32px;\n",
              "    }\n",
              "\n",
              "    .colab-df-convert:hover {\n",
              "      background-color: #E2EBFA;\n",
              "      box-shadow: 0px 1px 2px rgba(60, 64, 67, 0.3), 0px 1px 3px 1px rgba(60, 64, 67, 0.15);\n",
              "      fill: #174EA6;\n",
              "    }\n",
              "\n",
              "    [theme=dark] .colab-df-convert {\n",
              "      background-color: #3B4455;\n",
              "      fill: #D2E3FC;\n",
              "    }\n",
              "\n",
              "    [theme=dark] .colab-df-convert:hover {\n",
              "      background-color: #434B5C;\n",
              "      box-shadow: 0px 1px 3px 1px rgba(0, 0, 0, 0.15);\n",
              "      filter: drop-shadow(0px 1px 2px rgba(0, 0, 0, 0.3));\n",
              "      fill: #FFFFFF;\n",
              "    }\n",
              "  </style>\n",
              "\n",
              "      <script>\n",
              "        const buttonEl =\n",
              "          document.querySelector('#df-e7484917-52c6-460e-a3e2-b833cf69b334 button.colab-df-convert');\n",
              "        buttonEl.style.display =\n",
              "          google.colab.kernel.accessAllowed ? 'block' : 'none';\n",
              "\n",
              "        async function convertToInteractive(key) {\n",
              "          const element = document.querySelector('#df-e7484917-52c6-460e-a3e2-b833cf69b334');\n",
              "          const dataTable =\n",
              "            await google.colab.kernel.invokeFunction('convertToInteractive',\n",
              "                                                     [key], {});\n",
              "          if (!dataTable) return;\n",
              "\n",
              "          const docLinkHtml = 'Like what you see? Visit the ' +\n",
              "            '<a target=\"_blank\" href=https://colab.research.google.com/notebooks/data_table.ipynb>data table notebook</a>'\n",
              "            + ' to learn more about interactive tables.';\n",
              "          element.innerHTML = '';\n",
              "          dataTable['output_type'] = 'display_data';\n",
              "          await google.colab.output.renderOutput(dataTable, element);\n",
              "          const docLink = document.createElement('div');\n",
              "          docLink.innerHTML = docLinkHtml;\n",
              "          element.appendChild(docLink);\n",
              "        }\n",
              "      </script>\n",
              "    </div>\n",
              "  </div>\n",
              "  "
            ]
          },
          "metadata": {},
          "execution_count": 31
        }
      ],
      "source": [
        "#let's create some new columns showing character count, word count as well as average word length\n",
        "train['word_count'] = train[\"clean_content\"].apply(lambda x: len(str(x).split(\" \")))\n",
        "train['char_count'] = train[\"clean_content\"].apply(lambda x: sum(len(word) for word in str(x).split(\" \")))\n",
        "train['avg_word_length'] = train['char_count'] / train['word_count']\n",
        "train.head()"
      ]
    },
    {
      "cell_type": "markdown",
      "source": [
        "## Tokenization"
      ],
      "metadata": {
        "id": "6hUJn8N8aXYy"
      }
    },
    {
      "cell_type": "code",
      "execution_count": 32,
      "metadata": {
        "colab": {
          "base_uri": "https://localhost:8080/"
        },
        "id": "W_pzQ9ZZKNcn",
        "outputId": "8ec7682b-e365-4abc-cb09-c5cd756f6641"
      },
      "outputs": [
        {
          "output_type": "stream",
          "name": "stdout",
          "text": [
            "[nltk_data] Downloading package punkt to /root/nltk_data...\n",
            "[nltk_data]   Unzipping tokenizers/punkt.zip.\n"
          ]
        }
      ],
      "source": [
        "#Importing word tokenizer to tokenize our words into individual words \n",
        "import nltk\n",
        "nltk.download('punkt')\n",
        "from nltk.tokenize import word_tokenize \n",
        "df['clean_content'] = df['clean_content'].apply(nltk.word_tokenize)"
      ]
    },
    {
      "cell_type": "code",
      "execution_count": 33,
      "metadata": {
        "colab": {
          "base_uri": "https://localhost:8080/",
          "height": 537
        },
        "id": "b3xWY3juKvQm",
        "outputId": "9454ad95-5a77-4724-a30c-8d6e3d1a0768"
      },
      "outputs": [
        {
          "output_type": "stream",
          "name": "stdout",
          "text": [
            "[nltk_data] Downloading package wordnet to /root/nltk_data...\n",
            "[nltk_data]   Unzipping corpora/wordnet.zip.\n"
          ]
        },
        {
          "output_type": "execute_result",
          "data": {
            "text/plain": [
              "          id                                            content  category  \\\n",
              "0        SW0   SERIKALI imesema haitakuwa tayari kuona amani...   Kitaifa   \n",
              "1        SW1   Mkuu wa Mkoa wa Tabora, Aggrey Mwanri amesiti...  Biashara   \n",
              "2       SW10   SERIKALI imetoa miezi sita kwa taasisi zote z...   Kitaifa   \n",
              "3      SW100   KAMPUNI ya mchezo wa kubahatisha ya M-bet ime...   michezo   \n",
              "4     SW1000   WATANZANIA wamekumbushwa kusherehekea sikukuu...   Kitaifa   \n",
              "...      ...                                                ...       ...   \n",
              "5146   SW993   RAIS John Magufuli ameendelea kung’ara katika...   Kitaifa   \n",
              "5147   SW994   KAMPENI inayohimiza watafi ti kuandika upya h...   Kitaifa   \n",
              "5148   SW996   MATUKIO mapya ya malaria kwa kila watu 1,000 ...   Kitaifa   \n",
              "5149   SW997   IMEELEZWA kuwa hakuna sheria yoyote inayokata...   Kitaifa   \n",
              "5150   SW999   Akizungumza mara baada ya kutiwa saini kwa ma...  Biashara   \n",
              "\n",
              "                                          clean_content  \n",
              "0     [serikali, imesema, haitakuwa, tayari, kuona, ...  \n",
              "1     [mkuu, mkoa, tabora, aggrey, mwanri, amesitish...  \n",
              "2     [serikali, imetoa, miezi, sita, taasisi, zote,...  \n",
              "3     [kampuni, mchezo, kubahatisha, mbet, imeingia,...  \n",
              "4     [watanzania, wamekumbushwa, kusherehekea, siku...  \n",
              "...                                                 ...  \n",
              "5146  [rais, john, magufuli, ameendelea, kung, ’, ar...  \n",
              "5147  [kampeni, inayohimiza, watafi, ti, kuandika, u...  \n",
              "5148  [matukio, mapya, malaria, 1000, jamii, yamepun...  \n",
              "5149  [imeelezwa, hakuna, sheria, inayokataza, taari...  \n",
              "5150  [akizungumza, kutiwa, saini, makubaliano, hayo...  \n",
              "\n",
              "[5151 rows x 4 columns]"
            ],
            "text/html": [
              "\n",
              "  <div id=\"df-24f50631-cbc0-49fa-8106-1dd6bd028d5c\">\n",
              "    <div class=\"colab-df-container\">\n",
              "      <div>\n",
              "<style scoped>\n",
              "    .dataframe tbody tr th:only-of-type {\n",
              "        vertical-align: middle;\n",
              "    }\n",
              "\n",
              "    .dataframe tbody tr th {\n",
              "        vertical-align: top;\n",
              "    }\n",
              "\n",
              "    .dataframe thead th {\n",
              "        text-align: right;\n",
              "    }\n",
              "</style>\n",
              "<table border=\"1\" class=\"dataframe\">\n",
              "  <thead>\n",
              "    <tr style=\"text-align: right;\">\n",
              "      <th></th>\n",
              "      <th>id</th>\n",
              "      <th>content</th>\n",
              "      <th>category</th>\n",
              "      <th>clean_content</th>\n",
              "    </tr>\n",
              "  </thead>\n",
              "  <tbody>\n",
              "    <tr>\n",
              "      <th>0</th>\n",
              "      <td>SW0</td>\n",
              "      <td>SERIKALI imesema haitakuwa tayari kuona amani...</td>\n",
              "      <td>Kitaifa</td>\n",
              "      <td>[serikali, imesema, haitakuwa, tayari, kuona, ...</td>\n",
              "    </tr>\n",
              "    <tr>\n",
              "      <th>1</th>\n",
              "      <td>SW1</td>\n",
              "      <td>Mkuu wa Mkoa wa Tabora, Aggrey Mwanri amesiti...</td>\n",
              "      <td>Biashara</td>\n",
              "      <td>[mkuu, mkoa, tabora, aggrey, mwanri, amesitish...</td>\n",
              "    </tr>\n",
              "    <tr>\n",
              "      <th>2</th>\n",
              "      <td>SW10</td>\n",
              "      <td>SERIKALI imetoa miezi sita kwa taasisi zote z...</td>\n",
              "      <td>Kitaifa</td>\n",
              "      <td>[serikali, imetoa, miezi, sita, taasisi, zote,...</td>\n",
              "    </tr>\n",
              "    <tr>\n",
              "      <th>3</th>\n",
              "      <td>SW100</td>\n",
              "      <td>KAMPUNI ya mchezo wa kubahatisha ya M-bet ime...</td>\n",
              "      <td>michezo</td>\n",
              "      <td>[kampuni, mchezo, kubahatisha, mbet, imeingia,...</td>\n",
              "    </tr>\n",
              "    <tr>\n",
              "      <th>4</th>\n",
              "      <td>SW1000</td>\n",
              "      <td>WATANZANIA wamekumbushwa kusherehekea sikukuu...</td>\n",
              "      <td>Kitaifa</td>\n",
              "      <td>[watanzania, wamekumbushwa, kusherehekea, siku...</td>\n",
              "    </tr>\n",
              "    <tr>\n",
              "      <th>...</th>\n",
              "      <td>...</td>\n",
              "      <td>...</td>\n",
              "      <td>...</td>\n",
              "      <td>...</td>\n",
              "    </tr>\n",
              "    <tr>\n",
              "      <th>5146</th>\n",
              "      <td>SW993</td>\n",
              "      <td>RAIS John Magufuli ameendelea kung’ara katika...</td>\n",
              "      <td>Kitaifa</td>\n",
              "      <td>[rais, john, magufuli, ameendelea, kung, ’, ar...</td>\n",
              "    </tr>\n",
              "    <tr>\n",
              "      <th>5147</th>\n",
              "      <td>SW994</td>\n",
              "      <td>KAMPENI inayohimiza watafi ti kuandika upya h...</td>\n",
              "      <td>Kitaifa</td>\n",
              "      <td>[kampeni, inayohimiza, watafi, ti, kuandika, u...</td>\n",
              "    </tr>\n",
              "    <tr>\n",
              "      <th>5148</th>\n",
              "      <td>SW996</td>\n",
              "      <td>MATUKIO mapya ya malaria kwa kila watu 1,000 ...</td>\n",
              "      <td>Kitaifa</td>\n",
              "      <td>[matukio, mapya, malaria, 1000, jamii, yamepun...</td>\n",
              "    </tr>\n",
              "    <tr>\n",
              "      <th>5149</th>\n",
              "      <td>SW997</td>\n",
              "      <td>IMEELEZWA kuwa hakuna sheria yoyote inayokata...</td>\n",
              "      <td>Kitaifa</td>\n",
              "      <td>[imeelezwa, hakuna, sheria, inayokataza, taari...</td>\n",
              "    </tr>\n",
              "    <tr>\n",
              "      <th>5150</th>\n",
              "      <td>SW999</td>\n",
              "      <td>Akizungumza mara baada ya kutiwa saini kwa ma...</td>\n",
              "      <td>Biashara</td>\n",
              "      <td>[akizungumza, kutiwa, saini, makubaliano, hayo...</td>\n",
              "    </tr>\n",
              "  </tbody>\n",
              "</table>\n",
              "<p>5151 rows × 4 columns</p>\n",
              "</div>\n",
              "      <button class=\"colab-df-convert\" onclick=\"convertToInteractive('df-24f50631-cbc0-49fa-8106-1dd6bd028d5c')\"\n",
              "              title=\"Convert this dataframe to an interactive table.\"\n",
              "              style=\"display:none;\">\n",
              "        \n",
              "  <svg xmlns=\"http://www.w3.org/2000/svg\" height=\"24px\"viewBox=\"0 0 24 24\"\n",
              "       width=\"24px\">\n",
              "    <path d=\"M0 0h24v24H0V0z\" fill=\"none\"/>\n",
              "    <path d=\"M18.56 5.44l.94 2.06.94-2.06 2.06-.94-2.06-.94-.94-2.06-.94 2.06-2.06.94zm-11 1L8.5 8.5l.94-2.06 2.06-.94-2.06-.94L8.5 2.5l-.94 2.06-2.06.94zm10 10l.94 2.06.94-2.06 2.06-.94-2.06-.94-.94-2.06-.94 2.06-2.06.94z\"/><path d=\"M17.41 7.96l-1.37-1.37c-.4-.4-.92-.59-1.43-.59-.52 0-1.04.2-1.43.59L10.3 9.45l-7.72 7.72c-.78.78-.78 2.05 0 2.83L4 21.41c.39.39.9.59 1.41.59.51 0 1.02-.2 1.41-.59l7.78-7.78 2.81-2.81c.8-.78.8-2.07 0-2.86zM5.41 20L4 18.59l7.72-7.72 1.47 1.35L5.41 20z\"/>\n",
              "  </svg>\n",
              "      </button>\n",
              "      \n",
              "  <style>\n",
              "    .colab-df-container {\n",
              "      display:flex;\n",
              "      flex-wrap:wrap;\n",
              "      gap: 12px;\n",
              "    }\n",
              "\n",
              "    .colab-df-convert {\n",
              "      background-color: #E8F0FE;\n",
              "      border: none;\n",
              "      border-radius: 50%;\n",
              "      cursor: pointer;\n",
              "      display: none;\n",
              "      fill: #1967D2;\n",
              "      height: 32px;\n",
              "      padding: 0 0 0 0;\n",
              "      width: 32px;\n",
              "    }\n",
              "\n",
              "    .colab-df-convert:hover {\n",
              "      background-color: #E2EBFA;\n",
              "      box-shadow: 0px 1px 2px rgba(60, 64, 67, 0.3), 0px 1px 3px 1px rgba(60, 64, 67, 0.15);\n",
              "      fill: #174EA6;\n",
              "    }\n",
              "\n",
              "    [theme=dark] .colab-df-convert {\n",
              "      background-color: #3B4455;\n",
              "      fill: #D2E3FC;\n",
              "    }\n",
              "\n",
              "    [theme=dark] .colab-df-convert:hover {\n",
              "      background-color: #434B5C;\n",
              "      box-shadow: 0px 1px 3px 1px rgba(0, 0, 0, 0.15);\n",
              "      filter: drop-shadow(0px 1px 2px rgba(0, 0, 0, 0.3));\n",
              "      fill: #FFFFFF;\n",
              "    }\n",
              "  </style>\n",
              "\n",
              "      <script>\n",
              "        const buttonEl =\n",
              "          document.querySelector('#df-24f50631-cbc0-49fa-8106-1dd6bd028d5c button.colab-df-convert');\n",
              "        buttonEl.style.display =\n",
              "          google.colab.kernel.accessAllowed ? 'block' : 'none';\n",
              "\n",
              "        async function convertToInteractive(key) {\n",
              "          const element = document.querySelector('#df-24f50631-cbc0-49fa-8106-1dd6bd028d5c');\n",
              "          const dataTable =\n",
              "            await google.colab.kernel.invokeFunction('convertToInteractive',\n",
              "                                                     [key], {});\n",
              "          if (!dataTable) return;\n",
              "\n",
              "          const docLinkHtml = 'Like what you see? Visit the ' +\n",
              "            '<a target=\"_blank\" href=https://colab.research.google.com/notebooks/data_table.ipynb>data table notebook</a>'\n",
              "            + ' to learn more about interactive tables.';\n",
              "          element.innerHTML = '';\n",
              "          dataTable['output_type'] = 'display_data';\n",
              "          await google.colab.output.renderOutput(dataTable, element);\n",
              "          const docLink = document.createElement('div');\n",
              "          docLink.innerHTML = docLinkHtml;\n",
              "          element.appendChild(docLink);\n",
              "        }\n",
              "      </script>\n",
              "    </div>\n",
              "  </div>\n",
              "  "
            ]
          },
          "metadata": {},
          "execution_count": 33
        }
      ],
      "source": [
        "#I chose to Lemmatize thank to stemm due to the nature of our analysis, the benefit of \n",
        "#lemmetization is that it converts the words into there base format. \n",
        "#Runs, Ran, Running are all converted to Run which is prefarable \n",
        "# to stemming which leaves thw words in an incomplete state\n",
        "#https://www.baeldung.com/cs/stemming-vs-lemmatization\n",
        "nltk.download('wordnet')\n",
        "from nltk.stem import WordNetLemmatizer\n",
        "lemmatiser = WordNetLemmatizer()\n",
        "df['clean_content'] = df['clean_content'].apply(lambda tokens: [lemmatiser.lemmatize(token, pos='v') for token in tokens])\n",
        "df"
      ]
    },
    {
      "cell_type": "code",
      "execution_count": 34,
      "metadata": {
        "colab": {
          "base_uri": "https://localhost:8080/"
        },
        "id": "Km_lqRmHP62J",
        "outputId": "82a058c7-1eb0-47de-c287-6f73d0fa9f41"
      },
      "outputs": [
        {
          "output_type": "execute_result",
          "data": {
            "text/plain": [
              "Kitaifa      2000\n",
              "michezo      1720\n",
              "Biashara     1360\n",
              "Kimataifa      54\n",
              "Burudani       17\n",
              "Name: category, dtype: int64"
            ]
          },
          "metadata": {},
          "execution_count": 34
        }
      ],
      "source": [
        "#Checking the number of classes\n",
        "\n",
        "df['category'].value_counts()"
      ]
    },
    {
      "cell_type": "code",
      "execution_count": 35,
      "metadata": {
        "colab": {
          "base_uri": "https://localhost:8080/",
          "height": 285
        },
        "id": "NQhqYaY_QAqi",
        "outputId": "c196a309-a06b-4f0d-a610-6e6fcbf3e50b"
      },
      "outputs": [
        {
          "output_type": "execute_result",
          "data": {
            "text/plain": [
              "          id                                            content  category  \\\n",
              "1697  SW2910   Mkurugenzi wa Masoko wa Kampuni ya Bia ya Ser...         2   \n",
              "4736  SW6314   Kwa mujibu wa uchambuzi huo, mikataba ya kuga...         2   \n",
              "987   SW2114   MAOFISA Tarafa nchini wametakiwa kusimamia kw...         0   \n",
              "220   SW1253   MSHAMBULIAJI wa zamani wa Gor Mahia, Meddie K...         1   \n",
              "3415  SW4830   Utaratibu huo ulioanza kutumika tangu mwezi J...         2   \n",
              "\n",
              "                                          clean_content  \n",
              "1697  [mkurugenzi, masoko, kampuni, bia, serengeti, ...  \n",
              "4736  [mujibu, uchambuzi, mikataba, kugawana, mapato...  \n",
              "987   [maofisa, tarafa, nchini, wametakiwa, kusimami...  \n",
              "220   [mshambuliaji, zamani, gor, mahia, meddie, kag...  \n",
              "3415  [utaratibu, ulioanza, kutumika, tangu, mwezi, ...  "
            ],
            "text/html": [
              "\n",
              "  <div id=\"df-d6fc0407-7618-4774-bb27-27e7625d91a7\">\n",
              "    <div class=\"colab-df-container\">\n",
              "      <div>\n",
              "<style scoped>\n",
              "    .dataframe tbody tr th:only-of-type {\n",
              "        vertical-align: middle;\n",
              "    }\n",
              "\n",
              "    .dataframe tbody tr th {\n",
              "        vertical-align: top;\n",
              "    }\n",
              "\n",
              "    .dataframe thead th {\n",
              "        text-align: right;\n",
              "    }\n",
              "</style>\n",
              "<table border=\"1\" class=\"dataframe\">\n",
              "  <thead>\n",
              "    <tr style=\"text-align: right;\">\n",
              "      <th></th>\n",
              "      <th>id</th>\n",
              "      <th>content</th>\n",
              "      <th>category</th>\n",
              "      <th>clean_content</th>\n",
              "    </tr>\n",
              "  </thead>\n",
              "  <tbody>\n",
              "    <tr>\n",
              "      <th>1697</th>\n",
              "      <td>SW2910</td>\n",
              "      <td>Mkurugenzi wa Masoko wa Kampuni ya Bia ya Ser...</td>\n",
              "      <td>2</td>\n",
              "      <td>[mkurugenzi, masoko, kampuni, bia, serengeti, ...</td>\n",
              "    </tr>\n",
              "    <tr>\n",
              "      <th>4736</th>\n",
              "      <td>SW6314</td>\n",
              "      <td>Kwa mujibu wa uchambuzi huo, mikataba ya kuga...</td>\n",
              "      <td>2</td>\n",
              "      <td>[mujibu, uchambuzi, mikataba, kugawana, mapato...</td>\n",
              "    </tr>\n",
              "    <tr>\n",
              "      <th>987</th>\n",
              "      <td>SW2114</td>\n",
              "      <td>MAOFISA Tarafa nchini wametakiwa kusimamia kw...</td>\n",
              "      <td>0</td>\n",
              "      <td>[maofisa, tarafa, nchini, wametakiwa, kusimami...</td>\n",
              "    </tr>\n",
              "    <tr>\n",
              "      <th>220</th>\n",
              "      <td>SW1253</td>\n",
              "      <td>MSHAMBULIAJI wa zamani wa Gor Mahia, Meddie K...</td>\n",
              "      <td>1</td>\n",
              "      <td>[mshambuliaji, zamani, gor, mahia, meddie, kag...</td>\n",
              "    </tr>\n",
              "    <tr>\n",
              "      <th>3415</th>\n",
              "      <td>SW4830</td>\n",
              "      <td>Utaratibu huo ulioanza kutumika tangu mwezi J...</td>\n",
              "      <td>2</td>\n",
              "      <td>[utaratibu, ulioanza, kutumika, tangu, mwezi, ...</td>\n",
              "    </tr>\n",
              "  </tbody>\n",
              "</table>\n",
              "</div>\n",
              "      <button class=\"colab-df-convert\" onclick=\"convertToInteractive('df-d6fc0407-7618-4774-bb27-27e7625d91a7')\"\n",
              "              title=\"Convert this dataframe to an interactive table.\"\n",
              "              style=\"display:none;\">\n",
              "        \n",
              "  <svg xmlns=\"http://www.w3.org/2000/svg\" height=\"24px\"viewBox=\"0 0 24 24\"\n",
              "       width=\"24px\">\n",
              "    <path d=\"M0 0h24v24H0V0z\" fill=\"none\"/>\n",
              "    <path d=\"M18.56 5.44l.94 2.06.94-2.06 2.06-.94-2.06-.94-.94-2.06-.94 2.06-2.06.94zm-11 1L8.5 8.5l.94-2.06 2.06-.94-2.06-.94L8.5 2.5l-.94 2.06-2.06.94zm10 10l.94 2.06.94-2.06 2.06-.94-2.06-.94-.94-2.06-.94 2.06-2.06.94z\"/><path d=\"M17.41 7.96l-1.37-1.37c-.4-.4-.92-.59-1.43-.59-.52 0-1.04.2-1.43.59L10.3 9.45l-7.72 7.72c-.78.78-.78 2.05 0 2.83L4 21.41c.39.39.9.59 1.41.59.51 0 1.02-.2 1.41-.59l7.78-7.78 2.81-2.81c.8-.78.8-2.07 0-2.86zM5.41 20L4 18.59l7.72-7.72 1.47 1.35L5.41 20z\"/>\n",
              "  </svg>\n",
              "      </button>\n",
              "      \n",
              "  <style>\n",
              "    .colab-df-container {\n",
              "      display:flex;\n",
              "      flex-wrap:wrap;\n",
              "      gap: 12px;\n",
              "    }\n",
              "\n",
              "    .colab-df-convert {\n",
              "      background-color: #E8F0FE;\n",
              "      border: none;\n",
              "      border-radius: 50%;\n",
              "      cursor: pointer;\n",
              "      display: none;\n",
              "      fill: #1967D2;\n",
              "      height: 32px;\n",
              "      padding: 0 0 0 0;\n",
              "      width: 32px;\n",
              "    }\n",
              "\n",
              "    .colab-df-convert:hover {\n",
              "      background-color: #E2EBFA;\n",
              "      box-shadow: 0px 1px 2px rgba(60, 64, 67, 0.3), 0px 1px 3px 1px rgba(60, 64, 67, 0.15);\n",
              "      fill: #174EA6;\n",
              "    }\n",
              "\n",
              "    [theme=dark] .colab-df-convert {\n",
              "      background-color: #3B4455;\n",
              "      fill: #D2E3FC;\n",
              "    }\n",
              "\n",
              "    [theme=dark] .colab-df-convert:hover {\n",
              "      background-color: #434B5C;\n",
              "      box-shadow: 0px 1px 3px 1px rgba(0, 0, 0, 0.15);\n",
              "      filter: drop-shadow(0px 1px 2px rgba(0, 0, 0, 0.3));\n",
              "      fill: #FFFFFF;\n",
              "    }\n",
              "  </style>\n",
              "\n",
              "      <script>\n",
              "        const buttonEl =\n",
              "          document.querySelector('#df-d6fc0407-7618-4774-bb27-27e7625d91a7 button.colab-df-convert');\n",
              "        buttonEl.style.display =\n",
              "          google.colab.kernel.accessAllowed ? 'block' : 'none';\n",
              "\n",
              "        async function convertToInteractive(key) {\n",
              "          const element = document.querySelector('#df-d6fc0407-7618-4774-bb27-27e7625d91a7');\n",
              "          const dataTable =\n",
              "            await google.colab.kernel.invokeFunction('convertToInteractive',\n",
              "                                                     [key], {});\n",
              "          if (!dataTable) return;\n",
              "\n",
              "          const docLinkHtml = 'Like what you see? Visit the ' +\n",
              "            '<a target=\"_blank\" href=https://colab.research.google.com/notebooks/data_table.ipynb>data table notebook</a>'\n",
              "            + ' to learn more about interactive tables.';\n",
              "          element.innerHTML = '';\n",
              "          dataTable['output_type'] = 'display_data';\n",
              "          await google.colab.output.renderOutput(dataTable, element);\n",
              "          const docLink = document.createElement('div');\n",
              "          docLink.innerHTML = docLinkHtml;\n",
              "          element.appendChild(docLink);\n",
              "        }\n",
              "      </script>\n",
              "    </div>\n",
              "  </div>\n",
              "  "
            ]
          },
          "metadata": {},
          "execution_count": 35
        }
      ],
      "source": [
        "# creating a mapping dictionary that maps the category values from 0 to 5\n",
        "category_mapping = {\"Kitaifa\": 0,\"michezo\": 1,\"Biashara\": 2,\"Kimataifa\": 3,\"Burudani\": 4}\n",
        "\n",
        "df[\"category\"] = df.category.map(category_mapping)\n",
        "\n",
        "df.sample(5)"
      ]
    },
    {
      "cell_type": "markdown",
      "source": [
        "## Cleaning the test dataset"
      ],
      "metadata": {
        "id": "LP7THrdoJEqg"
      }
    },
    {
      "cell_type": "code",
      "source": [
        "#Creating a copy of test dataset\n",
        "df1=test.copy()\n",
        "df1.head(5)"
      ],
      "metadata": {
        "colab": {
          "base_uri": "https://localhost:8080/",
          "height": 206
        },
        "id": "OxgMFLzmcX_-",
        "outputId": "aa001bc2-61db-4b61-a031-a172fdccb8e4"
      },
      "execution_count": 36,
      "outputs": [
        {
          "output_type": "execute_result",
          "data": {
            "text/plain": [
              "                                 swahili_id  \\\n",
              "0  001dd47ac202d9db6624a5ff734a5e7dddafeaf2   \n",
              "1  0043d97f7690e9bc02f0ed8bb2b260d1d44bad92   \n",
              "2  00579c2307b5c11003d21c40c3ecff5e922c3fd8   \n",
              "3  00868eeee349e286303706ef0ffd851f39708d37   \n",
              "4  00a5cb12d3058dcf2e42f277eee599992db32412   \n",
              "\n",
              "                                             content  \n",
              "0   MKUU wa Wilaya ya Bahi, Mkoani Dodoma, Mwanah...  \n",
              "1   MWISHONI mwa wiki hii, Timu ya Soka ya Taifa,...  \n",
              "2   THAMANI ya mauzo ya bidhaa za Afrika Masharik...  \n",
              "3   MENEJA Mawasiliano na Utetezi wa asasi ya AGP...  \n",
              "4   WAZIRI wa Kilimo, Japhet Hasunga amesema seri...  "
            ],
            "text/html": [
              "\n",
              "  <div id=\"df-114a2092-fd6d-4483-8687-8ec3e742d830\">\n",
              "    <div class=\"colab-df-container\">\n",
              "      <div>\n",
              "<style scoped>\n",
              "    .dataframe tbody tr th:only-of-type {\n",
              "        vertical-align: middle;\n",
              "    }\n",
              "\n",
              "    .dataframe tbody tr th {\n",
              "        vertical-align: top;\n",
              "    }\n",
              "\n",
              "    .dataframe thead th {\n",
              "        text-align: right;\n",
              "    }\n",
              "</style>\n",
              "<table border=\"1\" class=\"dataframe\">\n",
              "  <thead>\n",
              "    <tr style=\"text-align: right;\">\n",
              "      <th></th>\n",
              "      <th>swahili_id</th>\n",
              "      <th>content</th>\n",
              "    </tr>\n",
              "  </thead>\n",
              "  <tbody>\n",
              "    <tr>\n",
              "      <th>0</th>\n",
              "      <td>001dd47ac202d9db6624a5ff734a5e7dddafeaf2</td>\n",
              "      <td>MKUU wa Wilaya ya Bahi, Mkoani Dodoma, Mwanah...</td>\n",
              "    </tr>\n",
              "    <tr>\n",
              "      <th>1</th>\n",
              "      <td>0043d97f7690e9bc02f0ed8bb2b260d1d44bad92</td>\n",
              "      <td>MWISHONI mwa wiki hii, Timu ya Soka ya Taifa,...</td>\n",
              "    </tr>\n",
              "    <tr>\n",
              "      <th>2</th>\n",
              "      <td>00579c2307b5c11003d21c40c3ecff5e922c3fd8</td>\n",
              "      <td>THAMANI ya mauzo ya bidhaa za Afrika Masharik...</td>\n",
              "    </tr>\n",
              "    <tr>\n",
              "      <th>3</th>\n",
              "      <td>00868eeee349e286303706ef0ffd851f39708d37</td>\n",
              "      <td>MENEJA Mawasiliano na Utetezi wa asasi ya AGP...</td>\n",
              "    </tr>\n",
              "    <tr>\n",
              "      <th>4</th>\n",
              "      <td>00a5cb12d3058dcf2e42f277eee599992db32412</td>\n",
              "      <td>WAZIRI wa Kilimo, Japhet Hasunga amesema seri...</td>\n",
              "    </tr>\n",
              "  </tbody>\n",
              "</table>\n",
              "</div>\n",
              "      <button class=\"colab-df-convert\" onclick=\"convertToInteractive('df-114a2092-fd6d-4483-8687-8ec3e742d830')\"\n",
              "              title=\"Convert this dataframe to an interactive table.\"\n",
              "              style=\"display:none;\">\n",
              "        \n",
              "  <svg xmlns=\"http://www.w3.org/2000/svg\" height=\"24px\"viewBox=\"0 0 24 24\"\n",
              "       width=\"24px\">\n",
              "    <path d=\"M0 0h24v24H0V0z\" fill=\"none\"/>\n",
              "    <path d=\"M18.56 5.44l.94 2.06.94-2.06 2.06-.94-2.06-.94-.94-2.06-.94 2.06-2.06.94zm-11 1L8.5 8.5l.94-2.06 2.06-.94-2.06-.94L8.5 2.5l-.94 2.06-2.06.94zm10 10l.94 2.06.94-2.06 2.06-.94-2.06-.94-.94-2.06-.94 2.06-2.06.94z\"/><path d=\"M17.41 7.96l-1.37-1.37c-.4-.4-.92-.59-1.43-.59-.52 0-1.04.2-1.43.59L10.3 9.45l-7.72 7.72c-.78.78-.78 2.05 0 2.83L4 21.41c.39.39.9.59 1.41.59.51 0 1.02-.2 1.41-.59l7.78-7.78 2.81-2.81c.8-.78.8-2.07 0-2.86zM5.41 20L4 18.59l7.72-7.72 1.47 1.35L5.41 20z\"/>\n",
              "  </svg>\n",
              "      </button>\n",
              "      \n",
              "  <style>\n",
              "    .colab-df-container {\n",
              "      display:flex;\n",
              "      flex-wrap:wrap;\n",
              "      gap: 12px;\n",
              "    }\n",
              "\n",
              "    .colab-df-convert {\n",
              "      background-color: #E8F0FE;\n",
              "      border: none;\n",
              "      border-radius: 50%;\n",
              "      cursor: pointer;\n",
              "      display: none;\n",
              "      fill: #1967D2;\n",
              "      height: 32px;\n",
              "      padding: 0 0 0 0;\n",
              "      width: 32px;\n",
              "    }\n",
              "\n",
              "    .colab-df-convert:hover {\n",
              "      background-color: #E2EBFA;\n",
              "      box-shadow: 0px 1px 2px rgba(60, 64, 67, 0.3), 0px 1px 3px 1px rgba(60, 64, 67, 0.15);\n",
              "      fill: #174EA6;\n",
              "    }\n",
              "\n",
              "    [theme=dark] .colab-df-convert {\n",
              "      background-color: #3B4455;\n",
              "      fill: #D2E3FC;\n",
              "    }\n",
              "\n",
              "    [theme=dark] .colab-df-convert:hover {\n",
              "      background-color: #434B5C;\n",
              "      box-shadow: 0px 1px 3px 1px rgba(0, 0, 0, 0.15);\n",
              "      filter: drop-shadow(0px 1px 2px rgba(0, 0, 0, 0.3));\n",
              "      fill: #FFFFFF;\n",
              "    }\n",
              "  </style>\n",
              "\n",
              "      <script>\n",
              "        const buttonEl =\n",
              "          document.querySelector('#df-114a2092-fd6d-4483-8687-8ec3e742d830 button.colab-df-convert');\n",
              "        buttonEl.style.display =\n",
              "          google.colab.kernel.accessAllowed ? 'block' : 'none';\n",
              "\n",
              "        async function convertToInteractive(key) {\n",
              "          const element = document.querySelector('#df-114a2092-fd6d-4483-8687-8ec3e742d830');\n",
              "          const dataTable =\n",
              "            await google.colab.kernel.invokeFunction('convertToInteractive',\n",
              "                                                     [key], {});\n",
              "          if (!dataTable) return;\n",
              "\n",
              "          const docLinkHtml = 'Like what you see? Visit the ' +\n",
              "            '<a target=\"_blank\" href=https://colab.research.google.com/notebooks/data_table.ipynb>data table notebook</a>'\n",
              "            + ' to learn more about interactive tables.';\n",
              "          element.innerHTML = '';\n",
              "          dataTable['output_type'] = 'display_data';\n",
              "          await google.colab.output.renderOutput(dataTable, element);\n",
              "          const docLink = document.createElement('div');\n",
              "          docLink.innerHTML = docLinkHtml;\n",
              "          element.appendChild(docLink);\n",
              "        }\n",
              "      </script>\n",
              "    </div>\n",
              "  </div>\n",
              "  "
            ]
          },
          "metadata": {},
          "execution_count": 36
        }
      ]
    },
    {
      "cell_type": "code",
      "source": [
        "# test dataset preprocessing\n",
        "#Removing links \n",
        "df1['clean_content'] = df1[\"content\"].apply(lambda s: ' '.join(re.sub(\"(w+://S+)\", \" \", s).split()))\n",
        "\n",
        "#Changing all the letter to lower case\n",
        "df1['clean_content'] = df1.content.map(lambda x: x.lower())\n",
        "\n",
        "#Removing the punctuation\n",
        "df1['clean_content'] = df1['clean_content'].apply(lambda x: re.sub('[%s]' % re.escape(string.punctuation), '' , x))\n",
        "\n",
        "#Replacing â€ ̃ , â€™\", () with ' '\n",
        "\n",
        "df1['clean_content'] = df1['clean_content'].replace(\"â€ ̃ \", \" \")\n",
        "df1['clean_content'] = df1['clean_content'].replace(\"â€™\", ' ')\n",
        "df1['clean_content'] = df1['clean_content'].replace(\"()\", ' ')\n",
        "\n",
        "# to remove stop words\n",
        "df1['clean_content'] = df1['clean_content'].apply(lambda x: ' '.join([word for word in x.split() if word not in (stop_words)]))\n",
        "\n",
        "# to tokenize\n",
        "df1['clean_content'] =df1['clean_content'].apply(lambda x:str(x).split()) \n",
        "\n",
        "# to normalize the data using lemmatization\n",
        "df1['clean_content'] = df1['clean_content'].apply(lambda tokens: [lemmatiser.lemmatize(token, pos='v') for token in tokens])\n",
        "df1.head()"
      ],
      "metadata": {
        "id": "E-ywy3FdKMYt",
        "colab": {
          "base_uri": "https://localhost:8080/",
          "height": 337
        },
        "outputId": "a01e013f-003f-436a-aa9d-3bf8d61071c6"
      },
      "execution_count": 37,
      "outputs": [
        {
          "output_type": "execute_result",
          "data": {
            "text/plain": [
              "                                 swahili_id  \\\n",
              "0  001dd47ac202d9db6624a5ff734a5e7dddafeaf2   \n",
              "1  0043d97f7690e9bc02f0ed8bb2b260d1d44bad92   \n",
              "2  00579c2307b5c11003d21c40c3ecff5e922c3fd8   \n",
              "3  00868eeee349e286303706ef0ffd851f39708d37   \n",
              "4  00a5cb12d3058dcf2e42f277eee599992db32412   \n",
              "\n",
              "                                             content  \\\n",
              "0   MKUU wa Wilaya ya Bahi, Mkoani Dodoma, Mwanah...   \n",
              "1   MWISHONI mwa wiki hii, Timu ya Soka ya Taifa,...   \n",
              "2   THAMANI ya mauzo ya bidhaa za Afrika Masharik...   \n",
              "3   MENEJA Mawasiliano na Utetezi wa asasi ya AGP...   \n",
              "4   WAZIRI wa Kilimo, Japhet Hasunga amesema seri...   \n",
              "\n",
              "                                       clean_content  \n",
              "0  [mkuu, wilaya, bahi, mkoani, dodoma, mwanahami...  \n",
              "1  [mwishoni, wiki, timu, soka, taifa, taifa, sta...  \n",
              "2  [thamani, mauzo, bidhaa, afrika, mashariki, um...  \n",
              "3  [meneja, mawasiliano, utetezi, asasi, agpahi, ...  \n",
              "4  [waziri, kilimo, japhet, hasunga, amesema, ser...  "
            ],
            "text/html": [
              "\n",
              "  <div id=\"df-980f9ac6-848f-4053-a5fd-7cdb5bc59f57\">\n",
              "    <div class=\"colab-df-container\">\n",
              "      <div>\n",
              "<style scoped>\n",
              "    .dataframe tbody tr th:only-of-type {\n",
              "        vertical-align: middle;\n",
              "    }\n",
              "\n",
              "    .dataframe tbody tr th {\n",
              "        vertical-align: top;\n",
              "    }\n",
              "\n",
              "    .dataframe thead th {\n",
              "        text-align: right;\n",
              "    }\n",
              "</style>\n",
              "<table border=\"1\" class=\"dataframe\">\n",
              "  <thead>\n",
              "    <tr style=\"text-align: right;\">\n",
              "      <th></th>\n",
              "      <th>swahili_id</th>\n",
              "      <th>content</th>\n",
              "      <th>clean_content</th>\n",
              "    </tr>\n",
              "  </thead>\n",
              "  <tbody>\n",
              "    <tr>\n",
              "      <th>0</th>\n",
              "      <td>001dd47ac202d9db6624a5ff734a5e7dddafeaf2</td>\n",
              "      <td>MKUU wa Wilaya ya Bahi, Mkoani Dodoma, Mwanah...</td>\n",
              "      <td>[mkuu, wilaya, bahi, mkoani, dodoma, mwanahami...</td>\n",
              "    </tr>\n",
              "    <tr>\n",
              "      <th>1</th>\n",
              "      <td>0043d97f7690e9bc02f0ed8bb2b260d1d44bad92</td>\n",
              "      <td>MWISHONI mwa wiki hii, Timu ya Soka ya Taifa,...</td>\n",
              "      <td>[mwishoni, wiki, timu, soka, taifa, taifa, sta...</td>\n",
              "    </tr>\n",
              "    <tr>\n",
              "      <th>2</th>\n",
              "      <td>00579c2307b5c11003d21c40c3ecff5e922c3fd8</td>\n",
              "      <td>THAMANI ya mauzo ya bidhaa za Afrika Masharik...</td>\n",
              "      <td>[thamani, mauzo, bidhaa, afrika, mashariki, um...</td>\n",
              "    </tr>\n",
              "    <tr>\n",
              "      <th>3</th>\n",
              "      <td>00868eeee349e286303706ef0ffd851f39708d37</td>\n",
              "      <td>MENEJA Mawasiliano na Utetezi wa asasi ya AGP...</td>\n",
              "      <td>[meneja, mawasiliano, utetezi, asasi, agpahi, ...</td>\n",
              "    </tr>\n",
              "    <tr>\n",
              "      <th>4</th>\n",
              "      <td>00a5cb12d3058dcf2e42f277eee599992db32412</td>\n",
              "      <td>WAZIRI wa Kilimo, Japhet Hasunga amesema seri...</td>\n",
              "      <td>[waziri, kilimo, japhet, hasunga, amesema, ser...</td>\n",
              "    </tr>\n",
              "  </tbody>\n",
              "</table>\n",
              "</div>\n",
              "      <button class=\"colab-df-convert\" onclick=\"convertToInteractive('df-980f9ac6-848f-4053-a5fd-7cdb5bc59f57')\"\n",
              "              title=\"Convert this dataframe to an interactive table.\"\n",
              "              style=\"display:none;\">\n",
              "        \n",
              "  <svg xmlns=\"http://www.w3.org/2000/svg\" height=\"24px\"viewBox=\"0 0 24 24\"\n",
              "       width=\"24px\">\n",
              "    <path d=\"M0 0h24v24H0V0z\" fill=\"none\"/>\n",
              "    <path d=\"M18.56 5.44l.94 2.06.94-2.06 2.06-.94-2.06-.94-.94-2.06-.94 2.06-2.06.94zm-11 1L8.5 8.5l.94-2.06 2.06-.94-2.06-.94L8.5 2.5l-.94 2.06-2.06.94zm10 10l.94 2.06.94-2.06 2.06-.94-2.06-.94-.94-2.06-.94 2.06-2.06.94z\"/><path d=\"M17.41 7.96l-1.37-1.37c-.4-.4-.92-.59-1.43-.59-.52 0-1.04.2-1.43.59L10.3 9.45l-7.72 7.72c-.78.78-.78 2.05 0 2.83L4 21.41c.39.39.9.59 1.41.59.51 0 1.02-.2 1.41-.59l7.78-7.78 2.81-2.81c.8-.78.8-2.07 0-2.86zM5.41 20L4 18.59l7.72-7.72 1.47 1.35L5.41 20z\"/>\n",
              "  </svg>\n",
              "      </button>\n",
              "      \n",
              "  <style>\n",
              "    .colab-df-container {\n",
              "      display:flex;\n",
              "      flex-wrap:wrap;\n",
              "      gap: 12px;\n",
              "    }\n",
              "\n",
              "    .colab-df-convert {\n",
              "      background-color: #E8F0FE;\n",
              "      border: none;\n",
              "      border-radius: 50%;\n",
              "      cursor: pointer;\n",
              "      display: none;\n",
              "      fill: #1967D2;\n",
              "      height: 32px;\n",
              "      padding: 0 0 0 0;\n",
              "      width: 32px;\n",
              "    }\n",
              "\n",
              "    .colab-df-convert:hover {\n",
              "      background-color: #E2EBFA;\n",
              "      box-shadow: 0px 1px 2px rgba(60, 64, 67, 0.3), 0px 1px 3px 1px rgba(60, 64, 67, 0.15);\n",
              "      fill: #174EA6;\n",
              "    }\n",
              "\n",
              "    [theme=dark] .colab-df-convert {\n",
              "      background-color: #3B4455;\n",
              "      fill: #D2E3FC;\n",
              "    }\n",
              "\n",
              "    [theme=dark] .colab-df-convert:hover {\n",
              "      background-color: #434B5C;\n",
              "      box-shadow: 0px 1px 3px 1px rgba(0, 0, 0, 0.15);\n",
              "      filter: drop-shadow(0px 1px 2px rgba(0, 0, 0, 0.3));\n",
              "      fill: #FFFFFF;\n",
              "    }\n",
              "  </style>\n",
              "\n",
              "      <script>\n",
              "        const buttonEl =\n",
              "          document.querySelector('#df-980f9ac6-848f-4053-a5fd-7cdb5bc59f57 button.colab-df-convert');\n",
              "        buttonEl.style.display =\n",
              "          google.colab.kernel.accessAllowed ? 'block' : 'none';\n",
              "\n",
              "        async function convertToInteractive(key) {\n",
              "          const element = document.querySelector('#df-980f9ac6-848f-4053-a5fd-7cdb5bc59f57');\n",
              "          const dataTable =\n",
              "            await google.colab.kernel.invokeFunction('convertToInteractive',\n",
              "                                                     [key], {});\n",
              "          if (!dataTable) return;\n",
              "\n",
              "          const docLinkHtml = 'Like what you see? Visit the ' +\n",
              "            '<a target=\"_blank\" href=https://colab.research.google.com/notebooks/data_table.ipynb>data table notebook</a>'\n",
              "            + ' to learn more about interactive tables.';\n",
              "          element.innerHTML = '';\n",
              "          dataTable['output_type'] = 'display_data';\n",
              "          await google.colab.output.renderOutput(dataTable, element);\n",
              "          const docLink = document.createElement('div');\n",
              "          docLink.innerHTML = docLinkHtml;\n",
              "          element.appendChild(docLink);\n",
              "        }\n",
              "      </script>\n",
              "    </div>\n",
              "  </div>\n",
              "  "
            ]
          },
          "metadata": {},
          "execution_count": 37
        }
      ]
    },
    {
      "cell_type": "markdown",
      "metadata": {
        "id": "AdbMcJfbPECx"
      },
      "source": [
        "## Data Modeling"
      ]
    },
    {
      "cell_type": "markdown",
      "source": [
        "### Handling the class imbalance"
      ],
      "metadata": {
        "id": "cqg_ZUDIeyhu"
      }
    },
    {
      "cell_type": "code",
      "source": [
        "#Link explaining how to deal with class imbalance\n",
        "# https://www.analyticsvidhya.com/blog/2020/11/handling-imbalanced-data-machine-learning-computer-vision-and-nlp/\n",
        "#https://machinelearningmastery.com/smote-oversampling-for-imbalanced-classification/\n",
        "#https://machinelearningmastery.com/multi-class-imbalanced-classification/"
      ],
      "metadata": {
        "id": "YuW2p1ovevXK"
      },
      "execution_count": 38,
      "outputs": []
    },
    {
      "cell_type": "code",
      "source": [
        "!pip install imbalanced-learn"
      ],
      "metadata": {
        "colab": {
          "base_uri": "https://localhost:8080/"
        },
        "id": "Xl35QFwNZ66v",
        "outputId": "f2dda6cb-f860-4b7a-a734-69c4d41707f6"
      },
      "execution_count": 39,
      "outputs": [
        {
          "output_type": "stream",
          "name": "stdout",
          "text": [
            "Requirement already satisfied: imbalanced-learn in /usr/local/lib/python3.7/dist-packages (0.8.1)\n",
            "Requirement already satisfied: scipy>=0.19.1 in /usr/local/lib/python3.7/dist-packages (from imbalanced-learn) (1.4.1)\n",
            "Requirement already satisfied: scikit-learn>=0.24 in /usr/local/lib/python3.7/dist-packages (from imbalanced-learn) (1.0.2)\n",
            "Requirement already satisfied: numpy>=1.13.3 in /usr/local/lib/python3.7/dist-packages (from imbalanced-learn) (1.21.5)\n",
            "Requirement already satisfied: joblib>=0.11 in /usr/local/lib/python3.7/dist-packages (from imbalanced-learn) (1.1.0)\n",
            "Requirement already satisfied: threadpoolctl>=2.0.0 in /usr/local/lib/python3.7/dist-packages (from scikit-learn>=0.24->imbalanced-learn) (3.1.0)\n"
          ]
        }
      ]
    },
    {
      "cell_type": "code",
      "source": [
        "#Importing the library\n",
        "from imblearn.over_sampling import SMOTE\n",
        "from collections import Counter\n",
        "from matplotlib import pyplot"
      ],
      "metadata": {
        "id": "n3Mgk1EiNvC3"
      },
      "execution_count": 40,
      "outputs": []
    },
    {
      "cell_type": "code",
      "source": [
        "#Vectorization is used to to convert a collection of text docs to a vector of term/token counts\n",
        "#These words need to then be encoded as integers, or floating-point values, for use as inputs in\n",
        "# machine learning algorithms. This process is called feature extraction (or vectorization).\n",
        "# link https://towardsdatascience.com/tf-idf-simplified-aba19d5f5530\n",
        "\n",
        "#Importing our Modelling libraries\n",
        "from sklearn.feature_extraction.text import CountVectorizer\n",
        "from sklearn.feature_extraction.text import TfidfVectorizer\n",
        "\n",
        "tf_idf = TfidfVectorizer(max_features=12000)\n",
        "# TF-IDF feature matrix\n",
        "df['clean_content'] = df['clean_content'].apply(lambda x: ' '.join(x))\n",
        "\n",
        "X = tf_idf.fit_transform(df['clean_content'])\n",
        "X"
      ],
      "metadata": {
        "colab": {
          "base_uri": "https://localhost:8080/"
        },
        "id": "7fqqQNh5fZe9",
        "outputId": "d8a2f36d-2eca-4bea-dae8-1af0fb64e31b"
      },
      "execution_count": 41,
      "outputs": [
        {
          "output_type": "execute_result",
          "data": {
            "text/plain": [
              "<5151x12000 sparse matrix of type '<class 'numpy.float64'>'\n",
              "\twith 597487 stored elements in Compressed Sparse Row format>"
            ]
          },
          "metadata": {},
          "execution_count": 41
        }
      ]
    },
    {
      "cell_type": "code",
      "source": [
        "#converting it to an array\n",
        "X = X.toarray()"
      ],
      "metadata": {
        "id": "-VMNUZrLfgd9"
      },
      "execution_count": 42,
      "outputs": []
    },
    {
      "cell_type": "code",
      "source": [
        "# split into input and output elements\n",
        "X, y = X, df['category']\n",
        "# transform the dataset\n",
        "oversample = SMOTE()\n",
        "X, y = oversample.fit_resample(X, y)\n",
        "\n",
        "# summarize distribution\n",
        "counter = Counter(y)\n",
        "for k,v in counter.items():\n",
        "\tper = v / len(y) * 100\n",
        "\tprint('Class=%d, n=%d (%.3f%%)' % (k, v, per))\n",
        " \n",
        "from matplotlib import pyplot\n",
        " # plot the distribution\n",
        "pyplot.bar(counter.keys(), counter.values())\n",
        "pyplot.show()"
      ],
      "metadata": {
        "colab": {
          "base_uri": "https://localhost:8080/",
          "height": 352
        },
        "id": "NUF3d8SdZf76",
        "outputId": "6df675f5-c0f9-4602-bdcb-e031790883b0"
      },
      "execution_count": 43,
      "outputs": [
        {
          "output_type": "stream",
          "name": "stdout",
          "text": [
            "Class=0, n=2000 (20.000%)\n",
            "Class=2, n=2000 (20.000%)\n",
            "Class=1, n=2000 (20.000%)\n",
            "Class=3, n=2000 (20.000%)\n",
            "Class=4, n=2000 (20.000%)\n"
          ]
        },
        {
          "output_type": "display_data",
          "data": {
            "text/plain": [
              "<Figure size 432x288 with 1 Axes>"
            ],
            "image/png": "[encoded data removed]"
          },
          "metadata": {
            "needs_background": "light"
          }
        }
      ]
    },
    {
      "cell_type": "markdown",
      "source": [
        "class 0 which is kimataifa had 2000 values before and after sampling the dataset the classes are now equal."
      ],
      "metadata": {
        "id": "pBbTA_Z4mGwD"
      }
    },
    {
      "cell_type": "code",
      "source": [
        "y.value_counts()"
      ],
      "metadata": {
        "colab": {
          "base_uri": "https://localhost:8080/"
        },
        "id": "X9EhPH7Pg0bz",
        "outputId": "f2495a2c-ec9b-4ffc-fe33-7ae75b8c9333"
      },
      "execution_count": 44,
      "outputs": [
        {
          "output_type": "execute_result",
          "data": {
            "text/plain": [
              "0    2000\n",
              "2    2000\n",
              "1    2000\n",
              "3    2000\n",
              "4    2000\n",
              "Name: category, dtype: int64"
            ]
          },
          "metadata": {},
          "execution_count": 44
        }
      ]
    },
    {
      "cell_type": "code",
      "source": [
        "#let's try to resample our data\n",
        "# Separating classes)\n",
        "#from sklearn.utils import resample\n",
        "#Kitaifa = df[df.category == 0]\n",
        "#michezo = df[df.category == 1]\n",
        "#Biashara = df[df.category == 2]\n",
        "#Kimataifa = df[df.category == 3]\n",
        "#Burudani = df[df.category == 4]\n",
        "\n",
        "# Oversampling  \n",
        "#oversampl = resample(spam,replace=True,n_samples=len(not_spam), random_state=42)\n",
        "#oversampl = resample(positive,replace=True,n_samples=len(negative), random_state=42)\n",
        "#oversampled = pd.concat([not_spam, oversampl])\n",
        "#oversampled = pd.concat([negative, oversampl])\n",
        "#df = oversampled.copy()"
      ],
      "metadata": {
        "id": "OBuMZWFocy01"
      },
      "execution_count": 45,
      "outputs": []
    },
    {
      "cell_type": "code",
      "execution_count": 46,
      "metadata": {
        "id": "d46HAXR6voBE"
      },
      "outputs": [],
      "source": [
        "#Importing our Modelling libraries\n",
        "from sklearn.metrics import confusion_matrix\n",
        "from sklearn.model_selection import train_test_split\n",
        "from sklearn.metrics import f1_score\n",
        "from sklearn.feature_selection import SelectFromModel\n",
        "from sklearn.metrics import classification_report\n",
        "from sklearn.metrics import accuracy_score\n",
        "from sklearn.ensemble import RandomForestClassifier\n",
        "from sklearn.naive_bayes import GaussianNB\n",
        "from sklearn.naive_bayes import MultinomialNB\n",
        "import warnings\n",
        "warnings.simplefilter(action='ignore', category=FutureWarning)"
      ]
    },
    {
      "cell_type": "markdown",
      "metadata": {
        "id": "P_mShRWYKcY3"
      },
      "source": [
        "## 1. Multinomial Naive Bayes Classifier"
      ]
    },
    {
      "cell_type": "code",
      "execution_count": 47,
      "metadata": {
        "id": "6Z7dWDavEYl0"
      },
      "outputs": [],
      "source": [
        "#Train test split\n",
        "X_train, X_test, y_train, y_test = train_test_split(X, y, test_size=0.2, random_state=69)"
      ]
    },
    {
      "cell_type": "code",
      "execution_count": 48,
      "metadata": {
        "id": "ZRV4Kd95TsmO",
        "colab": {
          "base_uri": "https://localhost:8080/"
        },
        "outputId": "7065c11d-fba4-4fa2-c1de-27ebd01f67b6"
      },
      "outputs": [
        {
          "output_type": "stream",
          "name": "stdout",
          "text": [
            "              precision    recall  f1-score   support\n",
            "\n",
            "           0       0.87      0.73      0.80       400\n",
            "           1       0.97      0.90      0.94       387\n",
            "           2       0.80      0.96      0.87       397\n",
            "           3       0.98      1.00      0.99       397\n",
            "           4       0.99      1.00      1.00       419\n",
            "\n",
            "    accuracy                           0.92      2000\n",
            "   macro avg       0.92      0.92      0.92      2000\n",
            "weighted avg       0.92      0.92      0.92      2000\n",
            "\n"
          ]
        }
      ],
      "source": [
        "#Building the first model\n",
        "\n",
        "modelNB = MultinomialNB().fit(X_train, y_train)\n",
        "predicted = modelNB.predict(X_test)\n",
        "report = classification_report( y_test, predicted )\n",
        "print(report)\n",
        "acc=accuracy_score(y_test,predicted)"
      ]
    },
    {
      "cell_type": "code",
      "execution_count": 49,
      "metadata": {
        "id": "lP0NbziFU8_0",
        "colab": {
          "base_uri": "https://localhost:8080/"
        },
        "outputId": "5c8ecb6b-03c3-4be7-9cb0-cb6540d61c6c"
      },
      "outputs": [
        {
          "output_type": "execute_result",
          "data": {
            "text/plain": [
              "<1288x12000 sparse matrix of type '<class 'numpy.float64'>'\n",
              "\twith 152664 stored elements in Compressed Sparse Row format>"
            ]
          },
          "metadata": {},
          "execution_count": 49
        }
      ],
      "source": [
        "tf_idf = TfidfVectorizer(max_features=12000)\n",
        "# TF-IDF feature matrix\n",
        "df1['clean_content'] = df1['clean_content'].apply(lambda x: ' '.join(x))\n",
        "\n",
        "b = tf_idf.fit_transform(df1['clean_content'] )\n",
        "b"
      ]
    },
    {
      "cell_type": "code",
      "execution_count": 50,
      "metadata": {
        "id": "DyYD7NvhVltr"
      },
      "outputs": [],
      "source": [
        "b = b.toarray()"
      ]
    },
    {
      "cell_type": "code",
      "execution_count": 51,
      "metadata": {
        "id": "khHkxXf8Ul64",
        "colab": {
          "base_uri": "https://localhost:8080/"
        },
        "outputId": "24798481-b965-46a1-d130-c85cd260693f"
      },
      "outputs": [
        {
          "output_type": "execute_result",
          "data": {
            "text/plain": [
              "array([1, 2, 0, ..., 2, 0, 2])"
            ]
          },
          "metadata": {},
          "execution_count": 51
        }
      ],
      "source": [
        "#Making predictions \n",
        "\n",
        "y_pred=modelNB.predict(b)\n",
        "y_pred"
      ]
    },
    {
      "cell_type": "code",
      "execution_count": 52,
      "metadata": {
        "id": "dPlxmYflUSy6"
      },
      "outputs": [],
      "source": [
        "#Converting the predictions to a dataframe\n",
        "output = pd.DataFrame({'swahili_id': df1.swahili_id\t,'category': y_pred})\n",
        "output.head(3)\n",
        "\n",
        "# a mapping dictionary that maps the category values from 0 to 5 back to the categories\n",
        "category_mapping = {0:\"Kitaifa\",1:\"michezo\", 2:\"Biashara\", 3:\"Kimataifa\", 4:\"Burudani\"}\n",
        "\n",
        "output[\"category\"] = output.category.map(category_mapping)\n",
        "\n",
        "output.sample(5)\n",
        "output.to_csv('submission.csv', index=False)\n"
      ]
    },
    {
      "cell_type": "code",
      "execution_count": 53,
      "metadata": {
        "id": "zKGcqQQ0UjVf",
        "colab": {
          "base_uri": "https://localhost:8080/",
          "height": 423
        },
        "outputId": "970dc919-d168-4b1b-b6fb-b6368404bea4"
      },
      "outputs": [
        {
          "output_type": "execute_result",
          "data": {
            "text/plain": [
              "                                    swahili_id  category\n",
              "0     001dd47ac202d9db6624a5ff734a5e7dddafeaf2   michezo\n",
              "1     0043d97f7690e9bc02f0ed8bb2b260d1d44bad92  Biashara\n",
              "2     00579c2307b5c11003d21c40c3ecff5e922c3fd8   Kitaifa\n",
              "3     00868eeee349e286303706ef0ffd851f39708d37  Biashara\n",
              "4     00a5cb12d3058dcf2e42f277eee599992db32412   Kitaifa\n",
              "...                                        ...       ...\n",
              "1283  feb4b0ae88524c9cee3e50f2301d84a235f3c607   michezo\n",
              "1284  fecf3f14f47237e02721ed4baa4eb6c11abd239f   Kitaifa\n",
              "1285  feed09e13586d12139cd59bc20996a4d29706606  Biashara\n",
              "1286  ffc0bca6fde8fa0cce1ac3a7b0d746603d441bf8   Kitaifa\n",
              "1287  fffdd6f356ed5b8dba21717f60c53f6520e650ab  Biashara\n",
              "\n",
              "[1288 rows x 2 columns]"
            ],
            "text/html": [
              "\n",
              "  <div id=\"df-a3695f51-22c1-41c9-8e55-414d8de1262f\">\n",
              "    <div class=\"colab-df-container\">\n",
              "      <div>\n",
              "<style scoped>\n",
              "    .dataframe tbody tr th:only-of-type {\n",
              "        vertical-align: middle;\n",
              "    }\n",
              "\n",
              "    .dataframe tbody tr th {\n",
              "        vertical-align: top;\n",
              "    }\n",
              "\n",
              "    .dataframe thead th {\n",
              "        text-align: right;\n",
              "    }\n",
              "</style>\n",
              "<table border=\"1\" class=\"dataframe\">\n",
              "  <thead>\n",
              "    <tr style=\"text-align: right;\">\n",
              "      <th></th>\n",
              "      <th>swahili_id</th>\n",
              "      <th>category</th>\n",
              "    </tr>\n",
              "  </thead>\n",
              "  <tbody>\n",
              "    <tr>\n",
              "      <th>0</th>\n",
              "      <td>001dd47ac202d9db6624a5ff734a5e7dddafeaf2</td>\n",
              "      <td>michezo</td>\n",
              "    </tr>\n",
              "    <tr>\n",
              "      <th>1</th>\n",
              "      <td>0043d97f7690e9bc02f0ed8bb2b260d1d44bad92</td>\n",
              "      <td>Biashara</td>\n",
              "    </tr>\n",
              "    <tr>\n",
              "      <th>2</th>\n",
              "      <td>00579c2307b5c11003d21c40c3ecff5e922c3fd8</td>\n",
              "      <td>Kitaifa</td>\n",
              "    </tr>\n",
              "    <tr>\n",
              "      <th>3</th>\n",
              "      <td>00868eeee349e286303706ef0ffd851f39708d37</td>\n",
              "      <td>Biashara</td>\n",
              "    </tr>\n",
              "    <tr>\n",
              "      <th>4</th>\n",
              "      <td>00a5cb12d3058dcf2e42f277eee599992db32412</td>\n",
              "      <td>Kitaifa</td>\n",
              "    </tr>\n",
              "    <tr>\n",
              "      <th>...</th>\n",
              "      <td>...</td>\n",
              "      <td>...</td>\n",
              "    </tr>\n",
              "    <tr>\n",
              "      <th>1283</th>\n",
              "      <td>feb4b0ae88524c9cee3e50f2301d84a235f3c607</td>\n",
              "      <td>michezo</td>\n",
              "    </tr>\n",
              "    <tr>\n",
              "      <th>1284</th>\n",
              "      <td>fecf3f14f47237e02721ed4baa4eb6c11abd239f</td>\n",
              "      <td>Kitaifa</td>\n",
              "    </tr>\n",
              "    <tr>\n",
              "      <th>1285</th>\n",
              "      <td>feed09e13586d12139cd59bc20996a4d29706606</td>\n",
              "      <td>Biashara</td>\n",
              "    </tr>\n",
              "    <tr>\n",
              "      <th>1286</th>\n",
              "      <td>ffc0bca6fde8fa0cce1ac3a7b0d746603d441bf8</td>\n",
              "      <td>Kitaifa</td>\n",
              "    </tr>\n",
              "    <tr>\n",
              "      <th>1287</th>\n",
              "      <td>fffdd6f356ed5b8dba21717f60c53f6520e650ab</td>\n",
              "      <td>Biashara</td>\n",
              "    </tr>\n",
              "  </tbody>\n",
              "</table>\n",
              "<p>1288 rows × 2 columns</p>\n",
              "</div>\n",
              "      <button class=\"colab-df-convert\" onclick=\"convertToInteractive('df-a3695f51-22c1-41c9-8e55-414d8de1262f')\"\n",
              "              title=\"Convert this dataframe to an interactive table.\"\n",
              "              style=\"display:none;\">\n",
              "        \n",
              "  <svg xmlns=\"http://www.w3.org/2000/svg\" height=\"24px\"viewBox=\"0 0 24 24\"\n",
              "       width=\"24px\">\n",
              "    <path d=\"M0 0h24v24H0V0z\" fill=\"none\"/>\n",
              "    <path d=\"M18.56 5.44l.94 2.06.94-2.06 2.06-.94-2.06-.94-.94-2.06-.94 2.06-2.06.94zm-11 1L8.5 8.5l.94-2.06 2.06-.94-2.06-.94L8.5 2.5l-.94 2.06-2.06.94zm10 10l.94 2.06.94-2.06 2.06-.94-2.06-.94-.94-2.06-.94 2.06-2.06.94z\"/><path d=\"M17.41 7.96l-1.37-1.37c-.4-.4-.92-.59-1.43-.59-.52 0-1.04.2-1.43.59L10.3 9.45l-7.72 7.72c-.78.78-.78 2.05 0 2.83L4 21.41c.39.39.9.59 1.41.59.51 0 1.02-.2 1.41-.59l7.78-7.78 2.81-2.81c.8-.78.8-2.07 0-2.86zM5.41 20L4 18.59l7.72-7.72 1.47 1.35L5.41 20z\"/>\n",
              "  </svg>\n",
              "      </button>\n",
              "      \n",
              "  <style>\n",
              "    .colab-df-container {\n",
              "      display:flex;\n",
              "      flex-wrap:wrap;\n",
              "      gap: 12px;\n",
              "    }\n",
              "\n",
              "    .colab-df-convert {\n",
              "      background-color: #E8F0FE;\n",
              "      border: none;\n",
              "      border-radius: 50%;\n",
              "      cursor: pointer;\n",
              "      display: none;\n",
              "      fill: #1967D2;\n",
              "      height: 32px;\n",
              "      padding: 0 0 0 0;\n",
              "      width: 32px;\n",
              "    }\n",
              "\n",
              "    .colab-df-convert:hover {\n",
              "      background-color: #E2EBFA;\n",
              "      box-shadow: 0px 1px 2px rgba(60, 64, 67, 0.3), 0px 1px 3px 1px rgba(60, 64, 67, 0.15);\n",
              "      fill: #174EA6;\n",
              "    }\n",
              "\n",
              "    [theme=dark] .colab-df-convert {\n",
              "      background-color: #3B4455;\n",
              "      fill: #D2E3FC;\n",
              "    }\n",
              "\n",
              "    [theme=dark] .colab-df-convert:hover {\n",
              "      background-color: #434B5C;\n",
              "      box-shadow: 0px 1px 3px 1px rgba(0, 0, 0, 0.15);\n",
              "      filter: drop-shadow(0px 1px 2px rgba(0, 0, 0, 0.3));\n",
              "      fill: #FFFFFF;\n",
              "    }\n",
              "  </style>\n",
              "\n",
              "      <script>\n",
              "        const buttonEl =\n",
              "          document.querySelector('#df-a3695f51-22c1-41c9-8e55-414d8de1262f button.colab-df-convert');\n",
              "        buttonEl.style.display =\n",
              "          google.colab.kernel.accessAllowed ? 'block' : 'none';\n",
              "\n",
              "        async function convertToInteractive(key) {\n",
              "          const element = document.querySelector('#df-a3695f51-22c1-41c9-8e55-414d8de1262f');\n",
              "          const dataTable =\n",
              "            await google.colab.kernel.invokeFunction('convertToInteractive',\n",
              "                                                     [key], {});\n",
              "          if (!dataTable) return;\n",
              "\n",
              "          const docLinkHtml = 'Like what you see? Visit the ' +\n",
              "            '<a target=\"_blank\" href=https://colab.research.google.com/notebooks/data_table.ipynb>data table notebook</a>'\n",
              "            + ' to learn more about interactive tables.';\n",
              "          element.innerHTML = '';\n",
              "          dataTable['output_type'] = 'display_data';\n",
              "          await google.colab.output.renderOutput(dataTable, element);\n",
              "          const docLink = document.createElement('div');\n",
              "          docLink.innerHTML = docLinkHtml;\n",
              "          element.appendChild(docLink);\n",
              "        }\n",
              "      </script>\n",
              "    </div>\n",
              "  </div>\n",
              "  "
            ]
          },
          "metadata": {},
          "execution_count": 53
        }
      ],
      "source": [
        "#Previewing the submission file\n",
        "pd.read_csv('/content/submission.csv')"
      ]
    },
    {
      "cell_type": "code",
      "execution_count": 54,
      "metadata": {
        "id": "GYYi21zVaHeZ",
        "colab": {
          "base_uri": "https://localhost:8080/"
        },
        "outputId": "02751910-8912-4d69-dbc0-dfb2613f40c1"
      },
      "outputs": [
        {
          "output_type": "execute_result",
          "data": {
            "text/plain": [
              "(1288, 2)"
            ]
          },
          "metadata": {},
          "execution_count": 54
        }
      ],
      "source": [
        "#Previewing the shape of the prediction\n",
        "output.shape"
      ]
    },
    {
      "cell_type": "code",
      "execution_count": 55,
      "metadata": {
        "id": "LcH22I1iaRg0",
        "colab": {
          "base_uri": "https://localhost:8080/"
        },
        "outputId": "192563ec-f265-4cfc-d5a5-6e908aff6ba4"
      },
      "outputs": [
        {
          "output_type": "execute_result",
          "data": {
            "text/plain": [
              "swahili_id    0\n",
              "category      0\n",
              "dtype: int64"
            ]
          },
          "metadata": {},
          "execution_count": 55
        }
      ],
      "source": [
        "output.isnull().sum()"
      ]
    },
    {
      "cell_type": "markdown",
      "metadata": {
        "id": "ZnGx9IKJgGyx"
      },
      "source": [
        "Random Forest Classifier"
      ]
    },
    {
      "cell_type": "code",
      "execution_count": 56,
      "metadata": {
        "id": "8JZ1BfYmJN2Y",
        "colab": {
          "base_uri": "https://localhost:8080/"
        },
        "outputId": "6f6793a3-1e08-414e-ca1a-91fba663a172"
      },
      "outputs": [
        {
          "output_type": "stream",
          "name": "stdout",
          "text": [
            "              precision    recall  f1-score   support\n",
            "\n",
            "           0       0.85      0.80      0.83       400\n",
            "           1       0.97      0.95      0.96       387\n",
            "           2       0.84      0.90      0.87       397\n",
            "           3       0.99      1.00      1.00       397\n",
            "           4       1.00      1.00      1.00       419\n",
            "\n",
            "    accuracy                           0.93      2000\n",
            "   macro avg       0.93      0.93      0.93      2000\n",
            "weighted avg       0.93      0.93      0.93      2000\n",
            "\n"
          ]
        }
      ],
      "source": [
        "#start by splitting our dataset\n",
        "X_train, X_test, y_train, y_test = train_test_split(X,y, test_size=0.2, random_state=69)\n",
        "\n",
        "#Train the model\n",
        "modelRF = RandomForestClassifier().fit(X_train, y_train)\n",
        "#Mking prediction\n",
        "predicted = modelRF.predict(X_test)\n",
        "\n",
        "#classification report\n",
        "report = classification_report( y_test, predicted )\n",
        "print(report)\n",
        "acc=accuracy_score(y_test,predicted)"
      ]
    },
    {
      "cell_type": "markdown",
      "metadata": {
        "id": "BwVkM-ZEJpnh"
      },
      "source": [
        "Random Forest has a higher accuracy of 93% compared to the Multinomial Naive Bayes Model"
      ]
    },
    {
      "cell_type": "markdown",
      "metadata": {
        "id": "af8b990WMYQH"
      },
      "source": [
        "Linear Support Vector Model"
      ]
    },
    {
      "cell_type": "code",
      "execution_count": 57,
      "metadata": {
        "id": "kO3ysM54MXX4",
        "colab": {
          "base_uri": "https://localhost:8080/"
        },
        "outputId": "0c513a50-be30-4584-e907-681e15d2c72d"
      },
      "outputs": [
        {
          "output_type": "stream",
          "name": "stdout",
          "text": [
            "              precision    recall  f1-score   support\n",
            "\n",
            "           0       0.90      0.81      0.85       400\n",
            "           1       0.97      0.96      0.96       387\n",
            "           2       0.85      0.92      0.88       397\n",
            "           3       0.99      1.00      1.00       397\n",
            "           4       0.98      1.00      0.99       419\n",
            "\n",
            "    accuracy                           0.94      2000\n",
            "   macro avg       0.94      0.94      0.94      2000\n",
            "weighted avg       0.94      0.94      0.94      2000\n",
            "\n"
          ]
        }
      ],
      "source": [
        "X_train, X_test, y_train, y_test = train_test_split(X, y, test_size=0.2, random_state=69)\n",
        "#Training the model\n",
        "from sklearn.svm import LinearSVC \n",
        "model = LinearSVC().fit(X_train, y_train)\n",
        "\n",
        "#Makingpredictions\n",
        "predicted = model.predict(X_test)\n",
        "\n",
        "#Classification report\n",
        "report = classification_report( y_test, predicted )\n",
        "print(report)\n",
        "acc=accuracy_score(y_test,predicted)"
      ]
    },
    {
      "cell_type": "markdown",
      "metadata": {
        "id": "vl741xO6Ngol"
      },
      "source": [
        "## BERT Modelling\n",
        "\n",
        "BERT is a transformer-based machine learning technique for natural language processing pre-training developed by Google"
      ]
    },
    {
      "cell_type": "code",
      "execution_count": 58,
      "metadata": {
        "id": "pDqVLAsANi1v",
        "colab": {
          "base_uri": "https://localhost:8080/"
        },
        "outputId": "a93b08d3-b4dc-4bbd-a656-db79aa95bca1"
      },
      "outputs": [
        {
          "output_type": "stream",
          "name": "stdout",
          "text": [
            "Collecting tensorflow_text\n",
            "  Downloading tensorflow_text-2.8.1-cp37-cp37m-manylinux_2_12_x86_64.manylinux2010_x86_64.whl (4.9 MB)\n",
            "\u001b[K     |████████████████████████████████| 4.9 MB 5.4 MB/s \n",
            "\u001b[?25hRequirement already satisfied: tensorflow<2.9,>=2.8.0 in /usr/local/lib/python3.7/dist-packages (from tensorflow_text) (2.8.0)\n",
            "Requirement already satisfied: tensorflow-hub>=0.8.0 in /usr/local/lib/python3.7/dist-packages (from tensorflow_text) (0.12.0)\n",
            "Requirement already satisfied: termcolor>=1.1.0 in /usr/local/lib/python3.7/dist-packages (from tensorflow<2.9,>=2.8.0->tensorflow_text) (1.1.0)\n",
            "Requirement already satisfied: keras-preprocessing>=1.1.1 in /usr/local/lib/python3.7/dist-packages (from tensorflow<2.9,>=2.8.0->tensorflow_text) (1.1.2)\n",
            "Requirement already satisfied: keras<2.9,>=2.8.0rc0 in /usr/local/lib/python3.7/dist-packages (from tensorflow<2.9,>=2.8.0->tensorflow_text) (2.8.0)\n",
            "Requirement already satisfied: numpy>=1.20 in /usr/local/lib/python3.7/dist-packages (from tensorflow<2.9,>=2.8.0->tensorflow_text) (1.21.5)\n",
            "Requirement already satisfied: absl-py>=0.4.0 in /usr/local/lib/python3.7/dist-packages (from tensorflow<2.9,>=2.8.0->tensorflow_text) (1.0.0)\n",
            "Requirement already satisfied: grpcio<2.0,>=1.24.3 in /usr/local/lib/python3.7/dist-packages (from tensorflow<2.9,>=2.8.0->tensorflow_text) (1.44.0)\n",
            "Requirement already satisfied: h5py>=2.9.0 in /usr/local/lib/python3.7/dist-packages (from tensorflow<2.9,>=2.8.0->tensorflow_text) (3.1.0)\n",
            "Requirement already satisfied: tensorflow-io-gcs-filesystem>=0.23.1 in /usr/local/lib/python3.7/dist-packages (from tensorflow<2.9,>=2.8.0->tensorflow_text) (0.24.0)\n",
            "Requirement already satisfied: tensorboard<2.9,>=2.8 in /usr/local/lib/python3.7/dist-packages (from tensorflow<2.9,>=2.8.0->tensorflow_text) (2.8.0)\n",
            "Requirement already satisfied: opt-einsum>=2.3.2 in /usr/local/lib/python3.7/dist-packages (from tensorflow<2.9,>=2.8.0->tensorflow_text) (3.3.0)\n",
            "Requirement already satisfied: gast>=0.2.1 in /usr/local/lib/python3.7/dist-packages (from tensorflow<2.9,>=2.8.0->tensorflow_text) (0.5.3)\n",
            "Requirement already satisfied: flatbuffers>=1.12 in /usr/local/lib/python3.7/dist-packages (from tensorflow<2.9,>=2.8.0->tensorflow_text) (2.0)\n",
            "Requirement already satisfied: typing-extensions>=3.6.6 in /usr/local/lib/python3.7/dist-packages (from tensorflow<2.9,>=2.8.0->tensorflow_text) (3.10.0.2)\n",
            "Requirement already satisfied: wrapt>=1.11.0 in /usr/local/lib/python3.7/dist-packages (from tensorflow<2.9,>=2.8.0->tensorflow_text) (1.14.0)\n",
            "Requirement already satisfied: google-pasta>=0.1.1 in /usr/local/lib/python3.7/dist-packages (from tensorflow<2.9,>=2.8.0->tensorflow_text) (0.2.0)\n",
            "Requirement already satisfied: setuptools in /usr/local/lib/python3.7/dist-packages (from tensorflow<2.9,>=2.8.0->tensorflow_text) (57.4.0)\n",
            "Collecting tf-estimator-nightly==2.8.0.dev2021122109\n",
            "  Downloading tf_estimator_nightly-2.8.0.dev2021122109-py2.py3-none-any.whl (462 kB)\n",
            "\u001b[K     |████████████████████████████████| 462 kB 45.0 MB/s \n",
            "\u001b[?25hRequirement already satisfied: protobuf>=3.9.2 in /usr/local/lib/python3.7/dist-packages (from tensorflow<2.9,>=2.8.0->tensorflow_text) (3.17.3)\n",
            "Requirement already satisfied: six>=1.12.0 in /usr/local/lib/python3.7/dist-packages (from tensorflow<2.9,>=2.8.0->tensorflow_text) (1.15.0)\n",
            "Requirement already satisfied: astunparse>=1.6.0 in /usr/local/lib/python3.7/dist-packages (from tensorflow<2.9,>=2.8.0->tensorflow_text) (1.6.3)\n",
            "Requirement already satisfied: libclang>=9.0.1 in /usr/local/lib/python3.7/dist-packages (from tensorflow<2.9,>=2.8.0->tensorflow_text) (13.0.0)\n",
            "Requirement already satisfied: wheel<1.0,>=0.23.0 in /usr/local/lib/python3.7/dist-packages (from astunparse>=1.6.0->tensorflow<2.9,>=2.8.0->tensorflow_text) (0.37.1)\n",
            "Requirement already satisfied: cached-property in /usr/local/lib/python3.7/dist-packages (from h5py>=2.9.0->tensorflow<2.9,>=2.8.0->tensorflow_text) (1.5.2)\n",
            "Requirement already satisfied: werkzeug>=0.11.15 in /usr/local/lib/python3.7/dist-packages (from tensorboard<2.9,>=2.8->tensorflow<2.9,>=2.8.0->tensorflow_text) (1.0.1)\n",
            "Requirement already satisfied: requests<3,>=2.21.0 in /usr/local/lib/python3.7/dist-packages (from tensorboard<2.9,>=2.8->tensorflow<2.9,>=2.8.0->tensorflow_text) (2.23.0)\n",
            "Requirement already satisfied: tensorboard-data-server<0.7.0,>=0.6.0 in /usr/local/lib/python3.7/dist-packages (from tensorboard<2.9,>=2.8->tensorflow<2.9,>=2.8.0->tensorflow_text) (0.6.1)\n",
            "Requirement already satisfied: google-auth-oauthlib<0.5,>=0.4.1 in /usr/local/lib/python3.7/dist-packages (from tensorboard<2.9,>=2.8->tensorflow<2.9,>=2.8.0->tensorflow_text) (0.4.6)\n",
            "Requirement already satisfied: google-auth<3,>=1.6.3 in /usr/local/lib/python3.7/dist-packages (from tensorboard<2.9,>=2.8->tensorflow<2.9,>=2.8.0->tensorflow_text) (1.35.0)\n",
            "Requirement already satisfied: markdown>=2.6.8 in /usr/local/lib/python3.7/dist-packages (from tensorboard<2.9,>=2.8->tensorflow<2.9,>=2.8.0->tensorflow_text) (3.3.6)\n",
            "Requirement already satisfied: tensorboard-plugin-wit>=1.6.0 in /usr/local/lib/python3.7/dist-packages (from tensorboard<2.9,>=2.8->tensorflow<2.9,>=2.8.0->tensorflow_text) (1.8.1)\n",
            "Requirement already satisfied: cachetools<5.0,>=2.0.0 in /usr/local/lib/python3.7/dist-packages (from google-auth<3,>=1.6.3->tensorboard<2.9,>=2.8->tensorflow<2.9,>=2.8.0->tensorflow_text) (4.2.4)\n",
            "Requirement already satisfied: pyasn1-modules>=0.2.1 in /usr/local/lib/python3.7/dist-packages (from google-auth<3,>=1.6.3->tensorboard<2.9,>=2.8->tensorflow<2.9,>=2.8.0->tensorflow_text) (0.2.8)\n",
            "Requirement already satisfied: rsa<5,>=3.1.4 in /usr/local/lib/python3.7/dist-packages (from google-auth<3,>=1.6.3->tensorboard<2.9,>=2.8->tensorflow<2.9,>=2.8.0->tensorflow_text) (4.8)\n",
            "Requirement already satisfied: requests-oauthlib>=0.7.0 in /usr/local/lib/python3.7/dist-packages (from google-auth-oauthlib<0.5,>=0.4.1->tensorboard<2.9,>=2.8->tensorflow<2.9,>=2.8.0->tensorflow_text) (1.3.1)\n",
            "Requirement already satisfied: importlib-metadata>=4.4 in /usr/local/lib/python3.7/dist-packages (from markdown>=2.6.8->tensorboard<2.9,>=2.8->tensorflow<2.9,>=2.8.0->tensorflow_text) (4.11.3)\n",
            "Requirement already satisfied: zipp>=0.5 in /usr/local/lib/python3.7/dist-packages (from importlib-metadata>=4.4->markdown>=2.6.8->tensorboard<2.9,>=2.8->tensorflow<2.9,>=2.8.0->tensorflow_text) (3.7.0)\n",
            "Requirement already satisfied: pyasn1<0.5.0,>=0.4.6 in /usr/local/lib/python3.7/dist-packages (from pyasn1-modules>=0.2.1->google-auth<3,>=1.6.3->tensorboard<2.9,>=2.8->tensorflow<2.9,>=2.8.0->tensorflow_text) (0.4.8)\n",
            "Requirement already satisfied: chardet<4,>=3.0.2 in /usr/local/lib/python3.7/dist-packages (from requests<3,>=2.21.0->tensorboard<2.9,>=2.8->tensorflow<2.9,>=2.8.0->tensorflow_text) (3.0.4)\n",
            "Requirement already satisfied: urllib3!=1.25.0,!=1.25.1,<1.26,>=1.21.1 in /usr/local/lib/python3.7/dist-packages (from requests<3,>=2.21.0->tensorboard<2.9,>=2.8->tensorflow<2.9,>=2.8.0->tensorflow_text) (1.24.3)\n",
            "Requirement already satisfied: idna<3,>=2.5 in /usr/local/lib/python3.7/dist-packages (from requests<3,>=2.21.0->tensorboard<2.9,>=2.8->tensorflow<2.9,>=2.8.0->tensorflow_text) (2.10)\n",
            "Requirement already satisfied: certifi>=2017.4.17 in /usr/local/lib/python3.7/dist-packages (from requests<3,>=2.21.0->tensorboard<2.9,>=2.8->tensorflow<2.9,>=2.8.0->tensorflow_text) (2021.10.8)\n",
            "Requirement already satisfied: oauthlib>=3.0.0 in /usr/local/lib/python3.7/dist-packages (from requests-oauthlib>=0.7.0->google-auth-oauthlib<0.5,>=0.4.1->tensorboard<2.9,>=2.8->tensorflow<2.9,>=2.8.0->tensorflow_text) (3.2.0)\n",
            "Installing collected packages: tf-estimator-nightly, tensorflow-text\n",
            "Successfully installed tensorflow-text-2.8.1 tf-estimator-nightly-2.8.0.dev2021122109\n"
          ]
        }
      ],
      "source": [
        "# Pip install for tensor flow text\n",
        "!pip install tensorflow_text\n",
        "import warnings\n",
        "warnings.simplefilter(action='ignore', category=FutureWarning)"
      ]
    },
    {
      "cell_type": "code",
      "execution_count": 59,
      "metadata": {
        "id": "JgGfaNpGNzu5"
      },
      "outputs": [],
      "source": [
        "#Importing our tensor flow libraries \n",
        "import tensorflow as tf\n",
        "import tensorflow_hub as hub\n",
        "import tensorflow_text as text"
      ]
    },
    {
      "cell_type": "code",
      "execution_count": 60,
      "metadata": {
        "id": "6R4k6SfAOCgZ"
      },
      "outputs": [],
      "source": [
        "tf_idf = TfidfVectorizer(max_features=12000)\n",
        "# TF-IDF feature matrix\n",
        "df['clean_content'] = df['clean_content'].apply(lambda x: ' '.join(x))\n"
      ]
    },
    {
      "cell_type": "code",
      "execution_count": 61,
      "metadata": {
        "id": "7EAHjqFlN3C1"
      },
      "outputs": [],
      "source": [
        "#Splitting into train and test\n",
        "X_train, X_test, y_train, y_test = train_test_split(df['clean_content'], df['category'], test_size=0.2, random_state=69)"
      ]
    },
    {
      "cell_type": "code",
      "execution_count": 62,
      "metadata": {
        "id": "f47-Y4DBOK1P"
      },
      "outputs": [],
      "source": [
        "#Importing our bert preprocess and encoder layes \n",
        "bert_preprocess = hub.KerasLayer(\"https://tfhub.dev/tensorflow/bert_en_uncased_preprocess/3\")\n",
        "bert_encoder = hub.KerasLayer(\"https://tfhub.dev/tensorflow/bert_en_uncased_L-12_H-768_A-12/4\")"
      ]
    },
    {
      "cell_type": "code",
      "execution_count": 63,
      "metadata": {
        "id": "Hc4Z6v1GOVI_"
      },
      "outputs": [],
      "source": [
        "# Bert layers\n",
        "text_input = tf.keras.layers.Input(shape=(), dtype=tf.string, name='text')\n",
        "preprocessed_text = bert_preprocess(text_input)\n",
        "outputs = bert_encoder(preprocessed_text)\n",
        "\n",
        "# Neural network layers\n",
        "l = tf.keras.layers.Dropout(0.1, name=\"dropout\")(outputs['pooled_output'])\n",
        "l = tf.keras.layers.Dense(1, activation='sigmoid', name=\"output\")(l)\n",
        "\n",
        "# Use inputs and outputs to construct a final model\n",
        "model = tf.keras.Model(inputs=[text_input], outputs = [l])"
      ]
    },
    {
      "cell_type": "code",
      "execution_count": 64,
      "metadata": {
        "id": "5GYiW3ysOYx6"
      },
      "outputs": [],
      "source": [
        "#Setting the metrics and compline our models with its parameters\n",
        "METRICS = [\n",
        "      tf.keras.metrics.BinaryAccuracy(name='accuracy'),\n",
        "      tf.keras.metrics.Precision(name='precision'),\n",
        "      tf.keras.metrics.Recall(name='recall')\n",
        "]\n",
        "\n",
        "model.compile(optimizer='adam',\n",
        "              loss='binary_crossentropy',\n",
        "              metrics=METRICS)"
      ]
    },
    {
      "cell_type": "code",
      "execution_count": 65,
      "metadata": {
        "id": "0sH_-9C7OcZl",
        "colab": {
          "base_uri": "https://localhost:8080/"
        },
        "outputId": "a5555d55-aa02-4e9e-9b85-fb071466c36e"
      },
      "outputs": [
        {
          "output_type": "stream",
          "name": "stdout",
          "text": [
            "33/33 [==============================] - 465s 14s/step - loss: 0.8461 - accuracy: 0.4025 - precision: 0.0000e+00 - recall: 0.0000e+00\n"
          ]
        },
        {
          "output_type": "execute_result",
          "data": {
            "text/plain": [
              "[0.8461254835128784, 0.4025218188762665, 0.0, 0.0]"
            ]
          },
          "metadata": {},
          "execution_count": 65
        }
      ],
      "source": [
        "#Evaluating our model\n",
        "model.evaluate(X_test, y_test)"
      ]
    },
    {
      "cell_type": "code",
      "execution_count": 66,
      "metadata": {
        "id": "oQK1UKHGOfFA"
      },
      "outputs": [],
      "source": [
        "#Creating our predictions with the model\n",
        "y_predicted = model.predict(X_test)\n",
        "y_predicted = y_predicted.flatten()"
      ]
    },
    {
      "cell_type": "code",
      "execution_count": 67,
      "metadata": {
        "id": "w_7-xjHqOj9K",
        "colab": {
          "base_uri": "https://localhost:8080/"
        },
        "outputId": "66eca322-8159-4584-fe20-be58af2e4e4f"
      },
      "outputs": [
        {
          "output_type": "execute_result",
          "data": {
            "text/plain": [
              "array([0, 0, 0, ..., 0, 0, 0])"
            ]
          },
          "metadata": {},
          "execution_count": 67
        }
      ],
      "source": [
        "#As the predictions are floats we have to convert them into a binary format \n",
        "y_predicted = np.where(y_predicted > 0.5, 1, 0)\n",
        "y_predicted"
      ]
    },
    {
      "cell_type": "code",
      "execution_count": 68,
      "metadata": {
        "id": "ksDHDtYVOz3Z",
        "colab": {
          "base_uri": "https://localhost:8080/"
        },
        "outputId": "feca14de-47c3-4e02-cade-d98580dee46c"
      },
      "outputs": [
        {
          "output_type": "stream",
          "name": "stdout",
          "text": [
            "[[415   0   0   0   0]\n",
            " [331   0   0   0   0]\n",
            " [268   0   0   0   0]\n",
            " [ 12   0   0   0   0]\n",
            " [  5   0   0   0   0]]\n"
          ]
        }
      ],
      "source": [
        "#The predictions confusion matrix\n",
        "print(confusion_matrix(y_test, y_predicted))"
      ]
    },
    {
      "cell_type": "code",
      "execution_count": 69,
      "metadata": {
        "id": "7Y7maEYbO0wn",
        "colab": {
          "base_uri": "https://localhost:8080/"
        },
        "outputId": "d2352770-3488-45b2-fa44-9f35f41dd85c"
      },
      "outputs": [
        {
          "output_type": "stream",
          "name": "stdout",
          "text": [
            "              precision    recall  f1-score   support\n",
            "\n",
            "           0       0.40      1.00      0.57       415\n",
            "           1       0.00      0.00      0.00       331\n",
            "           2       0.00      0.00      0.00       268\n",
            "           3       0.00      0.00      0.00        12\n",
            "           4       0.00      0.00      0.00         5\n",
            "\n",
            "    accuracy                           0.40      1031\n",
            "   macro avg       0.08      0.20      0.11      1031\n",
            "weighted avg       0.16      0.40      0.23      1031\n",
            "\n"
          ]
        }
      ],
      "source": [
        "#Checking the accuracy of models\n",
        "print(classification_report(y_test, y_predicted))"
      ]
    },
    {
      "cell_type": "markdown",
      "source": [
        "Linear SVM is the best Model"
      ],
      "metadata": {
        "id": "VGQxeX5M-vHj"
      }
    }
  ],
  "metadata": {
    "colab": {
      "name": "Swahili-News-Classification-Zindi-Challange",
      "provenance": [],
      "collapsed_sections": [
        "gDjqF3KA8jP3"
      ],
      "include_colab_link": true
    },
    "kernelspec": {
      "display_name": "Python 3",
      "name": "python3"
    },
    "language_info": {
      "name": "python"
    }
  },
  "nbformat": 4,
  "nbformat_minor": 0
}